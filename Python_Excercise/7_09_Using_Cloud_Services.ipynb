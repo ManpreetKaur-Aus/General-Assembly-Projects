{
  "cells": [
    {
      "cell_type": "markdown",
      "metadata": {
        "id": "bDDEVPE56y_r"
      },
      "source": [
        "# 7.09 Using Cloud Services\n",
        "\n",
        "In this notebook you will:\n",
        "- Connect to data hosted on Google Sheets\n",
        "- Use Python to analyze this data\n",
        "\n",
        "All in the cloud! ☁"
      ]
    },
    {
      "cell_type": "markdown",
      "metadata": {
        "id": "sgzkLojjWaHJ"
      },
      "source": [
        "## Step 1: connecting to data\n",
        "\n",
        "Our data is already hosted on Google Sheets. First we need to authenticate and make sure your Google account has access to our data (and so does Colab):"
      ]
    },
    {
      "cell_type": "code",
      "execution_count": 1,
      "metadata": {
        "id": "41pXhNtaWSPe"
      },
      "outputs": [],
      "source": [
        "from google.colab import auth\n",
        "auth.authenticate_user()"
      ]
    },
    {
      "cell_type": "markdown",
      "metadata": {
        "id": "P5krIsHHW0cV"
      },
      "source": [
        "Now we need to connect to Google Sheets. We will use the [gspread](https://github.com/burnash/gspread) library to access Google Sheet data."
      ]
    },
    {
      "cell_type": "code",
      "execution_count": 2,
      "metadata": {
        "id": "O6TISWcdW40H"
      },
      "outputs": [],
      "source": [
        "import gspread\n",
        "from google.auth import default\n",
        "creds, _ = default()\n",
        "\n",
        "gc = gspread.authorize(creds)"
      ]
    },
    {
      "cell_type": "markdown",
      "metadata": {
        "id": "0_cbgx4aXEMw"
      },
      "source": [
        "Let's connect to the spreadsheet using its url:"
      ]
    },
    {
      "cell_type": "code",
      "execution_count": 3,
      "metadata": {
        "id": "vRzZ7QWdW5Lh"
      },
      "outputs": [],
      "source": [
        "sheet_url = \"https://docs.google.com/spreadsheets/d/1VCStrcsINV5hUEZegIP4S554Zf2nfzi1SAGKYrnSEGs/edit?usp=sharing\"\n",
        "\n",
        "worksheet = gc.open_by_url(sheet_url).sheet1"
      ]
    },
    {
      "cell_type": "markdown",
      "metadata": {
        "id": "fdYIr7mJYEYz"
      },
      "source": [
        "We can quite easily import this data into `pandas`. First, we get all the values from the data (as lists of lists):"
      ]
    },
    {
      "cell_type": "code",
      "execution_count": 4,
      "metadata": {
        "colab": {
          "base_uri": "https://localhost:8080/"
        },
        "id": "VyzD1yvNYIA6",
        "outputId": "fa0e588e-1a81-4ba7-a835-0e173c9b4f39"
      },
      "outputs": [
        {
          "output_type": "execute_result",
          "data": {
            "text/plain": [
              "[['Timestamp',\n",
              "  'Rate these pizza toppings [Pepperoni]',\n",
              "  'Rate these pizza toppings [Mushrooms]',\n",
              "  'Rate these pizza toppings [Pineapple]',\n",
              "  'Rate these pizza toppings [Ham]',\n",
              "  'Rate these pizza toppings [Spinach]',\n",
              "  'Rate these pizza toppings [Olives]',\n",
              "  'Rate these pizza toppings [Sweetcorn]',\n",
              "  'Only one of these artists can keep producing music. Who do you choose?',\n",
              "  'Would you rather fight...',\n",
              "  'In miles, how long is the line that can you draw with an HB pencil before it runs out?',\n",
              "  'When was Samuel L. Jackson born? No Googling, take a guess :-)'],\n",
              " ['02/08/2022 14:13:41',\n",
              "  '4',\n",
              "  '5 - Essential',\n",
              "  '5 - Essential',\n",
              "  '3 - Take it or leave it',\n",
              "  '4',\n",
              "  '5 - Essential',\n",
              "  '2',\n",
              "  'Stormzy',\n",
              "  '100 horses that are the size of ducks',\n",
              "  '3',\n",
              "  '20/03/1970'],\n",
              " ['02/08/2022 14:14:46',\n",
              "  '5 - Essential',\n",
              "  '4',\n",
              "  '2',\n",
              "  '3 - Take it or leave it',\n",
              "  '3 - Take it or leave it',\n",
              "  '4',\n",
              "  '1 - Terrible',\n",
              "  'Foo Fighters',\n",
              "  '100 horses that are the size of ducks',\n",
              "  '5',\n",
              "  '11/06/1959']]"
            ]
          },
          "metadata": {},
          "execution_count": 4
        }
      ],
      "source": [
        "all_values = worksheet.get_all_values()\n",
        "\n",
        "# inspect a couple of lines\n",
        "all_values[:3]"
      ]
    },
    {
      "cell_type": "markdown",
      "metadata": {
        "id": "Yd4_o11MYYfg"
      },
      "source": [
        "## Step 2: Reading the data\n",
        "\n",
        "Time to read this data into `pandas` and create a DataFrame:"
      ]
    },
    {
      "cell_type": "code",
      "execution_count": 6,
      "metadata": {
        "colab": {
          "base_uri": "https://localhost:8080/",
          "height": 314
        },
        "id": "JTNjlH9OYeNg",
        "outputId": "9f4bcf39-4b45-483f-eae5-077521708fa8"
      },
      "outputs": [
        {
          "output_type": "execute_result",
          "data": {
            "text/plain": [
              "             Timestamp Rate these pizza toppings [Pepperoni]  \\\n",
              "0  02/08/2022 14:13:41                                     4   \n",
              "1  02/08/2022 14:14:46                         5 - Essential   \n",
              "2  02/08/2022 14:14:47                         5 - Essential   \n",
              "3  02/08/2022 14:14:48                                     4   \n",
              "4  02/08/2022 14:14:52                         5 - Essential   \n",
              "\n",
              "  Rate these pizza toppings [Mushrooms] Rate these pizza toppings [Pineapple]  \\\n",
              "0                         5 - Essential                         5 - Essential   \n",
              "1                                     4                                     2   \n",
              "2               3 - Take it or leave it                          1 - Terrible   \n",
              "3                                     4                                     4   \n",
              "4                          1 - Terrible               3 - Take it or leave it   \n",
              "\n",
              "  Rate these pizza toppings [Ham] Rate these pizza toppings [Spinach]  \\\n",
              "0         3 - Take it or leave it                                   4   \n",
              "1         3 - Take it or leave it             3 - Take it or leave it   \n",
              "2         3 - Take it or leave it             3 - Take it or leave it   \n",
              "3                               4             3 - Take it or leave it   \n",
              "4                   5 - Essential             3 - Take it or leave it   \n",
              "\n",
              "  Rate these pizza toppings [Olives] Rate these pizza toppings [Sweetcorn]  \\\n",
              "0                      5 - Essential                                     2   \n",
              "1                                  4                          1 - Terrible   \n",
              "2                                  2                          1 - Terrible   \n",
              "3                                  4                                     2   \n",
              "4                                  2                          1 - Terrible   \n",
              "\n",
              "  Only one of these artists can keep producing music. Who do you choose?  \\\n",
              "0                                            Stormzy                       \n",
              "1                                       Foo Fighters                       \n",
              "2                                         Ed Sheeran                       \n",
              "3                                         Ed Sheeran                       \n",
              "4                                          Lady Gaga                       \n",
              "\n",
              "               Would you rather fight...  \\\n",
              "0  100 horses that are the size of ducks   \n",
              "1  100 horses that are the size of ducks   \n",
              "2      1 duck that's the size of a horse   \n",
              "3  100 horses that are the size of ducks   \n",
              "4  100 horses that are the size of ducks   \n",
              "\n",
              "  In miles, how long is the line that can you draw with an HB pencil before it runs out?  \\\n",
              "0                                                  3                                       \n",
              "1                                                  5                                       \n",
              "2                                                 20                                       \n",
              "3                                               1000                                       \n",
              "4                                                  3                                       \n",
              "\n",
              "  When was Samuel L. Jackson born? No Googling, take a guess :-)  \n",
              "0                                         20/03/1970              \n",
              "1                                         11/06/1959              \n",
              "2                                         06/05/1970              \n",
              "3                                         12/10/1956              \n",
              "4                                         04/08/1955              "
            ],
            "text/html": [
              "\n",
              "  <div id=\"df-eea8714b-7123-4296-bb44-da34cec8039a\">\n",
              "    <div class=\"colab-df-container\">\n",
              "      <div>\n",
              "<style scoped>\n",
              "    .dataframe tbody tr th:only-of-type {\n",
              "        vertical-align: middle;\n",
              "    }\n",
              "\n",
              "    .dataframe tbody tr th {\n",
              "        vertical-align: top;\n",
              "    }\n",
              "\n",
              "    .dataframe thead th {\n",
              "        text-align: right;\n",
              "    }\n",
              "</style>\n",
              "<table border=\"1\" class=\"dataframe\">\n",
              "  <thead>\n",
              "    <tr style=\"text-align: right;\">\n",
              "      <th></th>\n",
              "      <th>Timestamp</th>\n",
              "      <th>Rate these pizza toppings [Pepperoni]</th>\n",
              "      <th>Rate these pizza toppings [Mushrooms]</th>\n",
              "      <th>Rate these pizza toppings [Pineapple]</th>\n",
              "      <th>Rate these pizza toppings [Ham]</th>\n",
              "      <th>Rate these pizza toppings [Spinach]</th>\n",
              "      <th>Rate these pizza toppings [Olives]</th>\n",
              "      <th>Rate these pizza toppings [Sweetcorn]</th>\n",
              "      <th>Only one of these artists can keep producing music. Who do you choose?</th>\n",
              "      <th>Would you rather fight...</th>\n",
              "      <th>In miles, how long is the line that can you draw with an HB pencil before it runs out?</th>\n",
              "      <th>When was Samuel L. Jackson born? No Googling, take a guess :-)</th>\n",
              "    </tr>\n",
              "  </thead>\n",
              "  <tbody>\n",
              "    <tr>\n",
              "      <th>0</th>\n",
              "      <td>02/08/2022 14:13:41</td>\n",
              "      <td>4</td>\n",
              "      <td>5 - Essential</td>\n",
              "      <td>5 - Essential</td>\n",
              "      <td>3 - Take it or leave it</td>\n",
              "      <td>4</td>\n",
              "      <td>5 - Essential</td>\n",
              "      <td>2</td>\n",
              "      <td>Stormzy</td>\n",
              "      <td>100 horses that are the size of ducks</td>\n",
              "      <td>3</td>\n",
              "      <td>20/03/1970</td>\n",
              "    </tr>\n",
              "    <tr>\n",
              "      <th>1</th>\n",
              "      <td>02/08/2022 14:14:46</td>\n",
              "      <td>5 - Essential</td>\n",
              "      <td>4</td>\n",
              "      <td>2</td>\n",
              "      <td>3 - Take it or leave it</td>\n",
              "      <td>3 - Take it or leave it</td>\n",
              "      <td>4</td>\n",
              "      <td>1 - Terrible</td>\n",
              "      <td>Foo Fighters</td>\n",
              "      <td>100 horses that are the size of ducks</td>\n",
              "      <td>5</td>\n",
              "      <td>11/06/1959</td>\n",
              "    </tr>\n",
              "    <tr>\n",
              "      <th>2</th>\n",
              "      <td>02/08/2022 14:14:47</td>\n",
              "      <td>5 - Essential</td>\n",
              "      <td>3 - Take it or leave it</td>\n",
              "      <td>1 - Terrible</td>\n",
              "      <td>3 - Take it or leave it</td>\n",
              "      <td>3 - Take it or leave it</td>\n",
              "      <td>2</td>\n",
              "      <td>1 - Terrible</td>\n",
              "      <td>Ed Sheeran</td>\n",
              "      <td>1 duck that's the size of a horse</td>\n",
              "      <td>20</td>\n",
              "      <td>06/05/1970</td>\n",
              "    </tr>\n",
              "    <tr>\n",
              "      <th>3</th>\n",
              "      <td>02/08/2022 14:14:48</td>\n",
              "      <td>4</td>\n",
              "      <td>4</td>\n",
              "      <td>4</td>\n",
              "      <td>4</td>\n",
              "      <td>3 - Take it or leave it</td>\n",
              "      <td>4</td>\n",
              "      <td>2</td>\n",
              "      <td>Ed Sheeran</td>\n",
              "      <td>100 horses that are the size of ducks</td>\n",
              "      <td>1000</td>\n",
              "      <td>12/10/1956</td>\n",
              "    </tr>\n",
              "    <tr>\n",
              "      <th>4</th>\n",
              "      <td>02/08/2022 14:14:52</td>\n",
              "      <td>5 - Essential</td>\n",
              "      <td>1 - Terrible</td>\n",
              "      <td>3 - Take it or leave it</td>\n",
              "      <td>5 - Essential</td>\n",
              "      <td>3 - Take it or leave it</td>\n",
              "      <td>2</td>\n",
              "      <td>1 - Terrible</td>\n",
              "      <td>Lady Gaga</td>\n",
              "      <td>100 horses that are the size of ducks</td>\n",
              "      <td>3</td>\n",
              "      <td>04/08/1955</td>\n",
              "    </tr>\n",
              "  </tbody>\n",
              "</table>\n",
              "</div>\n",
              "      <button class=\"colab-df-convert\" onclick=\"convertToInteractive('df-eea8714b-7123-4296-bb44-da34cec8039a')\"\n",
              "              title=\"Convert this dataframe to an interactive table.\"\n",
              "              style=\"display:none;\">\n",
              "        \n",
              "  <svg xmlns=\"http://www.w3.org/2000/svg\" height=\"24px\"viewBox=\"0 0 24 24\"\n",
              "       width=\"24px\">\n",
              "    <path d=\"M0 0h24v24H0V0z\" fill=\"none\"/>\n",
              "    <path d=\"M18.56 5.44l.94 2.06.94-2.06 2.06-.94-2.06-.94-.94-2.06-.94 2.06-2.06.94zm-11 1L8.5 8.5l.94-2.06 2.06-.94-2.06-.94L8.5 2.5l-.94 2.06-2.06.94zm10 10l.94 2.06.94-2.06 2.06-.94-2.06-.94-.94-2.06-.94 2.06-2.06.94z\"/><path d=\"M17.41 7.96l-1.37-1.37c-.4-.4-.92-.59-1.43-.59-.52 0-1.04.2-1.43.59L10.3 9.45l-7.72 7.72c-.78.78-.78 2.05 0 2.83L4 21.41c.39.39.9.59 1.41.59.51 0 1.02-.2 1.41-.59l7.78-7.78 2.81-2.81c.8-.78.8-2.07 0-2.86zM5.41 20L4 18.59l7.72-7.72 1.47 1.35L5.41 20z\"/>\n",
              "  </svg>\n",
              "      </button>\n",
              "      \n",
              "  <style>\n",
              "    .colab-df-container {\n",
              "      display:flex;\n",
              "      flex-wrap:wrap;\n",
              "      gap: 12px;\n",
              "    }\n",
              "\n",
              "    .colab-df-convert {\n",
              "      background-color: #E8F0FE;\n",
              "      border: none;\n",
              "      border-radius: 50%;\n",
              "      cursor: pointer;\n",
              "      display: none;\n",
              "      fill: #1967D2;\n",
              "      height: 32px;\n",
              "      padding: 0 0 0 0;\n",
              "      width: 32px;\n",
              "    }\n",
              "\n",
              "    .colab-df-convert:hover {\n",
              "      background-color: #E2EBFA;\n",
              "      box-shadow: 0px 1px 2px rgba(60, 64, 67, 0.3), 0px 1px 3px 1px rgba(60, 64, 67, 0.15);\n",
              "      fill: #174EA6;\n",
              "    }\n",
              "\n",
              "    [theme=dark] .colab-df-convert {\n",
              "      background-color: #3B4455;\n",
              "      fill: #D2E3FC;\n",
              "    }\n",
              "\n",
              "    [theme=dark] .colab-df-convert:hover {\n",
              "      background-color: #434B5C;\n",
              "      box-shadow: 0px 1px 3px 1px rgba(0, 0, 0, 0.15);\n",
              "      filter: drop-shadow(0px 1px 2px rgba(0, 0, 0, 0.3));\n",
              "      fill: #FFFFFF;\n",
              "    }\n",
              "  </style>\n",
              "\n",
              "      <script>\n",
              "        const buttonEl =\n",
              "          document.querySelector('#df-eea8714b-7123-4296-bb44-da34cec8039a button.colab-df-convert');\n",
              "        buttonEl.style.display =\n",
              "          google.colab.kernel.accessAllowed ? 'block' : 'none';\n",
              "\n",
              "        async function convertToInteractive(key) {\n",
              "          const element = document.querySelector('#df-eea8714b-7123-4296-bb44-da34cec8039a');\n",
              "          const dataTable =\n",
              "            await google.colab.kernel.invokeFunction('convertToInteractive',\n",
              "                                                     [key], {});\n",
              "          if (!dataTable) return;\n",
              "\n",
              "          const docLinkHtml = 'Like what you see? Visit the ' +\n",
              "            '<a target=\"_blank\" href=https://colab.research.google.com/notebooks/data_table.ipynb>data table notebook</a>'\n",
              "            + ' to learn more about interactive tables.';\n",
              "          element.innerHTML = '';\n",
              "          dataTable['output_type'] = 'display_data';\n",
              "          await google.colab.output.renderOutput(dataTable, element);\n",
              "          const docLink = document.createElement('div');\n",
              "          docLink.innerHTML = docLinkHtml;\n",
              "          element.appendChild(docLink);\n",
              "        }\n",
              "      </script>\n",
              "    </div>\n",
              "  </div>\n",
              "  "
            ]
          },
          "metadata": {},
          "execution_count": 6
        }
      ],
      "source": [
        "# Convert to a DataFrame and render.\n",
        "import pandas as pd\n",
        "\n",
        "# extract header and data into two variables\n",
        "column_names = all_values[0]\n",
        "all_data = all_values[1:]\n",
        "\n",
        "df = pd.DataFrame.from_records(data=all_data, columns=column_names)\n",
        "\n",
        "df.head()"
      ]
    },
    {
      "cell_type": "markdown",
      "metadata": {
        "id": "RZLUhqxNY5yd"
      },
      "source": [
        "# <font color=\"red\">Exercise</font>\n",
        "\n",
        "Now it's time to do some analysis and create some plots, all in your browser and all code running in the cloud!\n",
        "\n",
        "## 1. Basic statistics\n",
        "\n",
        "How many rows and columns are in the data? What does each row/column represent? How many responses do we have in total?"
      ]
    },
    {
      "cell_type": "code",
      "execution_count": 8,
      "metadata": {
        "id": "26arvacQh1cv",
        "colab": {
          "base_uri": "https://localhost:8080/"
        },
        "outputId": "5c241e18-03fd-4f6e-8ce1-7fff48c15235"
      },
      "outputs": [
        {
          "output_type": "execute_result",
          "data": {
            "text/plain": [
              "(7, 12)"
            ]
          },
          "metadata": {},
          "execution_count": 8
        }
      ],
      "source": [
        "df.shape"
      ]
    },
    {
      "cell_type": "code",
      "source": [
        "df.info()"
      ],
      "metadata": {
        "colab": {
          "base_uri": "https://localhost:8080/"
        },
        "id": "YzhXjR3q2Z0F",
        "outputId": "41f227b4-616b-4c6d-ac2b-1d634a20e725"
      },
      "execution_count": 9,
      "outputs": [
        {
          "output_type": "stream",
          "name": "stdout",
          "text": [
            "<class 'pandas.core.frame.DataFrame'>\n",
            "RangeIndex: 7 entries, 0 to 6\n",
            "Data columns (total 12 columns):\n",
            " #   Column                                                                                  Non-Null Count  Dtype \n",
            "---  ------                                                                                  --------------  ----- \n",
            " 0   Timestamp                                                                               7 non-null      object\n",
            " 1   Rate these pizza toppings [Pepperoni]                                                   7 non-null      object\n",
            " 2   Rate these pizza toppings [Mushrooms]                                                   7 non-null      object\n",
            " 3   Rate these pizza toppings [Pineapple]                                                   7 non-null      object\n",
            " 4   Rate these pizza toppings [Ham]                                                         7 non-null      object\n",
            " 5   Rate these pizza toppings [Spinach]                                                     7 non-null      object\n",
            " 6   Rate these pizza toppings [Olives]                                                      7 non-null      object\n",
            " 7   Rate these pizza toppings [Sweetcorn]                                                   7 non-null      object\n",
            " 8   Only one of these artists can keep producing music. Who do you choose?                  7 non-null      object\n",
            " 9   Would you rather fight...                                                               7 non-null      object\n",
            " 10  In miles, how long is the line that can you draw with an HB pencil before it runs out?  7 non-null      object\n",
            " 11  When was Samuel L. Jackson born? No Googling, take a guess :-)                          7 non-null      object\n",
            "dtypes: object(12)\n",
            "memory usage: 800.0+ bytes\n"
          ]
        }
      ]
    },
    {
      "cell_type": "code",
      "source": [
        "len(df)"
      ],
      "metadata": {
        "colab": {
          "base_uri": "https://localhost:8080/"
        },
        "id": "7KKwK8cf2ci2",
        "outputId": "b6e451aa-8e62-4205-dd13-8feb0db4d2df"
      },
      "execution_count": 10,
      "outputs": [
        {
          "output_type": "execute_result",
          "data": {
            "text/plain": [
              "7"
            ]
          },
          "metadata": {},
          "execution_count": 10
        }
      ]
    },
    {
      "cell_type": "markdown",
      "metadata": {
        "id": "_TzrVtguZM8-"
      },
      "source": [
        "## 2. What is the most popular pizza topping?\n",
        "\n",
        "You will need to think about the format of the data in order to answer the question.\n",
        "\n",
        "Also, make sure you extract the **numeric** component of the relevant columns , and that they have the correct data type."
      ]
    },
    {
      "cell_type": "code",
      "source": [
        "df.describe()"
      ],
      "metadata": {
        "colab": {
          "base_uri": "https://localhost:8080/",
          "height": 227
        },
        "id": "Q-cixMlR2zMa",
        "outputId": "48b8cd30-48bc-4ad7-fb59-33fb4a0282a6"
      },
      "execution_count": 15,
      "outputs": [
        {
          "output_type": "execute_result",
          "data": {
            "text/plain": [
              "                  Timestamp Rate these pizza toppings [Pepperoni]  \\\n",
              "count                     7                                     7   \n",
              "unique                    7                                     3   \n",
              "top     02/08/2022 14:13:41                         5 - Essential   \n",
              "freq                      1                                     4   \n",
              "\n",
              "       Rate these pizza toppings [Mushrooms]  \\\n",
              "count                                      7   \n",
              "unique                                     4   \n",
              "top                                        4   \n",
              "freq                                       2   \n",
              "\n",
              "       Rate these pizza toppings [Pineapple] Rate these pizza toppings [Ham]  \\\n",
              "count                                      7                               7   \n",
              "unique                                     5                               4   \n",
              "top                            5 - Essential         3 - Take it or leave it   \n",
              "freq                                       2                               3   \n",
              "\n",
              "       Rate these pizza toppings [Spinach] Rate these pizza toppings [Olives]  \\\n",
              "count                                    7                                  7   \n",
              "unique                                   3                                  4   \n",
              "top                3 - Take it or leave it                      5 - Essential   \n",
              "freq                                     4                                  2   \n",
              "\n",
              "       Rate these pizza toppings [Sweetcorn]  \\\n",
              "count                                      7   \n",
              "unique                                     3   \n",
              "top                             1 - Terrible   \n",
              "freq                                       3   \n",
              "\n",
              "       Only one of these artists can keep producing music. Who do you choose?  \\\n",
              "count                                                   7                       \n",
              "unique                                                  4                       \n",
              "top                                            Ed Sheeran                       \n",
              "freq                                                    3                       \n",
              "\n",
              "                    Would you rather fight...  \\\n",
              "count                                       7   \n",
              "unique                                      2   \n",
              "top     100 horses that are the size of ducks   \n",
              "freq                                        5   \n",
              "\n",
              "       In miles, how long is the line that can you draw with an HB pencil before it runs out?  \\\n",
              "count                                                   7                                       \n",
              "unique                                                  6                                       \n",
              "top                                                     3                                       \n",
              "freq                                                    2                                       \n",
              "\n",
              "       When was Samuel L. Jackson born? No Googling, take a guess :-)  \n",
              "count                                                   7              \n",
              "unique                                                  7              \n",
              "top                                            20/03/1970              \n",
              "freq                                                    1              "
            ],
            "text/html": [
              "\n",
              "  <div id=\"df-83527344-c7e1-4f22-86d4-d9d35a33ff5d\">\n",
              "    <div class=\"colab-df-container\">\n",
              "      <div>\n",
              "<style scoped>\n",
              "    .dataframe tbody tr th:only-of-type {\n",
              "        vertical-align: middle;\n",
              "    }\n",
              "\n",
              "    .dataframe tbody tr th {\n",
              "        vertical-align: top;\n",
              "    }\n",
              "\n",
              "    .dataframe thead th {\n",
              "        text-align: right;\n",
              "    }\n",
              "</style>\n",
              "<table border=\"1\" class=\"dataframe\">\n",
              "  <thead>\n",
              "    <tr style=\"text-align: right;\">\n",
              "      <th></th>\n",
              "      <th>Timestamp</th>\n",
              "      <th>Rate these pizza toppings [Pepperoni]</th>\n",
              "      <th>Rate these pizza toppings [Mushrooms]</th>\n",
              "      <th>Rate these pizza toppings [Pineapple]</th>\n",
              "      <th>Rate these pizza toppings [Ham]</th>\n",
              "      <th>Rate these pizza toppings [Spinach]</th>\n",
              "      <th>Rate these pizza toppings [Olives]</th>\n",
              "      <th>Rate these pizza toppings [Sweetcorn]</th>\n",
              "      <th>Only one of these artists can keep producing music. Who do you choose?</th>\n",
              "      <th>Would you rather fight...</th>\n",
              "      <th>In miles, how long is the line that can you draw with an HB pencil before it runs out?</th>\n",
              "      <th>When was Samuel L. Jackson born? No Googling, take a guess :-)</th>\n",
              "    </tr>\n",
              "  </thead>\n",
              "  <tbody>\n",
              "    <tr>\n",
              "      <th>count</th>\n",
              "      <td>7</td>\n",
              "      <td>7</td>\n",
              "      <td>7</td>\n",
              "      <td>7</td>\n",
              "      <td>7</td>\n",
              "      <td>7</td>\n",
              "      <td>7</td>\n",
              "      <td>7</td>\n",
              "      <td>7</td>\n",
              "      <td>7</td>\n",
              "      <td>7</td>\n",
              "      <td>7</td>\n",
              "    </tr>\n",
              "    <tr>\n",
              "      <th>unique</th>\n",
              "      <td>7</td>\n",
              "      <td>3</td>\n",
              "      <td>4</td>\n",
              "      <td>5</td>\n",
              "      <td>4</td>\n",
              "      <td>3</td>\n",
              "      <td>4</td>\n",
              "      <td>3</td>\n",
              "      <td>4</td>\n",
              "      <td>2</td>\n",
              "      <td>6</td>\n",
              "      <td>7</td>\n",
              "    </tr>\n",
              "    <tr>\n",
              "      <th>top</th>\n",
              "      <td>02/08/2022 14:13:41</td>\n",
              "      <td>5 - Essential</td>\n",
              "      <td>4</td>\n",
              "      <td>5 - Essential</td>\n",
              "      <td>3 - Take it or leave it</td>\n",
              "      <td>3 - Take it or leave it</td>\n",
              "      <td>5 - Essential</td>\n",
              "      <td>1 - Terrible</td>\n",
              "      <td>Ed Sheeran</td>\n",
              "      <td>100 horses that are the size of ducks</td>\n",
              "      <td>3</td>\n",
              "      <td>20/03/1970</td>\n",
              "    </tr>\n",
              "    <tr>\n",
              "      <th>freq</th>\n",
              "      <td>1</td>\n",
              "      <td>4</td>\n",
              "      <td>2</td>\n",
              "      <td>2</td>\n",
              "      <td>3</td>\n",
              "      <td>4</td>\n",
              "      <td>2</td>\n",
              "      <td>3</td>\n",
              "      <td>3</td>\n",
              "      <td>5</td>\n",
              "      <td>2</td>\n",
              "      <td>1</td>\n",
              "    </tr>\n",
              "  </tbody>\n",
              "</table>\n",
              "</div>\n",
              "      <button class=\"colab-df-convert\" onclick=\"convertToInteractive('df-83527344-c7e1-4f22-86d4-d9d35a33ff5d')\"\n",
              "              title=\"Convert this dataframe to an interactive table.\"\n",
              "              style=\"display:none;\">\n",
              "        \n",
              "  <svg xmlns=\"http://www.w3.org/2000/svg\" height=\"24px\"viewBox=\"0 0 24 24\"\n",
              "       width=\"24px\">\n",
              "    <path d=\"M0 0h24v24H0V0z\" fill=\"none\"/>\n",
              "    <path d=\"M18.56 5.44l.94 2.06.94-2.06 2.06-.94-2.06-.94-.94-2.06-.94 2.06-2.06.94zm-11 1L8.5 8.5l.94-2.06 2.06-.94-2.06-.94L8.5 2.5l-.94 2.06-2.06.94zm10 10l.94 2.06.94-2.06 2.06-.94-2.06-.94-.94-2.06-.94 2.06-2.06.94z\"/><path d=\"M17.41 7.96l-1.37-1.37c-.4-.4-.92-.59-1.43-.59-.52 0-1.04.2-1.43.59L10.3 9.45l-7.72 7.72c-.78.78-.78 2.05 0 2.83L4 21.41c.39.39.9.59 1.41.59.51 0 1.02-.2 1.41-.59l7.78-7.78 2.81-2.81c.8-.78.8-2.07 0-2.86zM5.41 20L4 18.59l7.72-7.72 1.47 1.35L5.41 20z\"/>\n",
              "  </svg>\n",
              "      </button>\n",
              "      \n",
              "  <style>\n",
              "    .colab-df-container {\n",
              "      display:flex;\n",
              "      flex-wrap:wrap;\n",
              "      gap: 12px;\n",
              "    }\n",
              "\n",
              "    .colab-df-convert {\n",
              "      background-color: #E8F0FE;\n",
              "      border: none;\n",
              "      border-radius: 50%;\n",
              "      cursor: pointer;\n",
              "      display: none;\n",
              "      fill: #1967D2;\n",
              "      height: 32px;\n",
              "      padding: 0 0 0 0;\n",
              "      width: 32px;\n",
              "    }\n",
              "\n",
              "    .colab-df-convert:hover {\n",
              "      background-color: #E2EBFA;\n",
              "      box-shadow: 0px 1px 2px rgba(60, 64, 67, 0.3), 0px 1px 3px 1px rgba(60, 64, 67, 0.15);\n",
              "      fill: #174EA6;\n",
              "    }\n",
              "\n",
              "    [theme=dark] .colab-df-convert {\n",
              "      background-color: #3B4455;\n",
              "      fill: #D2E3FC;\n",
              "    }\n",
              "\n",
              "    [theme=dark] .colab-df-convert:hover {\n",
              "      background-color: #434B5C;\n",
              "      box-shadow: 0px 1px 3px 1px rgba(0, 0, 0, 0.15);\n",
              "      filter: drop-shadow(0px 1px 2px rgba(0, 0, 0, 0.3));\n",
              "      fill: #FFFFFF;\n",
              "    }\n",
              "  </style>\n",
              "\n",
              "      <script>\n",
              "        const buttonEl =\n",
              "          document.querySelector('#df-83527344-c7e1-4f22-86d4-d9d35a33ff5d button.colab-df-convert');\n",
              "        buttonEl.style.display =\n",
              "          google.colab.kernel.accessAllowed ? 'block' : 'none';\n",
              "\n",
              "        async function convertToInteractive(key) {\n",
              "          const element = document.querySelector('#df-83527344-c7e1-4f22-86d4-d9d35a33ff5d');\n",
              "          const dataTable =\n",
              "            await google.colab.kernel.invokeFunction('convertToInteractive',\n",
              "                                                     [key], {});\n",
              "          if (!dataTable) return;\n",
              "\n",
              "          const docLinkHtml = 'Like what you see? Visit the ' +\n",
              "            '<a target=\"_blank\" href=https://colab.research.google.com/notebooks/data_table.ipynb>data table notebook</a>'\n",
              "            + ' to learn more about interactive tables.';\n",
              "          element.innerHTML = '';\n",
              "          dataTable['output_type'] = 'display_data';\n",
              "          await google.colab.output.renderOutput(dataTable, element);\n",
              "          const docLink = document.createElement('div');\n",
              "          docLink.innerHTML = docLinkHtml;\n",
              "          element.appendChild(docLink);\n",
              "        }\n",
              "      </script>\n",
              "    </div>\n",
              "  </div>\n",
              "  "
            ]
          },
          "metadata": {},
          "execution_count": 15
        }
      ]
    },
    {
      "cell_type": "code",
      "execution_count": 16,
      "metadata": {
        "id": "6MG8miXwh3QF",
        "colab": {
          "base_uri": "https://localhost:8080/"
        },
        "outputId": "5e59acc2-72f2-4f41-9ab4-a22e7719588d"
      },
      "outputs": [
        {
          "output_type": "execute_result",
          "data": {
            "text/plain": [
              "Timestamp                                                                                 object\n",
              "Rate these pizza toppings [Pepperoni]                                                     object\n",
              "Rate these pizza toppings [Mushrooms]                                                     object\n",
              "Rate these pizza toppings [Pineapple]                                                     object\n",
              "Rate these pizza toppings [Ham]                                                           object\n",
              "Rate these pizza toppings [Spinach]                                                       object\n",
              "Rate these pizza toppings [Olives]                                                        object\n",
              "Rate these pizza toppings [Sweetcorn]                                                     object\n",
              "Only one of these artists can keep producing music. Who do you choose?                    object\n",
              "Would you rather fight...                                                                 object\n",
              "In miles, how long is the line that can you draw with an HB pencil before it runs out?    object\n",
              "When was Samuel L. Jackson born? No Googling, take a guess :-)                            object\n",
              "dtype: object"
            ]
          },
          "metadata": {},
          "execution_count": 16
        }
      ],
      "source": [
        "df.dtypes"
      ]
    },
    {
      "cell_type": "code",
      "source": [
        "df.columns"
      ],
      "metadata": {
        "colab": {
          "base_uri": "https://localhost:8080/"
        },
        "id": "lwCjKpjN3Cot",
        "outputId": "69abbf14-215c-488c-d586-dc7420c2d799"
      },
      "execution_count": 18,
      "outputs": [
        {
          "output_type": "execute_result",
          "data": {
            "text/plain": [
              "Index(['Timestamp', 'Rate these pizza toppings [Pepperoni]',\n",
              "       'Rate these pizza toppings [Mushrooms]',\n",
              "       'Rate these pizza toppings [Pineapple]',\n",
              "       'Rate these pizza toppings [Ham]',\n",
              "       'Rate these pizza toppings [Spinach]',\n",
              "       'Rate these pizza toppings [Olives]',\n",
              "       'Rate these pizza toppings [Sweetcorn]',\n",
              "       'Only one of these artists can keep producing music. Who do you choose?',\n",
              "       'Would you rather fight...',\n",
              "       'In miles, how long is the line that can you draw with an HB pencil before it runs out?',\n",
              "       'When was Samuel L. Jackson born? No Googling, take a guess :-)'],\n",
              "      dtype='object')"
            ]
          },
          "metadata": {},
          "execution_count": 18
        }
      ]
    },
    {
      "cell_type": "code",
      "source": [
        "pizza_col=[]\n",
        "for column in df.columns:\n",
        "  if \"pizza\" in column:\n",
        "    pizza_col.append(column)\n",
        "print(pizza_col)\n"
      ],
      "metadata": {
        "colab": {
          "base_uri": "https://localhost:8080/"
        },
        "id": "jZbCfatA4I6r",
        "outputId": "2e17ecae-1210-40a8-8051-57e590096a87"
      },
      "execution_count": 22,
      "outputs": [
        {
          "output_type": "stream",
          "name": "stdout",
          "text": [
            "['Rate these pizza toppings [Pepperoni]', 'Rate these pizza toppings [Mushrooms]', 'Rate these pizza toppings [Pineapple]', 'Rate these pizza toppings [Ham]', 'Rate these pizza toppings [Spinach]', 'Rate these pizza toppings [Olives]', 'Rate these pizza toppings [Sweetcorn]']\n"
          ]
        }
      ]
    },
    {
      "cell_type": "code",
      "source": [
        "pizza_col"
      ],
      "metadata": {
        "colab": {
          "base_uri": "https://localhost:8080/"
        },
        "id": "GftevuRX4J9S",
        "outputId": "99b3ad71-59fa-4e2e-cbd3-d268ca085b04"
      },
      "execution_count": 30,
      "outputs": [
        {
          "output_type": "execute_result",
          "data": {
            "text/plain": [
              "['Rate these pizza toppings [Pepperoni]',\n",
              " 'Rate these pizza toppings [Mushrooms]',\n",
              " 'Rate these pizza toppings [Pineapple]',\n",
              " 'Rate these pizza toppings [Ham]',\n",
              " 'Rate these pizza toppings [Spinach]',\n",
              " 'Rate these pizza toppings [Olives]',\n",
              " 'Rate these pizza toppings [Sweetcorn]']"
            ]
          },
          "metadata": {},
          "execution_count": 30
        }
      ]
    },
    {
      "cell_type": "code",
      "source": [
        "for column in pizza_col:\n",
        "    df[column] = df[column].astype(int)\n",
        "    # print(df[column])"
      ],
      "metadata": {
        "id": "HzPjHGhHDACM"
      },
      "execution_count": 63,
      "outputs": []
    },
    {
      "cell_type": "code",
      "source": [
        "for column in pizza_col:\n",
        "    df[column] = df[column].str[0].astype(int)\n",
        "    print(df[column])"
      ],
      "metadata": {
        "colab": {
          "base_uri": "https://localhost:8080/"
        },
        "id": "VbNqxETg5OvO",
        "outputId": "574359ca-3271-4270-ffae-82c90a01668f"
      },
      "execution_count": 36,
      "outputs": [
        {
          "output_type": "stream",
          "name": "stdout",
          "text": [
            "0    4\n",
            "1    5\n",
            "2    5\n",
            "3    4\n",
            "4    5\n",
            "5    3\n",
            "6    5\n",
            "Name: Rate these pizza toppings [Pepperoni], dtype: int64\n",
            "0    5\n",
            "1    4\n",
            "2    3\n",
            "3    4\n",
            "4    1\n",
            "5    3\n",
            "6    1\n",
            "Name: Rate these pizza toppings [Mushrooms], dtype: int64\n",
            "0    5\n",
            "1    2\n",
            "2    1\n",
            "3    4\n",
            "4    3\n",
            "5    5\n",
            "6    1\n",
            "Name: Rate these pizza toppings [Pineapple], dtype: int64\n",
            "0    3\n",
            "1    3\n",
            "2    3\n",
            "3    4\n",
            "4    5\n",
            "5    1\n",
            "6    4\n",
            "Name: Rate these pizza toppings [Ham], dtype: int64\n",
            "0    4\n",
            "1    3\n",
            "2    3\n",
            "3    3\n",
            "4    3\n",
            "5    5\n",
            "6    4\n",
            "Name: Rate these pizza toppings [Spinach], dtype: int64\n",
            "0    5\n",
            "1    4\n",
            "2    2\n",
            "3    4\n",
            "4    2\n",
            "5    5\n",
            "6    1\n",
            "Name: Rate these pizza toppings [Olives], dtype: int64\n",
            "0    2\n",
            "1    1\n",
            "2    1\n",
            "3    2\n",
            "4    1\n",
            "5    5\n",
            "6    5\n",
            "Name: Rate these pizza toppings [Sweetcorn], dtype: int64\n"
          ]
        }
      ]
    },
    {
      "cell_type": "code",
      "source": [
        "df[pizza_col]"
      ],
      "metadata": {
        "colab": {
          "base_uri": "https://localhost:8080/",
          "height": 258
        },
        "id": "6UvNSoM98AR0",
        "outputId": "76c15475-1970-41dd-95f0-43dc93046577"
      },
      "execution_count": 39,
      "outputs": [
        {
          "output_type": "execute_result",
          "data": {
            "text/plain": [
              "   Rate these pizza toppings [Pepperoni]  \\\n",
              "0                                      4   \n",
              "1                                      5   \n",
              "2                                      5   \n",
              "3                                      4   \n",
              "4                                      5   \n",
              "5                                      3   \n",
              "6                                      5   \n",
              "\n",
              "   Rate these pizza toppings [Mushrooms]  \\\n",
              "0                                      5   \n",
              "1                                      4   \n",
              "2                                      3   \n",
              "3                                      4   \n",
              "4                                      1   \n",
              "5                                      3   \n",
              "6                                      1   \n",
              "\n",
              "   Rate these pizza toppings [Pineapple]  Rate these pizza toppings [Ham]  \\\n",
              "0                                      5                                3   \n",
              "1                                      2                                3   \n",
              "2                                      1                                3   \n",
              "3                                      4                                4   \n",
              "4                                      3                                5   \n",
              "5                                      5                                1   \n",
              "6                                      1                                4   \n",
              "\n",
              "   Rate these pizza toppings [Spinach]  Rate these pizza toppings [Olives]  \\\n",
              "0                                    4                                   5   \n",
              "1                                    3                                   4   \n",
              "2                                    3                                   2   \n",
              "3                                    3                                   4   \n",
              "4                                    3                                   2   \n",
              "5                                    5                                   5   \n",
              "6                                    4                                   1   \n",
              "\n",
              "   Rate these pizza toppings [Sweetcorn]  \n",
              "0                                      2  \n",
              "1                                      1  \n",
              "2                                      1  \n",
              "3                                      2  \n",
              "4                                      1  \n",
              "5                                      5  \n",
              "6                                      5  "
            ],
            "text/html": [
              "\n",
              "  <div id=\"df-c9786c7a-134e-431a-bb96-3860d87c5707\">\n",
              "    <div class=\"colab-df-container\">\n",
              "      <div>\n",
              "<style scoped>\n",
              "    .dataframe tbody tr th:only-of-type {\n",
              "        vertical-align: middle;\n",
              "    }\n",
              "\n",
              "    .dataframe tbody tr th {\n",
              "        vertical-align: top;\n",
              "    }\n",
              "\n",
              "    .dataframe thead th {\n",
              "        text-align: right;\n",
              "    }\n",
              "</style>\n",
              "<table border=\"1\" class=\"dataframe\">\n",
              "  <thead>\n",
              "    <tr style=\"text-align: right;\">\n",
              "      <th></th>\n",
              "      <th>Rate these pizza toppings [Pepperoni]</th>\n",
              "      <th>Rate these pizza toppings [Mushrooms]</th>\n",
              "      <th>Rate these pizza toppings [Pineapple]</th>\n",
              "      <th>Rate these pizza toppings [Ham]</th>\n",
              "      <th>Rate these pizza toppings [Spinach]</th>\n",
              "      <th>Rate these pizza toppings [Olives]</th>\n",
              "      <th>Rate these pizza toppings [Sweetcorn]</th>\n",
              "    </tr>\n",
              "  </thead>\n",
              "  <tbody>\n",
              "    <tr>\n",
              "      <th>0</th>\n",
              "      <td>4</td>\n",
              "      <td>5</td>\n",
              "      <td>5</td>\n",
              "      <td>3</td>\n",
              "      <td>4</td>\n",
              "      <td>5</td>\n",
              "      <td>2</td>\n",
              "    </tr>\n",
              "    <tr>\n",
              "      <th>1</th>\n",
              "      <td>5</td>\n",
              "      <td>4</td>\n",
              "      <td>2</td>\n",
              "      <td>3</td>\n",
              "      <td>3</td>\n",
              "      <td>4</td>\n",
              "      <td>1</td>\n",
              "    </tr>\n",
              "    <tr>\n",
              "      <th>2</th>\n",
              "      <td>5</td>\n",
              "      <td>3</td>\n",
              "      <td>1</td>\n",
              "      <td>3</td>\n",
              "      <td>3</td>\n",
              "      <td>2</td>\n",
              "      <td>1</td>\n",
              "    </tr>\n",
              "    <tr>\n",
              "      <th>3</th>\n",
              "      <td>4</td>\n",
              "      <td>4</td>\n",
              "      <td>4</td>\n",
              "      <td>4</td>\n",
              "      <td>3</td>\n",
              "      <td>4</td>\n",
              "      <td>2</td>\n",
              "    </tr>\n",
              "    <tr>\n",
              "      <th>4</th>\n",
              "      <td>5</td>\n",
              "      <td>1</td>\n",
              "      <td>3</td>\n",
              "      <td>5</td>\n",
              "      <td>3</td>\n",
              "      <td>2</td>\n",
              "      <td>1</td>\n",
              "    </tr>\n",
              "    <tr>\n",
              "      <th>5</th>\n",
              "      <td>3</td>\n",
              "      <td>3</td>\n",
              "      <td>5</td>\n",
              "      <td>1</td>\n",
              "      <td>5</td>\n",
              "      <td>5</td>\n",
              "      <td>5</td>\n",
              "    </tr>\n",
              "    <tr>\n",
              "      <th>6</th>\n",
              "      <td>5</td>\n",
              "      <td>1</td>\n",
              "      <td>1</td>\n",
              "      <td>4</td>\n",
              "      <td>4</td>\n",
              "      <td>1</td>\n",
              "      <td>5</td>\n",
              "    </tr>\n",
              "  </tbody>\n",
              "</table>\n",
              "</div>\n",
              "      <button class=\"colab-df-convert\" onclick=\"convertToInteractive('df-c9786c7a-134e-431a-bb96-3860d87c5707')\"\n",
              "              title=\"Convert this dataframe to an interactive table.\"\n",
              "              style=\"display:none;\">\n",
              "        \n",
              "  <svg xmlns=\"http://www.w3.org/2000/svg\" height=\"24px\"viewBox=\"0 0 24 24\"\n",
              "       width=\"24px\">\n",
              "    <path d=\"M0 0h24v24H0V0z\" fill=\"none\"/>\n",
              "    <path d=\"M18.56 5.44l.94 2.06.94-2.06 2.06-.94-2.06-.94-.94-2.06-.94 2.06-2.06.94zm-11 1L8.5 8.5l.94-2.06 2.06-.94-2.06-.94L8.5 2.5l-.94 2.06-2.06.94zm10 10l.94 2.06.94-2.06 2.06-.94-2.06-.94-.94-2.06-.94 2.06-2.06.94z\"/><path d=\"M17.41 7.96l-1.37-1.37c-.4-.4-.92-.59-1.43-.59-.52 0-1.04.2-1.43.59L10.3 9.45l-7.72 7.72c-.78.78-.78 2.05 0 2.83L4 21.41c.39.39.9.59 1.41.59.51 0 1.02-.2 1.41-.59l7.78-7.78 2.81-2.81c.8-.78.8-2.07 0-2.86zM5.41 20L4 18.59l7.72-7.72 1.47 1.35L5.41 20z\"/>\n",
              "  </svg>\n",
              "      </button>\n",
              "      \n",
              "  <style>\n",
              "    .colab-df-container {\n",
              "      display:flex;\n",
              "      flex-wrap:wrap;\n",
              "      gap: 12px;\n",
              "    }\n",
              "\n",
              "    .colab-df-convert {\n",
              "      background-color: #E8F0FE;\n",
              "      border: none;\n",
              "      border-radius: 50%;\n",
              "      cursor: pointer;\n",
              "      display: none;\n",
              "      fill: #1967D2;\n",
              "      height: 32px;\n",
              "      padding: 0 0 0 0;\n",
              "      width: 32px;\n",
              "    }\n",
              "\n",
              "    .colab-df-convert:hover {\n",
              "      background-color: #E2EBFA;\n",
              "      box-shadow: 0px 1px 2px rgba(60, 64, 67, 0.3), 0px 1px 3px 1px rgba(60, 64, 67, 0.15);\n",
              "      fill: #174EA6;\n",
              "    }\n",
              "\n",
              "    [theme=dark] .colab-df-convert {\n",
              "      background-color: #3B4455;\n",
              "      fill: #D2E3FC;\n",
              "    }\n",
              "\n",
              "    [theme=dark] .colab-df-convert:hover {\n",
              "      background-color: #434B5C;\n",
              "      box-shadow: 0px 1px 3px 1px rgba(0, 0, 0, 0.15);\n",
              "      filter: drop-shadow(0px 1px 2px rgba(0, 0, 0, 0.3));\n",
              "      fill: #FFFFFF;\n",
              "    }\n",
              "  </style>\n",
              "\n",
              "      <script>\n",
              "        const buttonEl =\n",
              "          document.querySelector('#df-c9786c7a-134e-431a-bb96-3860d87c5707 button.colab-df-convert');\n",
              "        buttonEl.style.display =\n",
              "          google.colab.kernel.accessAllowed ? 'block' : 'none';\n",
              "\n",
              "        async function convertToInteractive(key) {\n",
              "          const element = document.querySelector('#df-c9786c7a-134e-431a-bb96-3860d87c5707');\n",
              "          const dataTable =\n",
              "            await google.colab.kernel.invokeFunction('convertToInteractive',\n",
              "                                                     [key], {});\n",
              "          if (!dataTable) return;\n",
              "\n",
              "          const docLinkHtml = 'Like what you see? Visit the ' +\n",
              "            '<a target=\"_blank\" href=https://colab.research.google.com/notebooks/data_table.ipynb>data table notebook</a>'\n",
              "            + ' to learn more about interactive tables.';\n",
              "          element.innerHTML = '';\n",
              "          dataTable['output_type'] = 'display_data';\n",
              "          await google.colab.output.renderOutput(dataTable, element);\n",
              "          const docLink = document.createElement('div');\n",
              "          docLink.innerHTML = docLinkHtml;\n",
              "          element.appendChild(docLink);\n",
              "        }\n",
              "      </script>\n",
              "    </div>\n",
              "  </div>\n",
              "  "
            ]
          },
          "metadata": {},
          "execution_count": 39
        }
      ]
    },
    {
      "cell_type": "code",
      "source": [
        "type('Rate these pizza toppings [Sweetcorn]')"
      ],
      "metadata": {
        "colab": {
          "base_uri": "https://localhost:8080/"
        },
        "id": "8MNLpbutCqsg",
        "outputId": "b45269a3-c7ed-441b-f9b0-d3148dad2c6e"
      },
      "execution_count": 64,
      "outputs": [
        {
          "output_type": "execute_result",
          "data": {
            "text/plain": [
              "str"
            ]
          },
          "metadata": {},
          "execution_count": 64
        }
      ]
    },
    {
      "cell_type": "markdown",
      "metadata": {
        "id": "j0QFjAaHaaqb"
      },
      "source": [
        "## 3. Plot a bar chart to show which musician got the most votes for question 2."
      ]
    },
    {
      "cell_type": "code",
      "execution_count": 42,
      "metadata": {
        "id": "DbELe4oYh32J",
        "colab": {
          "base_uri": "https://localhost:8080/",
          "height": 333
        },
        "outputId": "3d14d7aa-533e-4968-aa51-57aff94c9a16"
      },
      "outputs": [
        {
          "output_type": "execute_result",
          "data": {
            "text/plain": [
              "<matplotlib.axes._subplots.AxesSubplot at 0x7f876809ff90>"
            ]
          },
          "metadata": {},
          "execution_count": 42
        },
        {
          "output_type": "display_data",
          "data": {
            "text/plain": [
              "<Figure size 432x288 with 1 Axes>"
            ],
            "image/png": "[encoded data removed]"
          },
          "metadata": {
            "needs_background": "light"
          }
        }
      ],
      "source": [
        "df['Only one of these artists can keep producing music. Who do you choose?'].value_counts().plot(kind='bar')"
      ]
    },
    {
      "cell_type": "markdown",
      "metadata": {
        "id": "2bxmrYiGan36"
      },
      "source": [
        "## 4. Would people rather fight small horses or giant ducks?"
      ]
    },
    {
      "cell_type": "code",
      "execution_count": 49,
      "metadata": {
        "id": "ZlOobvuOh4tO",
        "colab": {
          "base_uri": "https://localhost:8080/",
          "height": 457
        },
        "outputId": "cc54cbeb-2611-4629-e4bb-6368650c15d9"
      },
      "outputs": [
        {
          "output_type": "execute_result",
          "data": {
            "text/plain": [
              "<matplotlib.axes._subplots.AxesSubplot at 0x7f8767b73310>"
            ]
          },
          "metadata": {},
          "execution_count": 49
        },
        {
          "output_type": "display_data",
          "data": {
            "text/plain": [
              "<Figure size 432x288 with 1 Axes>"
            ],
            "image/png": "[encoded data removed]"
          },
          "metadata": {
            "needs_background": "light"
          }
        }
      ],
      "source": [
        "df['Would you rather fight...'].value_counts().plot(kind='bar')"
      ]
    },
    {
      "cell_type": "markdown",
      "metadata": {
        "id": "cSgRXd9lazty"
      },
      "source": [
        "## 5. Plot a histogram of answers for the question about the HB pencil (question 4).\n",
        "\n",
        "The correct answer is **35 miles** - how do the guesses compare?"
      ]
    },
    {
      "cell_type": "code",
      "execution_count": 66,
      "metadata": {
        "id": "KNcEjICdh5Wz",
        "colab": {
          "base_uri": "https://localhost:8080/",
          "height": 282
        },
        "outputId": "94ed2908-24e5-46d9-c0d2-1b8a10feefba"
      },
      "outputs": [
        {
          "output_type": "execute_result",
          "data": {
            "text/plain": [
              "<matplotlib.axes._subplots.AxesSubplot at 0x7f876768a450>"
            ]
          },
          "metadata": {},
          "execution_count": 66
        },
        {
          "output_type": "display_data",
          "data": {
            "text/plain": [
              "<Figure size 432x288 with 1 Axes>"
            ],
            "image/png": "[encoded data removed]"
          },
          "metadata": {
            "needs_background": "light"
          }
        }
      ],
      "source": [
        "df['In miles, how long is the line that can you draw with an HB pencil before it runs out?'].hist()"
      ]
    },
    {
      "cell_type": "markdown",
      "metadata": {
        "id": "LQx5V8DHbeRO"
      },
      "source": [
        "## 6. Samuel L. Jackson's was born on the 21st December, 1948. What was the closest guess?"
      ]
    },
    {
      "cell_type": "code",
      "execution_count": 58,
      "metadata": {
        "id": "zlST_mbOh53_",
        "colab": {
          "base_uri": "https://localhost:8080/",
          "height": 162
        },
        "outputId": "f895f86a-e2cb-49cd-8e23-0b1e777fd86d"
      },
      "outputs": [
        {
          "output_type": "execute_result",
          "data": {
            "text/plain": [
              "             Timestamp  Rate these pizza toppings [Pepperoni]  \\\n",
              "5  02/08/2022 14:15:42                                      3   \n",
              "\n",
              "   Rate these pizza toppings [Mushrooms]  \\\n",
              "5                                      3   \n",
              "\n",
              "   Rate these pizza toppings [Pineapple]  Rate these pizza toppings [Ham]  \\\n",
              "5                                      5                                1   \n",
              "\n",
              "   Rate these pizza toppings [Spinach]  Rate these pizza toppings [Olives]  \\\n",
              "5                                    5                                   5   \n",
              "\n",
              "   Rate these pizza toppings [Sweetcorn]  \\\n",
              "5                                      5   \n",
              "\n",
              "  Only one of these artists can keep producing music. Who do you choose?  \\\n",
              "5                                          Lady Gaga                       \n",
              "\n",
              "               Would you rather fight...  \\\n",
              "5  100 horses that are the size of ducks   \n",
              "\n",
              "  In miles, how long is the line that can you draw with an HB pencil before it runs out?  \\\n",
              "5                                                 35                                       \n",
              "\n",
              "  When was Samuel L. Jackson born? No Googling, take a guess :-)  \n",
              "5                                         21/12/1948              "
            ],
            "text/html": [
              "\n",
              "  <div id=\"df-4549c81c-ab04-40df-9335-49561a54a445\">\n",
              "    <div class=\"colab-df-container\">\n",
              "      <div>\n",
              "<style scoped>\n",
              "    .dataframe tbody tr th:only-of-type {\n",
              "        vertical-align: middle;\n",
              "    }\n",
              "\n",
              "    .dataframe tbody tr th {\n",
              "        vertical-align: top;\n",
              "    }\n",
              "\n",
              "    .dataframe thead th {\n",
              "        text-align: right;\n",
              "    }\n",
              "</style>\n",
              "<table border=\"1\" class=\"dataframe\">\n",
              "  <thead>\n",
              "    <tr style=\"text-align: right;\">\n",
              "      <th></th>\n",
              "      <th>Timestamp</th>\n",
              "      <th>Rate these pizza toppings [Pepperoni]</th>\n",
              "      <th>Rate these pizza toppings [Mushrooms]</th>\n",
              "      <th>Rate these pizza toppings [Pineapple]</th>\n",
              "      <th>Rate these pizza toppings [Ham]</th>\n",
              "      <th>Rate these pizza toppings [Spinach]</th>\n",
              "      <th>Rate these pizza toppings [Olives]</th>\n",
              "      <th>Rate these pizza toppings [Sweetcorn]</th>\n",
              "      <th>Only one of these artists can keep producing music. Who do you choose?</th>\n",
              "      <th>Would you rather fight...</th>\n",
              "      <th>In miles, how long is the line that can you draw with an HB pencil before it runs out?</th>\n",
              "      <th>When was Samuel L. Jackson born? No Googling, take a guess :-)</th>\n",
              "    </tr>\n",
              "  </thead>\n",
              "  <tbody>\n",
              "    <tr>\n",
              "      <th>5</th>\n",
              "      <td>02/08/2022 14:15:42</td>\n",
              "      <td>3</td>\n",
              "      <td>3</td>\n",
              "      <td>5</td>\n",
              "      <td>1</td>\n",
              "      <td>5</td>\n",
              "      <td>5</td>\n",
              "      <td>5</td>\n",
              "      <td>Lady Gaga</td>\n",
              "      <td>100 horses that are the size of ducks</td>\n",
              "      <td>35</td>\n",
              "      <td>21/12/1948</td>\n",
              "    </tr>\n",
              "  </tbody>\n",
              "</table>\n",
              "</div>\n",
              "      <button class=\"colab-df-convert\" onclick=\"convertToInteractive('df-4549c81c-ab04-40df-9335-49561a54a445')\"\n",
              "              title=\"Convert this dataframe to an interactive table.\"\n",
              "              style=\"display:none;\">\n",
              "        \n",
              "  <svg xmlns=\"http://www.w3.org/2000/svg\" height=\"24px\"viewBox=\"0 0 24 24\"\n",
              "       width=\"24px\">\n",
              "    <path d=\"M0 0h24v24H0V0z\" fill=\"none\"/>\n",
              "    <path d=\"M18.56 5.44l.94 2.06.94-2.06 2.06-.94-2.06-.94-.94-2.06-.94 2.06-2.06.94zm-11 1L8.5 8.5l.94-2.06 2.06-.94-2.06-.94L8.5 2.5l-.94 2.06-2.06.94zm10 10l.94 2.06.94-2.06 2.06-.94-2.06-.94-.94-2.06-.94 2.06-2.06.94z\"/><path d=\"M17.41 7.96l-1.37-1.37c-.4-.4-.92-.59-1.43-.59-.52 0-1.04.2-1.43.59L10.3 9.45l-7.72 7.72c-.78.78-.78 2.05 0 2.83L4 21.41c.39.39.9.59 1.41.59.51 0 1.02-.2 1.41-.59l7.78-7.78 2.81-2.81c.8-.78.8-2.07 0-2.86zM5.41 20L4 18.59l7.72-7.72 1.47 1.35L5.41 20z\"/>\n",
              "  </svg>\n",
              "      </button>\n",
              "      \n",
              "  <style>\n",
              "    .colab-df-container {\n",
              "      display:flex;\n",
              "      flex-wrap:wrap;\n",
              "      gap: 12px;\n",
              "    }\n",
              "\n",
              "    .colab-df-convert {\n",
              "      background-color: #E8F0FE;\n",
              "      border: none;\n",
              "      border-radius: 50%;\n",
              "      cursor: pointer;\n",
              "      display: none;\n",
              "      fill: #1967D2;\n",
              "      height: 32px;\n",
              "      padding: 0 0 0 0;\n",
              "      width: 32px;\n",
              "    }\n",
              "\n",
              "    .colab-df-convert:hover {\n",
              "      background-color: #E2EBFA;\n",
              "      box-shadow: 0px 1px 2px rgba(60, 64, 67, 0.3), 0px 1px 3px 1px rgba(60, 64, 67, 0.15);\n",
              "      fill: #174EA6;\n",
              "    }\n",
              "\n",
              "    [theme=dark] .colab-df-convert {\n",
              "      background-color: #3B4455;\n",
              "      fill: #D2E3FC;\n",
              "    }\n",
              "\n",
              "    [theme=dark] .colab-df-convert:hover {\n",
              "      background-color: #434B5C;\n",
              "      box-shadow: 0px 1px 3px 1px rgba(0, 0, 0, 0.15);\n",
              "      filter: drop-shadow(0px 1px 2px rgba(0, 0, 0, 0.3));\n",
              "      fill: #FFFFFF;\n",
              "    }\n",
              "  </style>\n",
              "\n",
              "      <script>\n",
              "        const buttonEl =\n",
              "          document.querySelector('#df-4549c81c-ab04-40df-9335-49561a54a445 button.colab-df-convert');\n",
              "        buttonEl.style.display =\n",
              "          google.colab.kernel.accessAllowed ? 'block' : 'none';\n",
              "\n",
              "        async function convertToInteractive(key) {\n",
              "          const element = document.querySelector('#df-4549c81c-ab04-40df-9335-49561a54a445');\n",
              "          const dataTable =\n",
              "            await google.colab.kernel.invokeFunction('convertToInteractive',\n",
              "                                                     [key], {});\n",
              "          if (!dataTable) return;\n",
              "\n",
              "          const docLinkHtml = 'Like what you see? Visit the ' +\n",
              "            '<a target=\"_blank\" href=https://colab.research.google.com/notebooks/data_table.ipynb>data table notebook</a>'\n",
              "            + ' to learn more about interactive tables.';\n",
              "          element.innerHTML = '';\n",
              "          dataTable['output_type'] = 'display_data';\n",
              "          await google.colab.output.renderOutput(dataTable, element);\n",
              "          const docLink = document.createElement('div');\n",
              "          docLink.innerHTML = docLinkHtml;\n",
              "          element.appendChild(docLink);\n",
              "        }\n",
              "      </script>\n",
              "    </div>\n",
              "  </div>\n",
              "  "
            ]
          },
          "metadata": {},
          "execution_count": 58
        }
      ],
      "source": [
        "df[df[\"When was Samuel L. Jackson born? No Googling, take a guess :-)\"] == '21/12/1948']"
      ]
    },
    {
      "cell_type": "code",
      "source": [
        ""
      ],
      "metadata": {
        "id": "XIQ4kV1FAk3L"
      },
      "execution_count": null,
      "outputs": []
    }
  ],
  "metadata": {
    "colab": {
      "collapsed_sections": [],
      "name": "7.09 Using Cloud Services.ipynb",
      "provenance": []
    },
    "kernelspec": {
      "display_name": "Python 3",
      "language": "python",
      "name": "python3"
    },
    "language_info": {
      "codemirror_mode": {
        "name": "ipython",
        "version": 3
      },
      "file_extension": ".py",
      "mimetype": "text/x-python",
      "name": "python",
      "nbconvert_exporter": "python",
      "pygments_lexer": "ipython3",
      "version": "3.6.13"
    },
    "varInspector": {
      "cols": {
        "lenName": 16,
        "lenType": 16,
        "lenVar": 40
      },
      "kernels_config": {
        "python": {
          "delete_cmd_postfix": "",
          "delete_cmd_prefix": "del ",
          "library": "var_list.py",
          "varRefreshCmd": "print(var_dic_list())"
        },
        "r": {
          "delete_cmd_postfix": ") ",
          "delete_cmd_prefix": "rm(",
          "library": "var_list.r",
          "varRefreshCmd": "cat(var_dic_list()) "
        }
      },
      "types_to_exclude": [
        "module",
        "function",
        "builtin_function_or_method",
        "instance",
        "_Feature"
      ],
      "window_display": false
    }
  },
  "nbformat": 4,
  "nbformat_minor": 0
}