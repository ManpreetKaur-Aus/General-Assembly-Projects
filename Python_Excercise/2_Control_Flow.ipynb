{
 "cells": [
  {
   "cell_type": "code",
   "execution_count": null,
   "metadata": {
    "id": "NSXUJ7P39xoz"
   },
   "outputs": [],
   "source": [
    "# 2.1 Price Conditions\n",
    "# Translate the following logical decisions into python conditionals"
   ]
  },
  {
   "cell_type": "code",
   "execution_count": 57,
   "metadata": {
    "id": "Q2sLc7c89xo3"
   },
   "outputs": [
    {
     "name": "stdout",
     "output_type": "stream",
     "text": [
      "28.749999999999996\n"
     ]
    }
   ],
   "source": [
    "# A. If the price is under 10, add 10% tax to the price. \n",
    "# Otherwise, add 15% luxury tax instead.\n",
    "price = 25\n",
    "if price <10:\n",
    "    price=price*1.1\n",
    "else:\n",
    "    price=price*1.15\n",
    "    print(price)"
   ]
  },
  {
   "cell_type": "code",
   "execution_count": 58,
   "metadata": {
    "id": "p32Ydopu9xo4"
   },
   "outputs": [
    {
     "name": "stdout",
     "output_type": "stream",
     "text": [
      "23.0\n"
     ]
    }
   ],
   "source": [
    "# B. If the customer's status is \"VIP\", lower the price by 20%\n",
    "customer = { \"name\": \"Lisa Su\", \"status\": \"VIP\" }\n",
    "\n",
    "if customer[\"status\"]==\"VIP\":\n",
    "    price=price*0.8\n",
    "    print(price)\n"
   ]
  },
  {
   "cell_type": "code",
   "execution_count": 10,
   "metadata": {
    "id": "LlS0W_ej9xo4"
   },
   "outputs": [
    {
     "name": "stdout",
     "output_type": "stream",
     "text": [
      "You get what you pay for. Get the most. Buy now for 26.15\n"
     ]
    }
   ],
   "source": [
    "# C. Let's alter our advertising based on the price of the product, filling in the blank with the price\n",
    "#    i. If the price is less than 5, print \"For less than a cup of coffee, buy now for _____\"\n",
    "#.   ii. Otherwise, if the price is less than 20, print \"Good value. Great products. Buy now for _____\"\n",
    "#.   iii. Otherwise, print \"You get what you pay for. Get the most. Buy now for ______\"\n",
    "\n",
    "if price < 5:\n",
    "    print(f\"buy now for {price}\")\n",
    "elif price <20:\n",
    "    print(f\"Good value. Great products. Buy now for {price}\")\n",
    "else:\n",
    "    print(f\"You get what you pay for. Get the most. Buy now for {price}\")"
   ]
  },
  {
   "cell_type": "code",
   "execution_count": null,
   "metadata": {},
   "outputs": [],
   "source": []
  },
  {
   "cell_type": "code",
   "execution_count": 18,
   "metadata": {
    "id": "kla5lTZv9xo5"
   },
   "outputs": [
    {
     "name": "stdout",
     "output_type": "stream",
     "text": [
      "Your best value is the 3.99 for only 90s Comedy DVD\n"
     ]
    }
   ],
   "source": [
    "# D. Given this list of products, use a conditional to figure out which has the lower price.\n",
    "#.   Print a message saying \"Your best value is the _____ for only ______\"\n",
    "#.   Fill in the blanks with the name and price of the cheaper item, respectively\n",
    "bargain_bin = [\n",
    "    {\"name\": \"90s Comedy DVD\", \"price\": 2.99},\n",
    "    {\"name\": \"80s Drama DVD\", \"price\": 3.99}\n",
    "]\n",
    "\n",
    "if bargain_bin [0] [\"price\"] < bargain_bin [1] [\"price\"]:\n",
    "    print(f\"Your best value is the {bargain_bin[1]['price']} for only {bargain_bin[0]['name']}\")\n",
    "else:\n",
    "      print(f\"Your best value is the {bargain_bin[1]['price']} for only {bargain_bin[1]['name']}\")\n",
    "          "
   ]
  },
  {
   "cell_type": "code",
   "execution_count": 13,
   "metadata": {},
   "outputs": [
    {
     "data": {
      "text/plain": [
       "{'name': '90s Comedy DVD', 'price': 2.99}"
      ]
     },
     "execution_count": 13,
     "metadata": {},
     "output_type": "execute_result"
    }
   ],
   "source": [
    "bargain_bin [0]"
   ]
  },
  {
   "cell_type": "code",
   "execution_count": null,
   "metadata": {
    "id": "Yb6BATys9xo5"
   },
   "outputs": [],
   "source": [
    "# 2.2 Complex Conditions"
   ]
  },
  {
   "cell_type": "code",
   "execution_count": 23,
   "metadata": {
    "id": "O9v25lQa9xo6"
   },
   "outputs": [
    {
     "name": "stdout",
     "output_type": "stream",
     "text": [
      "(b is a not vowel)\n"
     ]
    }
   ],
   "source": [
    "# A. Write a conditional that determines whether the letter is a vowel\n",
    "#.   Print a message stating \"___ is a vowel\" or \"___ is not a vowel\"\n",
    "letter = \"b\"\n",
    "vowel = ['a','e','i','o','u']\n",
    "\n",
    "if letter == vowel:\n",
    "    print(f\"({letter} is a vowel\")\n",
    "else:\n",
    "    print(f\"({letter} is a not vowel)\")\n",
    "    "
   ]
  },
  {
   "cell_type": "code",
   "execution_count": 27,
   "metadata": {
    "id": "zmoYvPJJ9xo7"
   },
   "outputs": [
    {
     "name": "stdout",
     "output_type": "stream",
     "text": [
      "paper beats rock, you lost!\n"
     ]
    }
   ],
   "source": [
    "# B. Determine whether the player beat the computer at rock, paper, scissors\n",
    "#    As a reminder, \"rock\" beats \"paper\", \"paper\" beats \"scissors\", and \"scissors\" beats \"rock\"\n",
    "#.   Print a message saying whether the player won, lost, or tied\n",
    "player_choice = \"rock\"\n",
    "computer_choice = \"scissors\"\n",
    "\n",
    "if player_choice ==  computer_choice:\n",
    "    print(\"its a tie\")\n",
    "elif player_choice == \"rock\":\n",
    "    if computer_choice == \"paper\":\n",
    "        print(\"rock beats paper, you won!\")\n",
    "    else:\n",
    "         print(\"paper beats rock, you lost!\")\n",
    "            \n",
    "elif player_choice == \"paper\":\n",
    "    if computer_choice == \"scissors\":\n",
    "        print(\"scissors beats paper, you won!\")\n",
    "    else:\n",
    "         print(\"paper beats scissors, you lost!\")\n",
    "            \n",
    "elif player_choice == \"paper\":\n",
    "    if computer_choice == \"rock\":\n",
    "        print(\"rock beats paper, you won!\")\n",
    "    else:\n",
    "         print(\"paper beats rock, you lost!\")\n",
    "    \n"
   ]
  },
  {
   "cell_type": "code",
   "execution_count": 28,
   "metadata": {
    "id": "bIBqKCXX9xo7"
   },
   "outputs": [
    {
     "name": "stdout",
     "output_type": "stream",
     "text": [
      " isosceles - two sides are the same length\n"
     ]
    }
   ],
   "source": [
    "# C. Write the code that determines if the triangle is:\n",
    "#      equalateral - all three sides are equal in length\n",
    "#      scalene - all three sides are unequal in length\n",
    "#      isosceles - two sides are the same length\n",
    "side_a = 5\n",
    "side_b = 7\n",
    "side_c = 5\n",
    "\n",
    "if side_a == side_b and  side_b == side_c and side_c==side_a:\n",
    "    print(\"equalateral - all three sides are equal in length\")\n",
    "    \n",
    "elif side_a != side_b and  side_b != side_c and side_c!=side_a:\n",
    "    print(\" scalene - all three sides are unequal in length\")\n",
    "    \n",
    "elif side_a == side_b or  side_b == side_c or side_c==side_a:\n",
    "    print(\" isosceles - two sides are the same length\")\n"
   ]
  },
  {
   "cell_type": "code",
   "execution_count": 123,
   "metadata": {
    "id": "3OaPle359xo8"
   },
   "outputs": [
    {
     "name": "stdout",
     "output_type": "stream",
     "text": [
      "Sep, 25 is in Fall\n"
     ]
    }
   ],
   "source": [
    "# D. Calculate what season it is based upon this chart:\n",
    "#      Dec 21 - Mar 19: Winter\n",
    "#      Mar 20 - Jun 20: Spring\n",
    "#      Jun 21 - Sep 21: Summer\n",
    "#      Sep 22 - Dec 20: Fall\n",
    "# Print the result as follows:\n",
    "#      <Mmm> <dd> is in <season> \n",
    "\n",
    "month = \"Sep\"\n",
    "day = 25\n",
    "\n",
    "if (month == \"Dec\" and day >= 21) or (month == \"Jan\") or (month == \"Feb\" ) or (month == \"Mar\" and day >=19):\n",
    "    print('{}, {} is in {}'.format (month, day,'winter'))\n",
    "\n",
    "elif (month == \"Mar\" and day >= 20) or (month == \"Apr\") or (month == \"May\" ) or (month == \"June\" and day >=20):\n",
    "    print('{}, {} is in {}'.format (month, day,'Spring'))\n",
    "\n",
    "elif (month == \"June\" and day >= 21) or (month == \"Jul\") or (month == \"Aug\" ) or (month == \"Sep\" and day <=21):\n",
    "    print('{}, {} is in {}'.format (month, day,'Summer'))\n",
    "else:\n",
    "    print('{}, {} is in {}'.format (month, day,'Fall'))\n",
    "    \n"
   ]
  },
  {
   "cell_type": "code",
   "execution_count": 124,
   "metadata": {
    "id": "0YwlimY19xo9"
   },
   "outputs": [
    {
     "name": "stdout",
     "output_type": "stream",
     "text": [
      "The boat is in a valid, productive state. Go boat!\n"
     ]
    }
   ],
   "source": [
    "# E. The Farmer's Boat\n",
    "boat = {\n",
    "    \"has_fox\": True,\n",
    "    \"has_chicken\": False,\n",
    "    \"has_grain\": True\n",
    "}\n",
    "# 1. If all three properties are true, print \"The boat was too heavy and sank\"\n",
    "# 2. If the boat's has_fox and has_chicken properties are true, print \"The fox ate the chicken\" \n",
    "# 3. If the boat's has_chicken and has_grain propertes are true, print \"The chicken ate the grain\"\n",
    "# 4. If none of them are true, print \"The boat sank from disuse\"\n",
    "# 5. Otherwise, print \"The boat is in a valid, productive state. Go boat!\"\n",
    "\n",
    "if boat[\"has_fox\"] == True and boat[\"has_chicken\"] == True and boat[\"has_grain\"] == True:\n",
    "    print(\"The boat was too heavy and sank\")\n",
    "    \n",
    "elif boat[\"has_fox\"] == True and boat[\"has_chicken\"] == True:\n",
    "    print(\"The fox ate the chicken\")\n",
    "    \n",
    "elif boat[\"has_chicken\"] == True and boat[\"has_grain\"] == True:\n",
    "    print(\"The chicken ate the grain\")\n",
    "else:\n",
    "    print(\"The boat is in a valid, productive state. Go boat!\")\n"
   ]
  },
  {
   "cell_type": "code",
   "execution_count": null,
   "metadata": {
    "id": "PtgDeGy79xo9"
   },
   "outputs": [],
   "source": [
    "# 2.3 While Loops\n",
    "# Use while loops to solve the following challenges"
   ]
  },
  {
   "cell_type": "code",
   "execution_count": 53,
   "metadata": {
    "id": "lDWMVtZm9xo-"
   },
   "outputs": [
    {
     "name": "stdout",
     "output_type": "stream",
     "text": [
      "100\t99\t98\t97\t96\t95\t94\t93\t92\t91\t90\t89\t88\t87\t86\t85\t84\t83\t82\t81\t80\t79\t78\t77\t76\t75\t74\t73\t72\t71\t70\t69\t68\t67\t66\t65\t64\t63\t62\t61\t60\t59\t58\t57\t56\t55\t54\t53\t52\t51\t50\t49\t48\t47\t46\t45\t44\t43\t42\t41\t40\t39\t38\t37\t36\t35\t34\t33\t32\t31\t30\t29\t28\t27\t26\t25\t24\t23\t22\t21\t20\t19\t18\t17\t16\t15\t14\t13\t12\t11\t10\t9\t8\t7\t6\t5\t4\t3\t2\t1\t0\t"
     ]
    }
   ],
   "source": [
    "# A. Count down from 100 to 0 with a loop, including a print statement\n",
    "\n",
    "number = 100\n",
    "while number > -1:\n",
    "    print(number, end='\\t')\n",
    "    number = number -1\n",
    "      "
   ]
  },
  {
   "cell_type": "code",
   "execution_count": 64,
   "metadata": {
    "id": "kBZCMScS9xo-"
   },
   "outputs": [
    {
     "name": "stdout",
     "output_type": "stream",
     "text": [
      "aaaaaaaaaaaaaaaaaaaa\n"
     ]
    }
   ],
   "source": [
    "# B. Construct a string consisting of 20 \"a\" characters in a row\n",
    "\n",
    "string_a =''\n",
    "\n",
    "while len(string_a) < 20:\n",
    "    string_a+= \"a\"\n",
    "print(string_a)\n",
    "    \n",
    "    "
   ]
  },
  {
   "cell_type": "code",
   "execution_count": 39,
   "metadata": {
    "id": "vRllQX009xo-"
   },
   "outputs": [
    {
     "name": "stdout",
     "output_type": "stream",
     "text": [
      "990\n",
      "980\n",
      "970\n",
      "960\n",
      "950\n"
     ]
    }
   ],
   "source": [
    "# C. Bring down the price variable by increments of 10 until it is lower than the acceptable_price\n",
    "\n",
    "price = 1000\n",
    "acceptable_price = 954\n",
    "\n",
    "while price > acceptable_price:\n",
    "    price= price-10 \n",
    "    print(price)"
   ]
  },
  {
   "cell_type": "code",
   "execution_count": null,
   "metadata": {},
   "outputs": [],
   "source": []
  },
  {
   "cell_type": "code",
   "execution_count": 56,
   "metadata": {
    "id": "C4KUwWf89xo-"
   },
   "outputs": [
    {
     "ename": "TypeError",
     "evalue": "argument of type 'NoneType' is not iterable",
     "output_type": "error",
     "traceback": [
      "\u001b[1;31m---------------------------------------------------------------------------\u001b[0m",
      "\u001b[1;31mTypeError\u001b[0m                                 Traceback (most recent call last)",
      "\u001b[1;32m<ipython-input-56-5721dc2fa682>\u001b[0m in \u001b[0;36m<module>\u001b[1;34m\u001b[0m\n\u001b[0;32m      3\u001b[0m \u001b[0mgarage\u001b[0m \u001b[1;33m=\u001b[0m \u001b[1;33m[\u001b[0m\u001b[1;34m\"bike\"\u001b[0m\u001b[1;33m,\u001b[0m \u001b[1;34m\"mess\"\u001b[0m\u001b[1;33m,\u001b[0m \u001b[1;34m\"generator\"\u001b[0m\u001b[1;33m,\u001b[0m \u001b[1;34m\"mess\"\u001b[0m\u001b[1;33m,\u001b[0m \u001b[1;34m\"mess\"\u001b[0m\u001b[1;33m,\u001b[0m \u001b[1;34m\"tools\"\u001b[0m\u001b[1;33m,\u001b[0m \u001b[1;34m\"car\"\u001b[0m\u001b[1;33m,\u001b[0m \u001b[1;34m\"mess\"\u001b[0m\u001b[1;33m]\u001b[0m\u001b[1;33m\u001b[0m\u001b[1;33m\u001b[0m\u001b[0m\n\u001b[0;32m      4\u001b[0m \u001b[1;33m\u001b[0m\u001b[0m\n\u001b[1;32m----> 5\u001b[1;33m \u001b[1;32mwhile\u001b[0m \u001b[1;34m\"mess\"\u001b[0m \u001b[1;32min\u001b[0m \u001b[0mgarage\u001b[0m\u001b[1;33m:\u001b[0m\u001b[1;33m\u001b[0m\u001b[1;33m\u001b[0m\u001b[0m\n\u001b[0m\u001b[0;32m      6\u001b[0m     \u001b[0mgarage\u001b[0m \u001b[1;33m=\u001b[0m \u001b[0mgarage\u001b[0m\u001b[1;33m.\u001b[0m\u001b[0mremove\u001b[0m\u001b[1;33m(\u001b[0m\u001b[1;34m\"mess\"\u001b[0m\u001b[1;33m)\u001b[0m\u001b[1;33m\u001b[0m\u001b[1;33m\u001b[0m\u001b[0m\n",
      "\u001b[1;31mTypeError\u001b[0m: argument of type 'NoneType' is not iterable"
     ]
    }
   ],
   "source": [
    "# D. Spring cleaning: remove all instances of \"mess\" from the garage_contents list\n",
    "#    Hint: Use the in operator to check if \"mess\" is still in the list, and .remove() to get rid of it\n",
    "garage = [\"bike\", \"mess\", \"generator\", \"mess\", \"mess\", \"tools\", \"car\", \"mess\"]\n",
    "\n",
    "while \"mess\" in garage:\n",
    "    garage = garage.remove(\"mess\")\n"
   ]
  },
  {
   "cell_type": "code",
   "execution_count": null,
   "metadata": {
    "id": "mEl7hcSk9xo_"
   },
   "outputs": [],
   "source": [
    "# 2.4 For Loops\n",
    "# Use for loops to solve the following challenges"
   ]
  },
  {
   "cell_type": "code",
   "execution_count": 67,
   "metadata": {
    "id": "8ougxS5c9xo_"
   },
   "outputs": [
    {
     "name": "stdout",
     "output_type": "stream",
     "text": [
      "2\n",
      "3\n",
      "5\n",
      "8\n"
     ]
    }
   ],
   "source": [
    "# A. Print through each number in the numbers list\n",
    "numbers = [2,3,5,8]\n",
    "\n",
    "for num in numbers:\n",
    "    print(num)"
   ]
  },
  {
   "cell_type": "code",
   "execution_count": 73,
   "metadata": {
    "id": "1Iw78Tts9xo_"
   },
   "outputs": [
    {
     "name": "stdout",
     "output_type": "stream",
     "text": [
      "18\n"
     ]
    }
   ],
   "source": [
    "# B. Add each of the numbers to the sum_total variable.\n",
    "\n",
    "numbers = [2,3,5,8]\n",
    "sum_total = 0\n",
    "\n",
    "for num in numbers:\n",
    "    sum_total=num+ sum_total\n",
    "print(sum_total)\n",
    "    "
   ]
  },
  {
   "cell_type": "code",
   "execution_count": 88,
   "metadata": {
    "id": "-q6OGmsN9xo_"
   },
   "outputs": [
    {
     "name": "stdout",
     "output_type": "stream",
     "text": [
      "(number is even 2) even\n",
      "(number is even 8) even\n"
     ]
    }
   ],
   "source": [
    "# C. Print the message \"even\" for each number that divides evenly by 2\n",
    "#    Hint: The modulus symbol, %, gives you the remainder when dividing two numbers\n",
    "\n",
    "for num in numbers:\n",
    "    if num%2==0:\n",
    "        print((f\"(number is even {num})\"),\"even\")\n",
    "   \n"
   ]
  },
  {
   "cell_type": "code",
   "execution_count": 95,
   "metadata": {
    "id": "S2Mxa5AC9xpA"
   },
   "outputs": [
    {
     "name": "stdout",
     "output_type": "stream",
     "text": [
      "odd numbers: 3\n",
      "after adding 1 to odd: 4\n",
      "odd numbers: 5\n",
      "after adding 1 to odd: 6\n"
     ]
    }
   ],
   "source": [
    "# D. Count how many even numbers there are by adding 1 to count for each even number\n",
    "even_count = 0\n",
    "\n",
    "for num in numbers:\n",
    "      if num%2==1:\n",
    "            print(\"odd numbers:\",num)\n",
    "            num+=1\n",
    "            print(\"after adding 1 to odd:\",num)\n",
    "            \n",
    "    "
   ]
  },
  {
   "cell_type": "code",
   "execution_count": null,
   "metadata": {
    "id": "o-6Tmvh89xpA"
   },
   "outputs": [],
   "source": [
    "# 2.5 List Comprehension\n",
    "# Use list comprehension to generate new lists for these challenges"
   ]
  },
  {
   "cell_type": "code",
   "execution_count": 119,
   "metadata": {
    "id": "A1qGMpVL9xpA"
   },
   "outputs": [
    {
     "data": {
      "text/plain": [
       "[\"('simon says') jump\",\n",
       " \"('simon says') duck\",\n",
       " \"('simon says') touch your toes\"]"
      ]
     },
     "execution_count": 119,
     "metadata": {},
     "output_type": "execute_result"
    }
   ],
   "source": [
    "# A. Add \"simon says \" to all strings in this list\n",
    "commands = [\"jump\", \"duck\", \"touch your toes\"]\n",
    "\n",
    "# for command in commands:\n",
    "#     print('{} {}'.format('simon says', command))\n",
    "#     print(f'(\"simon says\" {command})')\n",
    "\n",
    "new_commands = [f\"('simon says') {command}\" for command in commands]\n",
    "new_commands"
   ]
  },
  {
   "cell_type": "code",
   "execution_count": 101,
   "metadata": {
    "id": "QXsgOrxS9xpA"
   },
   "outputs": [
    {
     "data": {
      "text/plain": [
       "[76.15, 501.15, 126.15, 21.15, 44.15]"
      ]
     },
     "execution_count": 101,
     "metadata": {},
     "output_type": "execute_result"
    }
   ],
   "source": [
    "# B. Add 15% to each number above 100, and don't include other numbers\n",
    "prices = [75, 500, 125, 20, 43]\n",
    "\n",
    "new_price = [prices[price]+1.15 for price in range(len(prices))]\n",
    "new_price\n",
    "\n",
    "# for price in range(len(prices)):\n",
    "#     prices[price]+=1.15\n",
    "# print(prices)\n",
    "    "
   ]
  },
  {
   "cell_type": "code",
   "execution_count": null,
   "metadata": {
    "id": "NiGkY2eg9xpB"
   },
   "outputs": [],
   "source": [
    "# 2.6 Hold on to Your Loops\n",
    "# Use any variety of loop for the following challenges"
   ]
  },
  {
   "cell_type": "code",
   "execution_count": 137,
   "metadata": {
    "id": "rEzMeJwH9xpB"
   },
   "outputs": [
    {
     "name": "stdout",
     "output_type": "stream",
     "text": [
      "A!\n",
      "n!\n",
      "o!\n",
      "u!\n",
      "s!\n",
      "h!\n",
      "k!\n",
      "a!\n",
      "Goooo Anoushka!\n",
      "B!\n",
      "e!\n",
      "c!\n",
      "k!\n",
      "y!\n",
      "Goooo Becky!\n",
      "M!\n",
      "e!\n",
      "h!\n",
      "r!\n",
      "e!\n",
      "e!\n",
      "n!\n",
      "Goooo Mehreen!\n"
     ]
    }
   ],
   "source": [
    "# A. As a superfan, you want to chant each of the player's names in the following format:\n",
    "#    1. Spell out their name with a separate print statement for each letter, followed by an exclamation point\n",
    "#    2. Then, print the message \"Goooo _______!\" by inserting the full name in the blank\n",
    "players = [\"Anoushka\", \"Becky\", \"Mehreen\"]\n",
    "\n",
    "for player in players:\n",
    "    for letter in player:\n",
    "        print(letter + \"!\")\n",
    "    print(\"Goooo \" + player + \"!\")\n",
    "    "
   ]
  },
  {
   "cell_type": "code",
   "execution_count": 160,
   "metadata": {},
   "outputs": [
    {
     "name": "stdout",
     "output_type": "stream",
     "text": [
      "{'name': 'Don Manuel', 'flavors': ['cocoa', 'lime', 'cinnamon']}\n",
      "{'name': 'Gitwe Washed', 'flavors': ['grapefruit', 'hibiscus', 'honey']}\n"
     ]
    }
   ],
   "source": [
    "for coffee in coffee_blends:\n",
    "    print(coffee)"
   ]
  },
  {
   "cell_type": "code",
   "execution_count": 173,
   "metadata": {
    "id": "EYulSfbk9xpB"
   },
   "outputs": [
    {
     "name": "stdout",
     "output_type": "stream",
     "text": [
      "(Don Manuel \"has the following flavors\")\n",
      "(Gitwe Washed \"has the following flavors\")\n",
      "(['cocoa', 'lime', 'cinnamon'])\n",
      "(['grapefruit', 'hibiscus', 'honey'])\n"
     ]
    }
   ],
   "source": [
    "# B. Customers want to know the flavors of each coffee. Use separate print statements in the following format:\n",
    "#    First, print \"_______ has the following flavors\" using the coffee name in the blank\n",
    "#    Then, print each flavor inside the coffee's flavor list\n",
    "coffee_blends = [\n",
    "    {\"name\": \"Don Manuel\", \"flavors\": [\"cocoa\", \"lime\", \"cinnamon\"]},\n",
    "    {\"name\": \"Gitwe Washed\", \"flavors\": [\"grapefruit\", \"hibiscus\", \"honey\"]}\n",
    "]\n",
    "\n",
    "for coffee in coffee_blends:\n",
    "    print(f'({coffee[\"name\"]} \"has the following flavors\")')\n",
    "\n",
    "\n",
    "for flavor in coffee_blends:\n",
    "    print(f'({flavor[\"flavors\"]})')"
   ]
  },
  {
   "cell_type": "code",
   "execution_count": 27,
   "metadata": {},
   "outputs": [
    {
     "data": {
      "text/plain": [
       "{'item': 'tambourine', 'price': 50}"
      ]
     },
     "execution_count": 27,
     "metadata": {},
     "output_type": "execute_result"
    }
   ],
   "source": [
    "store [1]"
   ]
  },
  {
   "cell_type": "code",
   "execution_count": 30,
   "metadata": {
    "id": "c-VQWOrp9xpB"
   },
   "outputs": [
    {
     "name": "stdout",
     "output_type": "stream",
     "text": [
      "[{'item': 'mountain bike', 'price': 375}, {'item': 'tambourine', 'price': 50}, {'item': 'massage chair', 'price': 700}]\n"
     ]
    }
   ],
   "source": [
    "# C. Shop till you've dropped 1000 dollars! Add each item to the purchases list until the total price exceeds 1000\n",
    "store = [\n",
    "    {\"item\": \"mountain bike\", \"price\": 375},\n",
    "    {\"item\": \"tambourine\", \"price\": 50},\n",
    "    {\"item\": \"massage chair\", \"price\": 700},\n",
    "    {\"item\": \"worlds best programmer mug\", \"price\": 10},\n",
    "    {\"item\": \"new computer\", \"price\": 1500}\n",
    "]\n",
    "\n",
    "# purchases = []\n",
    "# total_price = 0\n",
    "\n",
    "\n",
    "\n",
    "# for items in store:\n",
    "#     #print(items)\n",
    "#     while total_price < 1001:\n",
    "#         purchases.append(items[\"item\"])\n",
    "#         total_price = total_price+items[\"price\"]\n",
    "#         \n",
    "# print(purchases)\n",
    "   \n",
    "purchases = []\n",
    "total_price = 0\n",
    "\n",
    "item_index = 0\n",
    "while total_price < 1001:\n",
    "    purchases.append(store[item_index])\n",
    "    total_price += store[item_index][\"price\"]\n",
    "    item_index += 1\n",
    "print(purchases)"
   ]
  },
  {
   "cell_type": "code",
   "execution_count": null,
   "metadata": {},
   "outputs": [],
   "source": []
  }
 ],
 "metadata": {
  "colab": {
   "name": "2_Control_Flow.ipynb",
   "provenance": []
  },
  "kernelspec": {
   "display_name": "Python 3",
   "language": "python",
   "name": "python3"
  },
  "language_info": {
   "codemirror_mode": {
    "name": "ipython",
    "version": 3
   },
   "file_extension": ".py",
   "mimetype": "text/x-python",
   "name": "python",
   "nbconvert_exporter": "python",
   "pygments_lexer": "ipython3",
   "version": "3.6.13"
  },
  "varInspector": {
   "cols": {
    "lenName": 16,
    "lenType": 16,
    "lenVar": 40
   },
   "kernels_config": {
    "python": {
     "delete_cmd_postfix": "",
     "delete_cmd_prefix": "del ",
     "library": "var_list.py",
     "varRefreshCmd": "print(var_dic_list())"
    },
    "r": {
     "delete_cmd_postfix": ") ",
     "delete_cmd_prefix": "rm(",
     "library": "var_list.r",
     "varRefreshCmd": "cat(var_dic_list()) "
    }
   },
   "types_to_exclude": [
    "module",
    "function",
    "builtin_function_or_method",
    "instance",
    "_Feature"
   ],
   "window_display": false
  }
 },
 "nbformat": 4,
 "nbformat_minor": 1
}
