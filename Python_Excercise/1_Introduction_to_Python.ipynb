{
 "cells": [
  {
   "cell_type": "code",
   "execution_count": 1,
   "metadata": {
    "id": "T_ljpoyyWDgc",
    "scrolled": true
   },
   "outputs": [
    {
     "name": "stdout",
     "output_type": "stream",
     "text": [
      "The Zen of Python, by Tim Peters\n",
      "\n",
      "Beautiful is better than ugly.\n",
      "Explicit is better than implicit.\n",
      "Simple is better than complex.\n",
      "Complex is better than complicated.\n",
      "Flat is better than nested.\n",
      "Sparse is better than dense.\n",
      "Readability counts.\n",
      "Special cases aren't special enough to break the rules.\n",
      "Although practicality beats purity.\n",
      "Errors should never pass silently.\n",
      "Unless explicitly silenced.\n",
      "In the face of ambiguity, refuse the temptation to guess.\n",
      "There should be one-- and preferably only one --obvious way to do it.\n",
      "Although that way may not be obvious at first unless you're Dutch.\n",
      "Now is better than never.\n",
      "Although never is often better than *right* now.\n",
      "If the implementation is hard to explain, it's a bad idea.\n",
      "If the implementation is easy to explain, it may be a good idea.\n",
      "Namespaces are one honking great idea -- let's do more of those!\n"
     ]
    }
   ],
   "source": [
    "# 1.1 Our First Jupyter Cell\n",
    "# Select this cell and execute it by clicking run or using the shortcut, ctrl + enter\n",
    "# This will display the \"Zen of Python,\" describing the philosophy behind python\n",
    "import this"
   ]
  },
  {
   "cell_type": "code",
   "execution_count": 2,
   "metadata": {
    "id": "fQnI5YTGWDgh"
   },
   "outputs": [
    {
     "ename": "NameError",
     "evalue": "name 'greeting' is not defined",
     "output_type": "error",
     "traceback": [
      "\u001b[1;31m---------------------------------------------------------------------------\u001b[0m",
      "\u001b[1;31mNameError\u001b[0m                                 Traceback (most recent call last)",
      "\u001b[1;32m<ipython-input-2-8d704ec294c5>\u001b[0m in \u001b[0;36m<module>\u001b[1;34m\u001b[0m\n\u001b[0;32m      4\u001b[0m \u001b[1;33m\u001b[0m\u001b[0m\n\u001b[0;32m      5\u001b[0m \u001b[1;33m\u001b[0m\u001b[0m\n\u001b[1;32m----> 6\u001b[1;33m \u001b[0mprint\u001b[0m\u001b[1;33m(\u001b[0m\u001b[0mgreeting\u001b[0m \u001b[1;33m+\u001b[0m \u001b[1;34m\", my name is \"\u001b[0m \u001b[1;33m+\u001b[0m \u001b[0mname\u001b[0m \u001b[1;33m+\u001b[0m \u001b[1;34m\" and I am \"\u001b[0m \u001b[1;33m+\u001b[0m \u001b[0mmood\u001b[0m \u001b[1;33m+\u001b[0m \u001b[1;34m\" about learning python.\"\u001b[0m\u001b[1;33m)\u001b[0m\u001b[1;33m\u001b[0m\u001b[1;33m\u001b[0m\u001b[0m\n\u001b[0m",
      "\u001b[1;31mNameError\u001b[0m: name 'greeting' is not defined"
     ]
    }
   ],
   "source": [
    "# 1.2 Introduce Yourself\n",
    "# Define the variables greeting, name, and mood, and assign them string-type values\n",
    "# Then, execute this cell to see an introduction message printed to the console\n",
    "\n",
    "\n",
    "print(greeting + \", my name is \" + name + \" and I am \" + mood + \" about learning python.\")"
   ]
  },
  {
   "cell_type": "code",
   "execution_count": 10,
   "metadata": {},
   "outputs": [
    {
     "name": "stdout",
     "output_type": "stream",
     "text": [
      "Hi, my name is Manpreet Kaur and I am in Great mood about learning python.\n"
     ]
    }
   ],
   "source": [
    "greeting ='Hi'\n",
    "name = 'Manpreet Kaur'\n",
    "mood = 'in Great mood'\n",
    "\n",
    "print(greeting + \", my name is \" + name + \" and I am \" + mood + \" about learning python.\")"
   ]
  },
  {
   "cell_type": "markdown",
   "metadata": {
    "id": "LZkpKhr-fdXO"
   },
   "source": [
    "### **1.3 Operators and Updating Variables**"
   ]
  },
  {
   "cell_type": "code",
   "execution_count": 34,
   "metadata": {
    "id": "GXAjVAg-WDgi"
   },
   "outputs": [],
   "source": [
    "# Define numeric variables for the month and day of your birthdate to be used whenever requested\n",
    "\n",
    "\n",
    "# Write a new line of code beneath each comment, always updating the birthdate variable as you do so\n",
    "birthdate = 7\n",
    "\n",
    "month = 9\n",
    "\n",
    "day = 1"
   ]
  },
  {
   "cell_type": "code",
   "execution_count": 37,
   "metadata": {
    "id": "gl-n8kjyXCq7"
   },
   "outputs": [
    {
     "data": {
      "text/plain": [
       "9"
      ]
     },
     "execution_count": 37,
     "metadata": {},
     "output_type": "execute_result"
    }
   ],
   "source": [
    "# Multiply by the month of your birthday\n",
    "\n",
    "birthdate= day * month\n",
    "birthdate"
   ]
  },
  {
   "cell_type": "code",
   "execution_count": 38,
   "metadata": {
    "id": "Gph0tQXZXC8A"
   },
   "outputs": [
    {
     "data": {
      "text/plain": [
       "8"
      ]
     },
     "execution_count": 38,
     "metadata": {},
     "output_type": "execute_result"
    }
   ],
   "source": [
    "# Subtract 1\n",
    "\n",
    "birthdate = birthdate-1\n",
    "birthdate"
   ]
  },
  {
   "cell_type": "code",
   "execution_count": 39,
   "metadata": {
    "id": "ZWnGb2p9XDDb"
   },
   "outputs": [
    {
     "data": {
      "text/plain": [
       "104"
      ]
     },
     "execution_count": 39,
     "metadata": {},
     "output_type": "execute_result"
    }
   ],
   "source": [
    "# Multiply by 13\n",
    "\n",
    "birthdate = birthdate * 13\n",
    "birthdate"
   ]
  },
  {
   "cell_type": "code",
   "execution_count": 40,
   "metadata": {
    "id": "XgogPdrEXDJ_"
   },
   "outputs": [
    {
     "data": {
      "text/plain": [
       "105"
      ]
     },
     "execution_count": 40,
     "metadata": {},
     "output_type": "execute_result"
    }
   ],
   "source": [
    "# Add the day of your birth\n",
    "\n",
    "birthdate = birthdate + day\n",
    "birthdate"
   ]
  },
  {
   "cell_type": "code",
   "execution_count": 41,
   "metadata": {
    "id": "6HmtCXxOXOhm"
   },
   "outputs": [
    {
     "data": {
      "text/plain": [
       "108"
      ]
     },
     "execution_count": 41,
     "metadata": {},
     "output_type": "execute_result"
    }
   ],
   "source": [
    "# Add 3\n",
    "\n",
    "birthdate = birthdate + 3\n",
    "birthdate"
   ]
  },
  {
   "cell_type": "code",
   "execution_count": 42,
   "metadata": {
    "id": "1lJ11XBNXOkP"
   },
   "outputs": [
    {
     "data": {
      "text/plain": [
       "1188"
      ]
     },
     "execution_count": 42,
     "metadata": {},
     "output_type": "execute_result"
    }
   ],
   "source": [
    "# Multiply by 11\n",
    "\n",
    "birthdate = birthdate * 11\n",
    "birthdate"
   ]
  },
  {
   "cell_type": "code",
   "execution_count": 43,
   "metadata": {
    "id": "Kl1zRl9rXOmr"
   },
   "outputs": [
    {
     "data": {
      "text/plain": [
       "1179"
      ]
     },
     "execution_count": 43,
     "metadata": {},
     "output_type": "execute_result"
    }
   ],
   "source": [
    "# Subtract the month of your birth\n",
    "\n",
    "birthdate = birthdate - month\n",
    "birthdate\n"
   ]
  },
  {
   "cell_type": "code",
   "execution_count": 44,
   "metadata": {
    "id": "jqFLcBQlXDRa"
   },
   "outputs": [
    {
     "data": {
      "text/plain": [
       "1178"
      ]
     },
     "execution_count": 44,
     "metadata": {},
     "output_type": "execute_result"
    }
   ],
   "source": [
    "# Subtract the day of your birth\n",
    "\n",
    "birthdate = birthdate - day\n",
    "birthdate\n"
   ]
  },
  {
   "cell_type": "code",
   "execution_count": 27,
   "metadata": {
    "id": "Dku4TTVTXUTz"
   },
   "outputs": [
    {
     "data": {
      "text/plain": [
       "0.7"
      ]
     },
     "execution_count": 27,
     "metadata": {},
     "output_type": "execute_result"
    }
   ],
   "source": [
    "# Divide by 10\n",
    "\n",
    "birthdate = birthdate / 10\n"
   ]
  },
  {
   "cell_type": "code",
   "execution_count": 45,
   "metadata": {
    "id": "VIDFvGFdXUbG"
   },
   "outputs": [
    {
     "data": {
      "text/plain": [
       "1189"
      ]
     },
     "execution_count": 45,
     "metadata": {},
     "output_type": "execute_result"
    }
   ],
   "source": [
    "# Add 11\n",
    "\n",
    "birthdate = birthdate + 11\n",
    "birthdate\n"
   ]
  },
  {
   "cell_type": "code",
   "execution_count": 46,
   "metadata": {
    "id": "5jP86Bc3XDYq"
   },
   "outputs": [
    {
     "data": {
      "text/plain": [
       "11.89"
      ]
     },
     "execution_count": 46,
     "metadata": {},
     "output_type": "execute_result"
    }
   ],
   "source": [
    "# Divide by 100\n",
    "\n",
    "birthdate =birthdate /100\n",
    "birthdate"
   ]
  },
  {
   "cell_type": "code",
   "execution_count": 47,
   "metadata": {
    "id": "4pLBSJBaXZbQ"
   },
   "outputs": [
    {
     "name": "stdout",
     "output_type": "stream",
     "text": [
      "11.89\n"
     ]
    }
   ],
   "source": [
    "# birthdate should now be a floating point number with the day.month of your birthday\n",
    "print(birthdate)\n",
    "\n"
   ]
  },
  {
   "cell_type": "code",
   "execution_count": 55,
   "metadata": {},
   "outputs": [
    {
     "name": "stdout",
     "output_type": "stream",
     "text": [
      "0 , 10.0\n",
      "1 , 9.090909090909092\n"
     ]
    }
   ],
   "source": [
    "# Modulus Opertaor--- remainder \n",
    "\n",
    "print(100 % 10, ',', 100/10)\n",
    "\n",
    "print(100 % 11, ',', 100/11)\n"
   ]
  },
  {
   "cell_type": "code",
   "execution_count": 56,
   "metadata": {},
   "outputs": [
    {
     "name": "stdout",
     "output_type": "stream",
     "text": [
      "10 , 10.0\n",
      "9 , 9.090909090909092\n"
     ]
    }
   ],
   "source": [
    "# Floor division --- lower side of number\n",
    "\n",
    "print(100 // 10, ',', 100/10)\n",
    "\n",
    "print(100 // 11, ',', 100/11)\n"
   ]
  },
  {
   "cell_type": "code",
   "execution_count": 53,
   "metadata": {},
   "outputs": [
    {
     "name": "stdout",
     "output_type": "stream",
     "text": [
      "8\n"
     ]
    }
   ],
   "source": [
    "# Exponenet\n",
    "\n",
    "print(2**3)"
   ]
  },
  {
   "cell_type": "code",
   "execution_count": 60,
   "metadata": {},
   "outputs": [
    {
     "data": {
      "text/plain": [
       "'Hello there, Manpreet Kaur.'"
      ]
     },
     "execution_count": 60,
     "metadata": {},
     "output_type": "execute_result"
    }
   ],
   "source": [
    "message_1 = greeting + ','+ name+'.'\n",
    "message = f\"{greeting}, {name}.\"\n",
    "message"
   ]
  },
  {
   "cell_type": "code",
   "execution_count": null,
   "metadata": {},
   "outputs": [],
   "source": []
  },
  {
   "cell_type": "markdown",
   "metadata": {
    "heading_collapsed": true,
    "id": "ia_Fd6jifi8z"
   },
   "source": [
    "### **1.4 Python Mad Libs**"
   ]
  },
  {
   "cell_type": "code",
   "execution_count": null,
   "metadata": {
    "hidden": true,
    "id": "_7kIOY6WWDgj"
   },
   "outputs": [],
   "source": [
    "# Create a Mad Libs style game using string concatenation\n",
    "# First, define at least 7 variables with names such as adjective_one or noun_three\n",
    "# Then, plug those variables into a long string that tells a story using those variables\n"
   ]
  },
  {
   "cell_type": "code",
   "execution_count": null,
   "metadata": {
    "hidden": true,
    "id": "51L8aLt7Y3Bn"
   },
   "outputs": [],
   "source": [
    "# Stretch: repeat the above using the \"f-string\" style string interpolation, which is a way to format strings.  You can read more about them here:\n",
    "# Short: https://www.geeksforgeeks.org/formatted-string-literals-f-strings-python/\n",
    "# Longer, with explanation of older syntax as well as new:https://realpython.com/python-f-strings/\n"
   ]
  },
  {
   "cell_type": "markdown",
   "metadata": {
    "id": "0cGesXeufC4O"
   },
   "source": [
    "### **1.5 Code Fast and Break Things**"
   ]
  },
  {
   "cell_type": "code",
   "execution_count": 1,
   "metadata": {
    "id": "5rX-6ZXpWDgj"
   },
   "outputs": [],
   "source": [
    "# Each of the following lines of code is mistaken in some way\n",
    "# Either they contain errors or don't do what the user would expect them to\n",
    "# Correct each example, and write a comment explaining what went wrong"
   ]
  },
  {
   "cell_type": "code",
   "execution_count": 2,
   "metadata": {
    "id": "GN9FnKQ1WDgk"
   },
   "outputs": [
    {
     "ename": "NameError",
     "evalue": "name 'my_variable' is not defined",
     "output_type": "error",
     "traceback": [
      "\u001b[1;31m---------------------------------------------------------------------------\u001b[0m",
      "\u001b[1;31mNameError\u001b[0m                                 Traceback (most recent call last)",
      "\u001b[1;32m<ipython-input-2-ed861331fc53>\u001b[0m in \u001b[0;36m<module>\u001b[1;34m\u001b[0m\n\u001b[0;32m      1\u001b[0m \u001b[1;31m# A.\u001b[0m\u001b[1;33m\u001b[0m\u001b[1;33m\u001b[0m\u001b[1;33m\u001b[0m\u001b[0m\n\u001b[1;32m----> 2\u001b[1;33m \u001b[0mmy_variable\u001b[0m\u001b[1;33m\u001b[0m\u001b[1;33m\u001b[0m\u001b[0m\n\u001b[0m\u001b[0;32m      3\u001b[0m \u001b[0mprint\u001b[0m\u001b[1;33m(\u001b[0m\u001b[0mmy_variable\u001b[0m\u001b[1;33m)\u001b[0m\u001b[1;33m\u001b[0m\u001b[1;33m\u001b[0m\u001b[0m\n",
      "\u001b[1;31mNameError\u001b[0m: name 'my_variable' is not defined"
     ]
    }
   ],
   "source": [
    "# A.\n",
    "my_variable\n",
    "print(my_variable)"
   ]
  },
  {
   "cell_type": "code",
   "execution_count": null,
   "metadata": {
    "id": "FiQqiPwnWDgk"
   },
   "outputs": [],
   "source": [
    "# B.\n",
    "# Why didn't it print ten?\n",
    "my_number = 5\n",
    "my_number + 5\n",
    "print(my_number)"
   ]
  },
  {
   "cell_type": "code",
   "execution_count": null,
   "metadata": {
    "id": "RNDAjxoMWDgl"
   },
   "outputs": [],
   "source": [
    "# C.\n",
    "my_num = 5\n",
    "my_string = \"Hello\"\n",
    "print(my_num + my_string)"
   ]
  },
  {
   "cell_type": "code",
   "execution_count": null,
   "metadata": {
    "id": "0invT4TyWDgl"
   },
   "outputs": [],
   "source": [
    "# D.\n",
    "# The user expected the result to be 30!\n",
    "my_num1 = \"10\"\n",
    "my_num2 = \"20\"\n",
    "print(my_num1 + my_num2)"
   ]
  },
  {
   "cell_type": "code",
   "execution_count": null,
   "metadata": {
    "id": "ipVT9_6tWDgm"
   },
   "outputs": [],
   "source": [
    "# E.\n",
    "# The user expected the message to read \"I enjoy python in the morning.\"\n",
    "language = \"python\"\n",
    "print(f\"I enjoy language in the morning\")"
   ]
  },
  {
   "cell_type": "code",
   "execution_count": null,
   "metadata": {
    "id": "6wJqRJsLWDgm"
   },
   "outputs": [],
   "source": [
    "# F.\n",
    "# The user expected the message to read \"There are 2 plums at home for me\"\n",
    "number_of_plums = 2\n",
    "who_plums_are_for = me\n",
    "print(\"There are \" + number_of_plums + \" plums at home for \" + who_plums_are_for)"
   ]
  },
  {
   "cell_type": "markdown",
   "metadata": {
    "heading_collapsed": true,
    "id": "1F8uN18NfLly"
   },
   "source": [
    "### **1.6 Colors of the Rainbow**"
   ]
  },
  {
   "cell_type": "code",
   "execution_count": 24,
   "metadata": {
    "hidden": true,
    "id": "rp46IPLOWDgm"
   },
   "outputs": [
    {
     "data": {
      "text/plain": [
       "['red', 'orange', 'yellow', 'green', 'blue', 'indigo', 'violet']"
      ]
     },
     "execution_count": 24,
     "metadata": {},
     "output_type": "execute_result"
    }
   ],
   "source": [
    "# A. Make a list called colors that stores 7 strings, each a color of the rainbow\n",
    "\n",
    "rainbow = [\"red\"]\n",
    "rainbow.append(\"orange\")\n",
    "rainbow.append(\"yellow\")\n",
    "rainbow.append(\"green\")\n",
    "rainbow.append(\"blue\")\n",
    "rainbow.append(\"indigo\")\n",
    "rainbow.append(\"violet\")\n",
    "\n",
    "rainbow\n"
   ]
  },
  {
   "cell_type": "code",
   "execution_count": 33,
   "metadata": {
    "hidden": true,
    "id": "fN5tXjUndnhk"
   },
   "outputs": [
    {
     "name": "stdout",
     "output_type": "stream",
     "text": [
      "['Lightning Yellow', 'Deep Sea Blue', 'yellow', 'green', 'blue', 'indigo', 'violet']\n",
      "['Lightning Yellow', 'Deep Sea Blue', 'yellow', 'green', 'blue', 'indigo', 'violet']\n",
      "colors of the rainbows are: Lightning Yellow, Deep Sea Blue,  yellow,  green,  blue,  indigo, violet\n"
     ]
    }
   ],
   "source": [
    "# B. Then, print the following string, using list indices to access the specific colors:\n",
    "# \"The colors of the rainbow are red, orange, yellow, green, blue, indigo, and violet\"\n",
    "#  String concatenation might get a bit complex to read: try using an f-string for string interpolation!\n",
    "\n",
    "print(rainbow)\n",
    "print(rainbow[:])\n",
    "print(f\"colors of the rainbows are: {rainbow[0]}, {rainbow[1]},  {rainbow[2]},  {rainbow[3]},  {rainbow[4]},  {rainbow[5]}, {rainbow[6]}\" )\n"
   ]
  },
  {
   "cell_type": "code",
   "execution_count": 28,
   "metadata": {
    "hidden": true,
    "id": "oyzmW_xFdnrR"
   },
   "outputs": [
    {
     "data": {
      "text/plain": [
       "['Lightning Yellow',\n",
       " 'Deep Sea Blue',\n",
       " 'yellow',\n",
       " 'green',\n",
       " 'blue',\n",
       " 'indigo',\n",
       " 'violet']"
      ]
     },
     "execution_count": 28,
     "metadata": {},
     "output_type": "execute_result"
    }
   ],
   "source": [
    "# C. Change two of the colors to more descriptive names, such as \"Lightning Yellow\" or \"Deep Sea Blue\"\n",
    "\n",
    "rainbow[0] = \"Lightning Yellow\"\n",
    "rainbow[1] = \"Deep Sea Blue\"\n",
    "rainbow_update =rainbow\n",
    "rainbow_update"
   ]
  },
  {
   "cell_type": "code",
   "execution_count": 20,
   "metadata": {
    "hidden": true,
    "id": "aHZM1vJ2drbd"
   },
   "outputs": [
    {
     "name": "stdout",
     "output_type": "stream",
     "text": [
      "the updated rainbow colors are :Lightning Yellow, Deep Sea Blue\n"
     ]
    }
   ],
   "source": [
    "# D. Print the two new color names using list indices to access them\n",
    "\n",
    "print(f\"the updated rainbow colors are :{rainbow[0]}, {rainbow[1]}\")\n",
    "\n"
   ]
  },
  {
   "cell_type": "code",
   "execution_count": 31,
   "metadata": {
    "hidden": true,
    "id": "5sKNzZzidnx3"
   },
   "outputs": [
    {
     "name": "stdout",
     "output_type": "stream",
     "text": [
      "['Lightning Yellow', 'Deep Sea Blue', 'yellow', 'green', 'blue', 'indigo', 'violet']\n"
     ]
    }
   ],
   "source": [
    "# E. Print the colors variable to see the difference between printing a specific item and printing the list itself\n",
    "\n",
    "print(rainbow_update)"
   ]
  },
  {
   "cell_type": "markdown",
   "metadata": {
    "id": "LOKvnEnde8m7"
   },
   "source": [
    "### **1.7 The Wait List**"
   ]
  },
  {
   "cell_type": "code",
   "execution_count": 36,
   "metadata": {
    "id": "qZKSMttCWDgn"
   },
   "outputs": [
    {
     "data": {
      "text/plain": [
       "['Alice', 'Boris', 'Carmen', 'Diego']"
      ]
     },
     "execution_count": 36,
     "metadata": {},
     "output_type": "execute_result"
    }
   ],
   "source": [
    "# You will have to research some new methods to use for these challenges\n",
    "# You can use print statements to investigate whether your changes have succeeded as expected\n",
    "candidates = [\"Alice\", \"Boris\", \"Carmen\"]\n",
    "\n",
    "# A. A promising new applicant, Diego, needs to be added to the end of the list\n",
    "\n",
    "candidates.append(\"Diego\")\n",
    "candidates"
   ]
  },
  {
   "cell_type": "code",
   "execution_count": 38,
   "metadata": {
    "id": "qZKSMttCWDgn"
   },
   "outputs": [
    {
     "data": {
      "text/plain": [
       "['Alyce', 'Boris', 'Carmen', 'Diego']"
      ]
     },
     "execution_count": 38,
     "metadata": {},
     "output_type": "execute_result"
    }
   ],
   "source": [
    "# B. Alice has informed us of a typo on their application: change their name to \"Alyce\"\n",
    "candidates[0]=\"Alyce\"\n",
    "candidates"
   ]
  },
  {
   "cell_type": "code",
   "execution_count": 39,
   "metadata": {
    "id": "6NMLm6EJd6C7"
   },
   "outputs": [
    {
     "data": {
      "text/plain": [
       "['Aaron', 'Alyce', 'Boris', 'Carmen', 'Diego']"
      ]
     },
     "execution_count": 39,
     "metadata": {},
     "output_type": "execute_result"
    }
   ],
   "source": [
    "# C. One of our generous donors has a nephew, Aaron, who should be added to the very front of the list\n",
    "\n",
    "candidates.insert(0, \"Aaron\")\n",
    "candidates"
   ]
  },
  {
   "cell_type": "code",
   "execution_count": 41,
   "metadata": {
    "id": "07MU6gIudyNf"
   },
   "outputs": [
    {
     "data": {
      "text/plain": [
       "2"
      ]
     },
     "execution_count": 41,
     "metadata": {},
     "output_type": "execute_result"
    }
   ],
   "source": [
    "# D. Boris's parents are concerned. Use the .index() method to print a message explaining Boris's place in the list\n",
    "\n",
    "candidates.index(\"Boris\")\n"
   ]
  },
  {
   "cell_type": "code",
   "execution_count": 43,
   "metadata": {
    "id": "_71Z-m8idyfN"
   },
   "outputs": [
    {
     "ename": "ValueError",
     "evalue": "list.remove(x): x not in list",
     "output_type": "error",
     "traceback": [
      "\u001b[1;31m---------------------------------------------------------------------------\u001b[0m",
      "\u001b[1;31mValueError\u001b[0m                                Traceback (most recent call last)",
      "\u001b[1;32m<ipython-input-43-35ca1f518b43>\u001b[0m in \u001b[0;36m<module>\u001b[1;34m\u001b[0m\n\u001b[0;32m      2\u001b[0m \u001b[1;31m#    Use the .remove() method to remove them from the list.\u001b[0m\u001b[1;33m\u001b[0m\u001b[1;33m\u001b[0m\u001b[1;33m\u001b[0m\u001b[0m\n\u001b[0;32m      3\u001b[0m \u001b[1;33m\u001b[0m\u001b[0m\n\u001b[1;32m----> 4\u001b[1;33m \u001b[0mcandidates\u001b[0m\u001b[1;33m.\u001b[0m\u001b[0mremove\u001b[0m\u001b[1;33m(\u001b[0m\u001b[1;34m\"Carmen\"\u001b[0m\u001b[1;33m)\u001b[0m\u001b[1;33m\u001b[0m\u001b[1;33m\u001b[0m\u001b[0m\n\u001b[0m\u001b[0;32m      5\u001b[0m \u001b[0mcandidates\u001b[0m\u001b[1;33m\u001b[0m\u001b[1;33m\u001b[0m\u001b[0m\n",
      "\u001b[1;31mValueError\u001b[0m: list.remove(x): x not in list"
     ]
    }
   ],
   "source": [
    "# E. Carmen is upset by the priority given to relatives of donors, and has withdrawn their application.\n",
    "#    Use the .remove() method to remove them from the list.\n",
    "\n",
    "candidates.remove(\"Carmen\")\n"
   ]
  },
  {
   "cell_type": "code",
   "execution_count": 44,
   "metadata": {},
   "outputs": [
    {
     "data": {
      "text/plain": [
       "['Aaron', 'Alyce', 'Boris', 'Diego']"
      ]
     },
     "execution_count": 44,
     "metadata": {},
     "output_type": "execute_result"
    }
   ],
   "source": [
    "candidates"
   ]
  },
  {
   "cell_type": "code",
   "execution_count": 45,
   "metadata": {
    "id": "MZc0CF66dyiz"
   },
   "outputs": [
    {
     "data": {
      "text/plain": [
       "['Alyce', 'Boris', 'Diego']"
      ]
     },
     "execution_count": 45,
     "metadata": {},
     "output_type": "execute_result"
    }
   ],
   "source": [
    "# F. Use a method to remove the very first student in the list, as they have now been accepted!\n",
    "\n",
    "candidates.pop(0)\n",
    "candidates"
   ]
  },
  {
   "cell_type": "code",
   "execution_count": 46,
   "metadata": {
    "id": "fanLC1aCdyl5"
   },
   "outputs": [
    {
     "data": {
      "text/plain": [
       "['Alyce', 'DeSean', 'Boris', 'Diego']"
      ]
     },
     "execution_count": 46,
     "metadata": {},
     "output_type": "execute_result"
    }
   ],
   "source": [
    "# G. DeSean has submitted an impressive personal statement. Place them at index 1 by using .insert()\n",
    "candidates.insert(1, \"DeSean\")\n",
    "candidates"
   ]
  },
  {
   "cell_type": "code",
   "execution_count": 47,
   "metadata": {
    "id": "uN0lreMCdyoL"
   },
   "outputs": [
    {
     "name": "stdout",
     "output_type": "stream",
     "text": [
      "['Alyce', 'DeSean', 'Boris', 'Diego']\n"
     ]
    }
   ],
   "source": [
    "# H. We've been audited by the Board for Educational Fairness! Print the list of candidates.\n",
    "#    It should look like this: [\"Alyce\", \"DeSean\", Boris\", \"Diego\"]\n",
    " print(candidates)"
   ]
  },
  {
   "cell_type": "markdown",
   "metadata": {
    "id": "GoozEgSxeypC"
   },
   "source": [
    "### **1.8 Key Value Properties**"
   ]
  },
  {
   "cell_type": "code",
   "execution_count": 98,
   "metadata": {
    "id": "B49otrQ9WDgn"
   },
   "outputs": [],
   "source": [
    "# Use the house dictionary for the following challenges\n",
    "house = { \"address\": \"123 Fake Street\", \"price\": 750000, \"bedrooms\": 3}"
   ]
  },
  {
   "cell_type": "code",
   "execution_count": 34,
   "metadata": {},
   "outputs": [],
   "source": [
    "lst =[1,2,3]"
   ]
  },
  {
   "cell_type": "code",
   "execution_count": 35,
   "metadata": {},
   "outputs": [
    {
     "data": {
      "text/plain": [
       "1"
      ]
     },
     "execution_count": 35,
     "metadata": {},
     "output_type": "execute_result"
    }
   ],
   "source": [
    "lst[0]"
   ]
  },
  {
   "cell_type": "code",
   "execution_count": 38,
   "metadata": {},
   "outputs": [
    {
     "data": {
      "text/plain": [
       "'123 Fake Street'"
      ]
     },
     "execution_count": 38,
     "metadata": {},
     "output_type": "execute_result"
    }
   ],
   "source": [
    "house[\"address\"]"
   ]
  },
  {
   "cell_type": "code",
   "execution_count": 39,
   "metadata": {},
   "outputs": [
    {
     "data": {
      "text/plain": [
       "750000"
      ]
     },
     "execution_count": 39,
     "metadata": {},
     "output_type": "execute_result"
    }
   ],
   "source": [
    "house[\"price\"]"
   ]
  },
  {
   "cell_type": "code",
   "execution_count": null,
   "metadata": {},
   "outputs": [],
   "source": [
    "print(f\"{123 Fake Street'} bedroom house costs {750000})"
   ]
  },
  {
   "cell_type": "code",
   "execution_count": 29,
   "metadata": {
    "id": "ZtMLRR5hg9VJ"
   },
   "outputs": [
    {
     "name": "stdout",
     "output_type": "stream",
     "text": [
      "3\n"
     ]
    }
   ],
   "source": [
    "# A. Print the number of bedrooms\n",
    "\n",
    " print(house [\"bedrooms\"])"
   ]
  },
  {
   "cell_type": "code",
   "execution_count": 30,
   "metadata": {
    "executionInfo": {
     "elapsed": 5,
     "status": "ok",
     "timestamp": 1648370128080,
     "user": {
      "displayName": "Jack Tyler-Whittle",
      "photoUrl": "https://lh3.googleusercontent.com/a-/AOh14GgwQfVatPby7xvArsj5CDH1xPfJtnn6U-WxAAFS=s64",
      "userId": "06514061069238650616"
     },
     "user_tz": -60
    },
    "id": "W7P4UjLmg3KB"
   },
   "outputs": [
    {
     "name": "stdout",
     "output_type": "stream",
     "text": [
      "{'address': '123 Fake Street', 'price': 750000, 'bedrooms': 3, 'Zip_code': 95404}\n"
     ]
    }
   ],
   "source": [
    "# B. Buyers can't find the house without a zip code! Add a zip_code property equal to \"95404\"\n",
    "\n",
    "house[\"Zip_code\"] = 95404\n",
    "print(house)"
   ]
  },
  {
   "cell_type": "code",
   "execution_count": 32,
   "metadata": {
    "id": "pGL9PsYkg3Qe"
   },
   "outputs": [
    {
     "data": {
      "text/plain": [
       "{'address': '123 Fake Street',\n",
       " 'price': 750000,\n",
       " 'bedrooms': 3,\n",
       " 'Zip_code': 95404}"
      ]
     },
     "execution_count": 32,
     "metadata": {},
     "output_type": "execute_result"
    }
   ],
   "source": [
    "# C. Our web designers want a statement reading: \"This 3 bedroom house costs 250000\"\n",
    "#    Print that statement by accessing the values from the dictionary: do NOT \"hard-code\" the string!\n",
    "\n",
    "\n",
    "house.update({\"price\": 750000}) \n",
    "house\n"
   ]
  },
  {
   "cell_type": "code",
   "execution_count": 31,
   "metadata": {},
   "outputs": [
    {
     "name": "stdout",
     "output_type": "stream",
     "text": [
      "This 3 bedroom house costs 750000\n"
     ]
    }
   ],
   "source": [
    "print(f\"This {house['address']} bedroom house costs {house['price']}\")"
   ]
  },
  {
   "cell_type": "code",
   "execution_count": 99,
   "metadata": {
    "id": "ogoM_I55gpq2"
   },
   "outputs": [
    {
     "name": "stdout",
     "output_type": "stream",
     "text": [
      "{'address': '123 Fake Street', 'price': 825000.0000000001, 'bedrooms': 3}\n"
     ]
    }
   ],
   "source": [
    "# D. We're getting a lot of interest in the house! Let's increase the price by 10%\n",
    "\n",
    "house[\"price\"]=(house[\"price\"] *1.1)\n",
    "print(house)"
   ]
  },
  {
   "cell_type": "code",
   "execution_count": 68,
   "metadata": {
    "id": "UJb-iLDwgptO",
    "scrolled": true
   },
   "outputs": [
    {
     "data": {
      "text/plain": [
       "{'address': '123 Fake Street',\n",
       " 'price': 275000.0,\n",
       " 'bedrooms': 3,\n",
       " 'Zip_code': 95404,\n",
       " 'square_feet property': 750,\n",
       " 'square_feet_property': 750}"
      ]
     },
     "execution_count": 68,
     "metadata": {},
     "output_type": "execute_result"
    }
   ],
   "source": [
    "# E. Buyers are surprised at how small the house is. Let's add a square_feet property equal to 750\n",
    "\n",
    "house[\"square_feet_property\"] =750\n",
    "house"
   ]
  },
  {
   "cell_type": "code",
   "execution_count": 76,
   "metadata": {},
   "outputs": [
    {
     "data": {
      "text/plain": [
       "{'address': '123 Fake Street',\n",
       " 'price': 275000.0,\n",
       " 'bedrooms': 3,\n",
       " 'Zip_code': 95404,\n",
       " 'square_feet property': 750}"
      ]
     },
     "execution_count": 76,
     "metadata": {},
     "output_type": "execute_result"
    }
   ],
   "source": [
    "house.pop(\"square_feet_property\")\n",
    "house"
   ]
  },
  {
   "cell_type": "code",
   "execution_count": 84,
   "metadata": {},
   "outputs": [
    {
     "data": {
      "text/plain": [
       "{'address': '123 Fake Street',\n",
       " 'price': 275000.0,\n",
       " 'bedrooms': 3,\n",
       " 'Zip_code': 95404,\n",
       " 'square_feet property': 750}"
      ]
     },
     "execution_count": 84,
     "metadata": {},
     "output_type": "execute_result"
    }
   ],
   "source": [
    "house"
   ]
  },
  {
   "cell_type": "code",
   "execution_count": 85,
   "metadata": {},
   "outputs": [
    {
     "data": {
      "text/plain": [
       "750"
      ]
     },
     "execution_count": 85,
     "metadata": {},
     "output_type": "execute_result"
    }
   ],
   "source": [
    "house[\"square_feet property\"]"
   ]
  },
  {
   "cell_type": "code",
   "execution_count": 88,
   "metadata": {
    "id": "FEx2cxqRgpvS"
   },
   "outputs": [
    {
     "name": "stdout",
     "output_type": "stream",
     "text": [
      "price per square foot is 750\n"
     ]
    }
   ],
   "source": [
    "# F. We want to show off the value per foot. Print a message explaining the price per square foot.\n",
    "\n",
    "print(f'price per square foot is {house[\"square_feet property\"]}')"
   ]
  },
  {
   "cell_type": "code",
   "execution_count": 89,
   "metadata": {
    "id": "1UcBLSHXgpxd"
   },
   "outputs": [
    {
     "data": {
      "text/plain": [
       "{'address': '123 Fake Street',\n",
       " 'price': 275000.0,\n",
       " 'bedrooms': 3,\n",
       " 'Zip_code': 95404,\n",
       " 'square_feet property': 750,\n",
       " 'Status': 'Sold'}"
      ]
     },
     "execution_count": 89,
     "metadata": {},
     "output_type": "execute_result"
    }
   ],
   "source": [
    "# G. After 2 long hours on the market, the house has finally sold! Add a status property equal to \"sold\"\n",
    "\n",
    "house[\"Status\"] =\"Sold\"\n",
    "house."
   ]
  },
  {
   "cell_type": "code",
   "execution_count": 90,
   "metadata": {
    "id": "pdxZrO7_gpzk"
   },
   "outputs": [
    {
     "name": "stdout",
     "output_type": "stream",
     "text": [
      "{'address': '123 Fake Street', 'price': 275000.0, 'bedrooms': 3, 'Zip_code': 95404, 'square_feet property': 750, 'Status': 'Sold'}\n"
     ]
    }
   ],
   "source": [
    "# H. Print the entire listing. You should see a dictionary similar to the following:\n",
    "# {address: \"123 Fake Street\", price: 825000, bedrooms: 3, zip_code: \"95404\" square_feet: 750, status: \"sold\"}\n",
    "\n",
    "print(house)"
   ]
  },
  {
   "cell_type": "markdown",
   "metadata": {
    "id": "xZ-oN3xugSw9"
   },
   "source": [
    "### **1.9 Python Librarian**"
   ]
  },
  {
   "cell_type": "code",
   "execution_count": 82,
   "metadata": {
    "id": "2TET7-dvWDgn"
   },
   "outputs": [],
   "source": [
    "# 1.9 Python Librarian\n",
    "\n",
    "authors = {\n",
    "    \"Arundhati Roy\": {\n",
    "        \"genre\": \"literary fiction\",\n",
    "        \"books\": [\n",
    "            \"The God of Small Things\",\n",
    "            \"The Ministry of Utmost Happiness\"\n",
    "        ],\n",
    "        \"active\": True\n",
    "    },\n",
    "    \"Brandon Sanderson\": {\n",
    "        \"genre\": \"fantasy\",\n",
    "        \"books\": [\n",
    "            \"The Way of Kings\",\n",
    "            \"Words of Radiance\",\n",
    "            \"Oathbringer\"\n",
    "        ],\n",
    "        \"active\": True,\n",
    "        \"phone\": {\n",
    "            \"home\": \"(281) 330-8004\",\n",
    "            \"work\": \"(877) CASH-NOW\"\n",
    "        }\n",
    "    },\n",
    "    \"Kobo Abe\": {\n",
    "        \"genre\": \"absurdist fiction\",\n",
    "        \"books\": [\n",
    "            \"The Woman in the Dunes\",\n",
    "            \"The Face of Another\"\n",
    "        ],\n",
    "        \"active\": False\n",
    "    },\n",
    "}"
   ]
  },
  {
   "cell_type": "code",
   "execution_count": 42,
   "metadata": {
    "id": "sTT5TsAlWDgo"
   },
   "outputs": [
    {
     "data": {
      "text/plain": [
       "'The God of Small Things'"
      ]
     },
     "execution_count": 42,
     "metadata": {},
     "output_type": "execute_result"
    }
   ],
   "source": [
    "# A. Access and print Arundhati Roy's first book\n",
    "authors[\"Arundhati Roy\"][\"books\"][0]"
   ]
  },
  {
   "cell_type": "code",
   "execution_count": 45,
   "metadata": {},
   "outputs": [
    {
     "data": {
      "text/plain": [
       "{'genre': 'literary fiction',\n",
       " 'books': ['The God of Small Things', 'The Ministry of Utmost Happiness'],\n",
       " 'active': True}"
      ]
     },
     "execution_count": 45,
     "metadata": {},
     "output_type": "execute_result"
    }
   ],
   "source": [
    "authors[\"Arundhati Roy\"]"
   ]
  },
  {
   "cell_type": "code",
   "execution_count": 46,
   "metadata": {},
   "outputs": [
    {
     "data": {
      "text/plain": [
       "['The God of Small Things', 'The Ministry of Utmost Happiness']"
      ]
     },
     "execution_count": 46,
     "metadata": {},
     "output_type": "execute_result"
    }
   ],
   "source": [
    "authors[\"Arundhati Roy\"][\"books\"]"
   ]
  },
  {
   "cell_type": "code",
   "execution_count": 47,
   "metadata": {},
   "outputs": [
    {
     "data": {
      "text/plain": [
       "'The God of Small Things'"
      ]
     },
     "execution_count": 47,
     "metadata": {},
     "output_type": "execute_result"
    }
   ],
   "source": [
    "authors[\"Arundhati Roy\"][\"books\"][0]"
   ]
  },
  {
   "cell_type": "code",
   "execution_count": 117,
   "metadata": {
    "id": "LcrrVPK7WDgo"
   },
   "outputs": [
    {
     "data": {
      "text/plain": [
       "'(877) CASH-NOW'"
      ]
     },
     "execution_count": 117,
     "metadata": {},
     "output_type": "execute_result"
    }
   ],
   "source": [
    "# B. We need to contact Brandon at work: access and print their work phone number\n",
    "\n",
    "authors[\"Brandon Sanderson\"][\"phone\"][\"work\"]"
   ]
  },
  {
   "cell_type": "code",
   "execution_count": 52,
   "metadata": {
    "id": "m2HKymKHWDgo"
   },
   "outputs": [
    {
     "data": {
      "text/plain": [
       "[['literary fiction', 'non-fiction'], 'fantasy', 'absurdist fiction']"
      ]
     },
     "execution_count": 52,
     "metadata": {},
     "output_type": "execute_result"
    }
   ],
   "source": [
    "# C. Create a list composed of all the genres available in our library\n",
    "genres = []\n",
    "genres.append(authors[\"Arundhati Roy\"][\"genre\"])\n",
    "genres.append(authors[\"Brandon Sanderson\"][\"genre\"])\n",
    "genres.append(authors[\"Kobo Abe\"][\"genre\"])\n",
    "genres"
   ]
  },
  {
   "cell_type": "code",
   "execution_count": 57,
   "metadata": {
    "id": "2WAq_sr7WDgo"
   },
   "outputs": [
    {
     "data": {
      "text/plain": [
       "['The God of Small Things',\n",
       " 'The Ministry of Utmost Happiness',\n",
       " 'The Way of Kings',\n",
       " 'Words of Radiance',\n",
       " 'Oathbringer',\n",
       " 'The Woman in the Dunes',\n",
       " 'The Face of Another']"
      ]
     },
     "execution_count": 57,
     "metadata": {},
     "output_type": "execute_result"
    }
   ],
   "source": [
    "# D. Create a list of all books available in our library\n",
    "books = []\n",
    "books.append(authors[\"Arundhati Roy\"][\"books\"][0])\n",
    "books.append(authors[\"Arundhati Roy\"][\"books\"][1])\n",
    "books.append(authors[\"Brandon Sanderson\"][\"books\"][0])\n",
    "books.append(authors[\"Brandon Sanderson\"][\"books\"][1])\n",
    "books.append(authors[\"Brandon Sanderson\"][\"books\"][2])\n",
    "books.append(authors[\"Kobo Abe\"][\"books\"][0])\n",
    "books.append(authors[\"Kobo Abe\"][\"books\"][1])\n",
    "books"
   ]
  },
  {
   "cell_type": "code",
   "execution_count": 49,
   "metadata": {
    "id": "omUZrEyqWDgp"
   },
   "outputs": [
    {
     "data": {
      "text/plain": [
       "{'Arundhati Roy': {'genre': ['literary fiction', 'non-fiction'],\n",
       "  'books': ['The God of Small Things', 'The Ministry of Utmost Happiness'],\n",
       "  'active': True},\n",
       " 'Brandon Sanderson': {'genre': 'fantasy',\n",
       "  'books': ['The Way of Kings', 'Words of Radiance', 'Oathbringer'],\n",
       "  'active': True,\n",
       "  'phone': {'home': '(281) 330-8004', 'work': '(877) CASH-NOW'}},\n",
       " 'Kobo Abe': {'genre': 'absurdist fiction',\n",
       "  'books': ['The Woman in the Dunes', 'The Face of Another'],\n",
       "  'active': False}}"
      ]
     },
     "execution_count": 49,
     "metadata": {},
     "output_type": "execute_result"
    }
   ],
   "source": [
    "# E. Arundhati has decided to expand their range of genres and tackle non-fiction\n",
    "#    Modify their \"genre\" property to now be a list that also includes non-fiction\n",
    "authors[\"Arundhati Roy\"][\"genre\"]=[\"literary fiction\",\"non-fiction\"]\n",
    "authors"
   ]
  },
  {
   "cell_type": "code",
   "execution_count": 13,
   "metadata": {
    "id": "jGMBxrDbWDgq"
   },
   "outputs": [
    {
     "data": {
      "text/plain": [
       "{'genre': 'fantasy',\n",
       " 'books': ['The Way of Kings', 'Words of Radiance', 'Oathbringer'],\n",
       " 'active': False}"
      ]
     },
     "execution_count": 13,
     "metadata": {},
     "output_type": "execute_result"
    }
   ],
   "source": [
    "# F. Brandon Sanderson is retiring. Change their active property to False.\n",
    "#    BONUS: This means we should no longer contact them. Delete their \"phone\" property\n",
    "\n",
    "authors[\"Brandon Sanderson\"].pop(\"phone\")\n",
    "authors[\"Brandon Sanderson\"][\"active\"]= False\n",
    "\n",
    "authors[\"Brandon Sanderson\"]"
   ]
  },
  {
   "cell_type": "code",
   "execution_count": 23,
   "metadata": {},
   "outputs": [],
   "source": [
    "authors[\"New_author\"][\"active\"] = True"
   ]
  },
  {
   "cell_type": "code",
   "execution_count": 89,
   "metadata": {
    "id": "TPKGB3_VWDgq"
   },
   "outputs": [],
   "source": [
    "# G. Add a new author to our collection of your choice. Make sure they have:\n",
    "#    i. A genre property equal to a string or list of strings\n",
    "#    ii. A books property equal to a list of strings\n",
    "#    iii. An active property equal to a boolean\n",
    "#    iv. Another property that is also a dictionary with one or more properties\n",
    "\n",
    "\n",
    "\n",
    "authors[\"Abdul Kalam\"]= {}\n",
    "authors[\"Abdul Kalam\"][\"genre\"] = [\"fiction\", \"autobiography\"]\n",
    "authors[\"Abdul Kalam\"][\"books\"] = [\"autobiography\", \"life of stars\"]\n",
    "authors[\"Abdul Kalam\"][\"active\"] = True\n",
    "authors[\"Abdul Kalam\"][\"popular_characters\"]= {}\n",
    "authors[\"Abdul Kalam\"][\"popular_characters\"][\"Khlestakov\"]= \"A poser\"\n",
    "authors[\"Abdul Kalam\"][\"popular_characters\"][\"Chichikov\"]= \"A swindler\"\n"
   ]
  },
  {
   "cell_type": "code",
   "execution_count": 90,
   "metadata": {},
   "outputs": [
    {
     "data": {
      "text/plain": [
       "{'Arundhati Roy': {'genre': 'literary fiction',\n",
       "  'books': ['The God of Small Things', 'The Ministry of Utmost Happiness'],\n",
       "  'active': True},\n",
       " 'Brandon Sanderson': {'genre': 'fantasy',\n",
       "  'books': ['The Way of Kings', 'Words of Radiance', 'Oathbringer'],\n",
       "  'active': True,\n",
       "  'phone': {'home': '(281) 330-8004', 'work': '(877) CASH-NOW'}},\n",
       " 'Kobo Abe': {'genre': 'absurdist fiction',\n",
       "  'books': ['The Woman in the Dunes', 'The Face of Another'],\n",
       "  'active': False},\n",
       " 'Abdul Kalam': {'genre': ['fiction', 'autobiography'],\n",
       "  'books': ['autobiography', 'life of stars'],\n",
       "  'active': True,\n",
       "  'popular_characters': {'Khlestakov': 'A poser', 'Chichikov': 'A swindler'}}}"
      ]
     },
     "execution_count": 90,
     "metadata": {},
     "output_type": "execute_result"
    }
   ],
   "source": [
    "authors"
   ]
  },
  {
   "cell_type": "markdown",
   "metadata": {
    "id": "FB2KROvnggVB"
   },
   "source": [
    "### **OPTIONAL EXTRA PRACTICE**"
   ]
  },
  {
   "cell_type": "code",
   "execution_count": null,
   "metadata": {
    "id": "ct1e55_TWDgq"
   },
   "outputs": [],
   "source": [
    "# OPTIONAL EXTRA PRACTICE\n",
    "# How many ways to print with variables\n",
    "# Programming provides many ways of doing the same thing\n",
    "# We've learned about concatenation and f-string interpolation so far\n",
    "# Below, research and demonstrate four different ways of including variables in a string in python\n",
    "# You don't need to understand exactly how they're working to get them to work!"
   ]
  }
 ],
 "metadata": {
  "colab": {
   "collapsed_sections": [],
   "name": "1_Introduction_to_Python.ipynb",
   "provenance": []
  },
  "kernelspec": {
   "display_name": "Python 3",
   "language": "python",
   "name": "python3"
  },
  "language_info": {
   "codemirror_mode": {
    "name": "ipython",
    "version": 3
   },
   "file_extension": ".py",
   "mimetype": "text/x-python",
   "name": "python",
   "nbconvert_exporter": "python",
   "pygments_lexer": "ipython3",
   "version": "3.6.13"
  },
  "varInspector": {
   "cols": {
    "lenName": 16,
    "lenType": 16,
    "lenVar": 40
   },
   "kernels_config": {
    "python": {
     "delete_cmd_postfix": "",
     "delete_cmd_prefix": "del ",
     "library": "var_list.py",
     "varRefreshCmd": "print(var_dic_list())"
    },
    "r": {
     "delete_cmd_postfix": ") ",
     "delete_cmd_prefix": "rm(",
     "library": "var_list.r",
     "varRefreshCmd": "cat(var_dic_list()) "
    }
   },
   "types_to_exclude": [
    "module",
    "function",
    "builtin_function_or_method",
    "instance",
    "_Feature"
   ],
   "window_display": false
  }
 },
 "nbformat": 4,
 "nbformat_minor": 1
}
