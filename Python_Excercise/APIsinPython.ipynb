{
 "cells": [
  {
   "cell_type": "markdown",
   "metadata": {
    "colab_type": "text",
    "id": "88tCXKMAp2FX"
   },
   "source": [
    "#  APIs\n",
    "\n",
    "---\n",
    "\n",
    "<a id=\"learning-objectives\"></a>\n",
    "## Learning Objectives\n",
    "*After completing this notebook, you will be able to:*\n",
    "\n",
    "- Use APIs to get data from the web"
   ]
  },
  {
   "cell_type": "markdown",
   "metadata": {},
   "source": [
    "# <font color='blue'> APIs \n",
    "\n",
    "Let's start by importing the **requests** library, which we'll be using to make API requests"
   ]
  },
  {
   "cell_type": "code",
   "execution_count": 1,
   "metadata": {},
   "outputs": [],
   "source": [
    "import requests"
   ]
  },
  {
   "cell_type": "markdown",
   "metadata": {},
   "source": [
    "Let's make a request to the astronauts API and view the resulting JSON. The first thing we do is make a GET request. This is really simple!"
   ]
  },
  {
   "cell_type": "code",
   "execution_count": 2,
   "metadata": {},
   "outputs": [],
   "source": [
    "astro_request = requests.get('http://api.open-notify.org/astros.json')"
   ]
  },
  {
   "cell_type": "code",
   "execution_count": 3,
   "metadata": {},
   "outputs": [
    {
     "data": {
      "text/plain": [
       "<Response [200]>"
      ]
     },
     "execution_count": 3,
     "metadata": {},
     "output_type": "execute_result"
    }
   ],
   "source": [
    "astro_request"
   ]
  },
  {
   "cell_type": "markdown",
   "metadata": {},
   "source": [
    "An alternative, neater way to make the request would be to define the URL as a variable instead of pasting it straight into `.get()`, like this:"
   ]
  },
  {
   "cell_type": "code",
   "execution_count": 4,
   "metadata": {},
   "outputs": [],
   "source": [
    "astro_url = 'http://api.open-notify.org/astros.json'\n",
    "astro_request = requests.get(astro_url)"
   ]
  },
  {
   "cell_type": "markdown",
   "metadata": {},
   "source": [
    "The thing we get back from a GET request is a `request` object."
   ]
  },
  {
   "cell_type": "code",
   "execution_count": 5,
   "metadata": {},
   "outputs": [
    {
     "data": {
      "text/plain": [
       "requests.models.Response"
      ]
     },
     "execution_count": 5,
     "metadata": {},
     "output_type": "execute_result"
    }
   ],
   "source": [
    "type(astro_request)"
   ]
  },
  {
   "cell_type": "markdown",
   "metadata": {},
   "source": [
    "This is an object that has a few different bits of information bundled up inside it, all of which have been sent back to us by the servers at `open-notify.org`, including...\n",
    "\n",
    "The status code, which tells us whether the request was successful or not. A status code of `200` means the request was a success, whereas a status code of `400` means there was an error. You might remember seeing `404: error` messages in your browser when you try to load a webpage that doesn't exist- that's also an example of a status code! \n",
    "\n",
    "We can check the status code like this:"
   ]
  },
  {
   "cell_type": "code",
   "execution_count": 6,
   "metadata": {},
   "outputs": [
    {
     "data": {
      "text/plain": [
       "200"
      ]
     },
     "execution_count": 6,
     "metadata": {},
     "output_type": "execute_result"
    }
   ],
   "source": [
    "astro_request.status_code"
   ]
  },
  {
   "cell_type": "markdown",
   "metadata": {},
   "source": [
    "We can also access the JSON that's returned by the API; this is also bundled up inside our `request` object."
   ]
  },
  {
   "cell_type": "code",
   "execution_count": 7,
   "metadata": {},
   "outputs": [
    {
     "data": {
      "text/plain": [
       "{'number': 10,\n",
       " 'people': [{'name': 'Oleg Artemyev', 'craft': 'ISS'},\n",
       "  {'name': 'Denis Matveev', 'craft': 'ISS'},\n",
       "  {'name': 'Sergey Korsakov', 'craft': 'ISS'},\n",
       "  {'name': 'Kjell Lindgren', 'craft': 'ISS'},\n",
       "  {'name': 'Bob Hines', 'craft': 'ISS'},\n",
       "  {'name': 'Samantha Cristoforetti', 'craft': 'ISS'},\n",
       "  {'name': 'Jessica Watkins', 'craft': 'ISS'},\n",
       "  {'name': 'Cai Xuzhe', 'craft': 'Tiangong'},\n",
       "  {'name': 'Chen Dong', 'craft': 'Tiangong'},\n",
       "  {'name': 'Liu Yang', 'craft': 'Tiangong'}],\n",
       " 'message': 'success'}"
      ]
     },
     "execution_count": 7,
     "metadata": {},
     "output_type": "execute_result"
    }
   ],
   "source": [
    "astro_request.json()"
   ]
  },
  {
   "cell_type": "markdown",
   "metadata": {},
   "source": [
    "Let's create a variable that contains the JSON only."
   ]
  },
  {
   "cell_type": "code",
   "execution_count": 8,
   "metadata": {},
   "outputs": [
    {
     "data": {
      "text/plain": [
       "{'number': 10,\n",
       " 'people': [{'name': 'Oleg Artemyev', 'craft': 'ISS'},\n",
       "  {'name': 'Denis Matveev', 'craft': 'ISS'},\n",
       "  {'name': 'Sergey Korsakov', 'craft': 'ISS'},\n",
       "  {'name': 'Kjell Lindgren', 'craft': 'ISS'},\n",
       "  {'name': 'Bob Hines', 'craft': 'ISS'},\n",
       "  {'name': 'Samantha Cristoforetti', 'craft': 'ISS'},\n",
       "  {'name': 'Jessica Watkins', 'craft': 'ISS'},\n",
       "  {'name': 'Cai Xuzhe', 'craft': 'Tiangong'},\n",
       "  {'name': 'Chen Dong', 'craft': 'Tiangong'},\n",
       "  {'name': 'Liu Yang', 'craft': 'Tiangong'}],\n",
       " 'message': 'success'}"
      ]
     },
     "execution_count": 8,
     "metadata": {},
     "output_type": "execute_result"
    }
   ],
   "source": [
    "astro_json = astro_request.json()\n",
    "astro_json"
   ]
  },
  {
   "cell_type": "markdown",
   "metadata": {},
   "source": [
    "Let's check it's type- it's a dictionary!"
   ]
  },
  {
   "cell_type": "code",
   "execution_count": 9,
   "metadata": {},
   "outputs": [
    {
     "data": {
      "text/plain": [
       "dict"
      ]
     },
     "execution_count": 9,
     "metadata": {},
     "output_type": "execute_result"
    }
   ],
   "source": [
    "type(astro_json)"
   ]
  },
  {
   "cell_type": "markdown",
   "metadata": {},
   "source": [
    "Now we can use our dictionary and list-indexing skills to access information inside the JSON."
   ]
  },
  {
   "cell_type": "code",
   "execution_count": 10,
   "metadata": {},
   "outputs": [
    {
     "data": {
      "text/plain": [
       "[{'name': 'Oleg Artemyev', 'craft': 'ISS'},\n",
       " {'name': 'Denis Matveev', 'craft': 'ISS'},\n",
       " {'name': 'Sergey Korsakov', 'craft': 'ISS'},\n",
       " {'name': 'Kjell Lindgren', 'craft': 'ISS'},\n",
       " {'name': 'Bob Hines', 'craft': 'ISS'},\n",
       " {'name': 'Samantha Cristoforetti', 'craft': 'ISS'},\n",
       " {'name': 'Jessica Watkins', 'craft': 'ISS'},\n",
       " {'name': 'Cai Xuzhe', 'craft': 'Tiangong'},\n",
       " {'name': 'Chen Dong', 'craft': 'Tiangong'},\n",
       " {'name': 'Liu Yang', 'craft': 'Tiangong'}]"
      ]
     },
     "execution_count": 10,
     "metadata": {},
     "output_type": "execute_result"
    }
   ],
   "source": [
    "astro_json['people']"
   ]
  },
  {
   "cell_type": "code",
   "execution_count": 11,
   "metadata": {},
   "outputs": [
    {
     "data": {
      "text/plain": [
       "{'name': 'Oleg Artemyev', 'craft': 'ISS'}"
      ]
     },
     "execution_count": 11,
     "metadata": {},
     "output_type": "execute_result"
    }
   ],
   "source": [
    "astro_json['people'][0]"
   ]
  },
  {
   "cell_type": "code",
   "execution_count": 12,
   "metadata": {},
   "outputs": [
    {
     "data": {
      "text/plain": [
       "'Oleg Artemyev'"
      ]
     },
     "execution_count": 12,
     "metadata": {},
     "output_type": "execute_result"
    }
   ],
   "source": [
    "astro_json['people'][0]['name']"
   ]
  },
  {
   "cell_type": "markdown",
   "metadata": {},
   "source": [
    "## <font color='red'> Exercise 1: Dad jokes\n",
    "\n",
    "We will play around with a new API: one that returns dad jokes.\n",
    "    \n",
    "https://icanhazdadjoke.com/api\n",
    "    \n",
    "Use the documentation to find the url that returns *a random dad joke*. Fill in the gap in the code below to make a GET request to the correct url."
   ]
  },
  {
   "cell_type": "code",
   "execution_count": 20,
   "metadata": {},
   "outputs": [
    {
     "data": {
      "text/plain": [
       "<Response [200]>"
      ]
     },
     "execution_count": 20,
     "metadata": {},
     "output_type": "execute_result"
    }
   ],
   "source": [
    "dad_joke_url = 'https://icanhazdadjoke.com/'\n",
    "dad_joke_request = requests.get(\n",
    "    url=dad_joke_url,\n",
    "    headers={'Accept': 'application/json'} # specify we want JSON back\n",
    ")\n",
    "dad_joke_request"
   ]
  },
  {
   "cell_type": "markdown",
   "metadata": {},
   "source": [
    "Now, check the status code of the request:"
   ]
  },
  {
   "cell_type": "code",
   "execution_count": 21,
   "metadata": {},
   "outputs": [
    {
     "data": {
      "text/plain": [
       "200"
      ]
     },
     "execution_count": 21,
     "metadata": {},
     "output_type": "execute_result"
    }
   ],
   "source": [
    "dad_joke_request.status_code"
   ]
  },
  {
   "cell_type": "markdown",
   "metadata": {},
   "source": [
    "Next, create a variable that contains the JSON returned by the API"
   ]
  },
  {
   "cell_type": "code",
   "execution_count": 22,
   "metadata": {},
   "outputs": [
    {
     "data": {
      "text/plain": [
       "{'id': '3oG6UvX82g',\n",
       " 'joke': \"Which is the fastest growing city in the world? Dublin'\",\n",
       " 'status': 200}"
      ]
     },
     "execution_count": 22,
     "metadata": {},
     "output_type": "execute_result"
    }
   ],
   "source": [
    "dad_joke_json = dad_joke_request.json()\n",
    "dad_joke_json"
   ]
  },
  {
   "cell_type": "markdown",
   "metadata": {},
   "source": [
    "Inspect the dictionary and extract the joke itself as a string"
   ]
  },
  {
   "cell_type": "code",
   "execution_count": 23,
   "metadata": {},
   "outputs": [
    {
     "name": "stdout",
     "output_type": "stream",
     "text": [
      "Which is the fastest growing city in the world? Dublin'\n"
     ]
    }
   ],
   "source": [
    "dad_joke = dad_joke_json[\"joke\"]\n",
    "print(dad_joke)"
   ]
  },
  {
   "cell_type": "markdown",
   "metadata": {},
   "source": [
    "### <font color='green'>  Stretch\n",
    "\n",
    "Now write a `for` loop to call the API 10 times and store the 10 jokes in a list.\n",
    "\n",
    "_You may optionally decide to create a function to do the fetching for you_"
   ]
  },
  {
   "cell_type": "code",
   "execution_count": 84,
   "metadata": {},
   "outputs": [
    {
     "name": "stdout",
     "output_type": "stream",
     "text": [
      "What did the big flower say to the littler flower? Hi, bud!\n",
      "A butcher accidentally backed into his meat grinder and got a little behind in his work that day.\n",
      "How many bones are in the human hand? A handful of them.\n",
      "What do you call your friend who stands in a hole? Phil.\n",
      "What do you call a careful wolf? Aware wolf.\n",
      "How do hens stay fit? They always egg-cercise!\n",
      "Why did the teddy bear say “no” to dessert? Because she was stuffed.\n",
      "How did Darth Vader know what Luke was getting for Christmas? He felt his presents.\n",
      "Did you know that ghosts call their true love their ghoul-friend?\n",
      "I heard there was a new store called Moderation. They have everything there\n"
     ]
    }
   ],
   "source": [
    "jokes = []\n",
    "    \n",
    "for i in range(10):\n",
    "    \n",
    "    dad_joke_request = requests.get(\n",
    "    url=dad_joke_url,\n",
    "    headers={'Accept': 'application/json'})\n",
    "    \n",
    "    if dad_joke_request.status_code == 200:\n",
    "        dad_joke_json = dad_joke_request.json()\n",
    "        jokes.append(dad_joke_json['joke'])\n",
    "\n",
    "for i in jokes:\n",
    "    print(i)\n",
    "    "
   ]
  },
  {
   "cell_type": "markdown",
   "metadata": {},
   "source": [
    "Use your Python skills to find the longest joke in your list (in terms of number of characters)"
   ]
  },
  {
   "cell_type": "code",
   "execution_count": 89,
   "metadata": {},
   "outputs": [
    {
     "name": "stdout",
     "output_type": "stream",
     "text": [
      "A butcher accidentally backed into his meat grinder and got a little behind in his work that day.\n"
     ]
    }
   ],
   "source": [
    "# joke_length = 0\n",
    "\n",
    "# for joke in jokes:\n",
    "#     joke_length = len(joke)\n",
    "    \n",
    "#     if joke_length > len(joke):\n",
    "#         longest_joke = joke\n",
    "        \n",
    "# print(longest_joke)  "
   ]
  },
  {
   "cell_type": "code",
   "execution_count": 86,
   "metadata": {},
   "outputs": [
    {
     "name": "stdout",
     "output_type": "stream",
     "text": [
      "A butcher accidentally backed into his meat grinder and got a little behind in his work that day.\n"
     ]
    }
   ],
   "source": [
    "joke_length = 0\n",
    "\n",
    "for joke in jokes:\n",
    "    if len(joke) > joke_length:\n",
    "        joke_length = len(joke)\n",
    "        longest_joke = joke \n",
    "        \n",
    "print(longest_joke)"
   ]
  },
  {
   "cell_type": "code",
   "execution_count": 87,
   "metadata": {},
   "outputs": [
    {
     "data": {
      "text/plain": [
       "'A butcher accidentally backed into his meat grinder and got a little behind in his work that day.'"
      ]
     },
     "execution_count": 87,
     "metadata": {},
     "output_type": "execute_result"
    }
   ],
   "source": [
    "def get_max_string(lst):\n",
    "    return max(lst, key=len)\n",
    "\n",
    "get_max_string(jokes)\n"
   ]
  },
  {
   "cell_type": "code",
   "execution_count": 106,
   "metadata": {},
   "outputs": [
    {
     "data": {
      "text/plain": [
       "'A butcher accidentally backed into his meat grinder and got a little behind in his work that day.'"
      ]
     },
     "execution_count": 106,
     "metadata": {},
     "output_type": "execute_result"
    }
   ],
   "source": [
    "longest_joke = max(jokes, key = len)\n",
    "longest_joke"
   ]
  },
  {
   "cell_type": "code",
   "execution_count": 101,
   "metadata": {},
   "outputs": [
    {
     "data": {
      "text/plain": [
       "['A butcher accidentally backed into his meat grinder and got a little behind in his work that day.',\n",
       " 'How did Darth Vader know what Luke was getting for Christmas? He felt his presents.',\n",
       " 'I heard there was a new store called Moderation. They have everything there',\n",
       " 'Why did the teddy bear say “no” to dessert? Because she was stuffed.',\n",
       " 'Did you know that ghosts call their true love their ghoul-friend?',\n",
       " 'What did the big flower say to the littler flower? Hi, bud!',\n",
       " 'How many bones are in the human hand? A handful of them.',\n",
       " 'What do you call your friend who stands in a hole? Phil.',\n",
       " 'How do hens stay fit? They always egg-cercise!',\n",
       " 'What do you call a careful wolf? Aware wolf.']"
      ]
     },
     "execution_count": 101,
     "metadata": {},
     "output_type": "execute_result"
    }
   ],
   "source": [
    "# lambda arguments: expression\n",
    "\n",
    "sorted(jokes, key=lambda x: len(x), reverse=True)"
   ]
  },
  {
   "cell_type": "markdown",
   "metadata": {},
   "source": [
    "---"
   ]
  },
  {
   "cell_type": "markdown",
   "metadata": {},
   "source": [
    "# <font color='blue'>  Getting data from APIs\n",
    "\n",
    "Let's look at another API that actually returns some data, in this case about the Star Wars universe.\n",
    "\n",
    "We will use the Star Wars API at https://swapi.dev.\n",
    "    \n",
    "Their \"root\" API returns all the possible API endpoints and their urls, let's start there."
   ]
  },
  {
   "cell_type": "code",
   "execution_count": 93,
   "metadata": {},
   "outputs": [],
   "source": [
    "star_wars_root = \"https://swapi.dev/api/\"\n",
    "\n",
    "star_wars_result = requests.get(star_wars_root)\n",
    "\n",
    "star_wars_result.raise_for_status() # throws an error message if we don't get a 200 code"
   ]
  },
  {
   "cell_type": "markdown",
   "metadata": {},
   "source": [
    "Let's extract the JSON and see what possible endpoints there are"
   ]
  },
  {
   "cell_type": "code",
   "execution_count": 94,
   "metadata": {},
   "outputs": [
    {
     "data": {
      "text/plain": [
       "{'people': 'https://swapi.dev/api/people/',\n",
       " 'planets': 'https://swapi.dev/api/planets/',\n",
       " 'films': 'https://swapi.dev/api/films/',\n",
       " 'species': 'https://swapi.dev/api/species/',\n",
       " 'vehicles': 'https://swapi.dev/api/vehicles/',\n",
       " 'starships': 'https://swapi.dev/api/starships/'}"
      ]
     },
     "execution_count": 94,
     "metadata": {},
     "output_type": "execute_result"
    }
   ],
   "source": [
    "star_wars_result.json()"
   ]
  },
  {
   "cell_type": "markdown",
   "metadata": {},
   "source": [
    "Let's look at the one for vehicles"
   ]
  },
  {
   "cell_type": "code",
   "execution_count": 95,
   "metadata": {},
   "outputs": [
    {
     "data": {
      "text/plain": [
       "{'count': 39,\n",
       " 'next': 'https://swapi.dev/api/vehicles/?page=2',\n",
       " 'previous': None,\n",
       " 'results': [{'name': 'Sand Crawler',\n",
       "   'model': 'Digger Crawler',\n",
       "   'manufacturer': 'Corellia Mining Corporation',\n",
       "   'cost_in_credits': '150000',\n",
       "   'length': '36.8 ',\n",
       "   'max_atmosphering_speed': '30',\n",
       "   'crew': '46',\n",
       "   'passengers': '30',\n",
       "   'cargo_capacity': '50000',\n",
       "   'consumables': '2 months',\n",
       "   'vehicle_class': 'wheeled',\n",
       "   'pilots': [],\n",
       "   'films': ['https://swapi.dev/api/films/1/',\n",
       "    'https://swapi.dev/api/films/5/'],\n",
       "   'created': '2014-12-10T15:36:25.724000Z',\n",
       "   'edited': '2014-12-20T21:30:21.661000Z',\n",
       "   'url': 'https://swapi.dev/api/vehicles/4/'},\n",
       "  {'name': 'T-16 skyhopper',\n",
       "   'model': 'T-16 skyhopper',\n",
       "   'manufacturer': 'Incom Corporation',\n",
       "   'cost_in_credits': '14500',\n",
       "   'length': '10.4 ',\n",
       "   'max_atmosphering_speed': '1200',\n",
       "   'crew': '1',\n",
       "   'passengers': '1',\n",
       "   'cargo_capacity': '50',\n",
       "   'consumables': '0',\n",
       "   'vehicle_class': 'repulsorcraft',\n",
       "   'pilots': [],\n",
       "   'films': ['https://swapi.dev/api/films/1/'],\n",
       "   'created': '2014-12-10T16:01:52.434000Z',\n",
       "   'edited': '2014-12-20T21:30:21.665000Z',\n",
       "   'url': 'https://swapi.dev/api/vehicles/6/'},\n",
       "  {'name': 'X-34 landspeeder',\n",
       "   'model': 'X-34 landspeeder',\n",
       "   'manufacturer': 'SoroSuub Corporation',\n",
       "   'cost_in_credits': '10550',\n",
       "   'length': '3.4 ',\n",
       "   'max_atmosphering_speed': '250',\n",
       "   'crew': '1',\n",
       "   'passengers': '1',\n",
       "   'cargo_capacity': '5',\n",
       "   'consumables': 'unknown',\n",
       "   'vehicle_class': 'repulsorcraft',\n",
       "   'pilots': [],\n",
       "   'films': ['https://swapi.dev/api/films/1/'],\n",
       "   'created': '2014-12-10T16:13:52.586000Z',\n",
       "   'edited': '2014-12-20T21:30:21.668000Z',\n",
       "   'url': 'https://swapi.dev/api/vehicles/7/'},\n",
       "  {'name': 'TIE/LN starfighter',\n",
       "   'model': 'Twin Ion Engine/Ln Starfighter',\n",
       "   'manufacturer': 'Sienar Fleet Systems',\n",
       "   'cost_in_credits': 'unknown',\n",
       "   'length': '6.4',\n",
       "   'max_atmosphering_speed': '1200',\n",
       "   'crew': '1',\n",
       "   'passengers': '0',\n",
       "   'cargo_capacity': '65',\n",
       "   'consumables': '2 days',\n",
       "   'vehicle_class': 'starfighter',\n",
       "   'pilots': [],\n",
       "   'films': ['https://swapi.dev/api/films/1/',\n",
       "    'https://swapi.dev/api/films/2/',\n",
       "    'https://swapi.dev/api/films/3/'],\n",
       "   'created': '2014-12-10T16:33:52.860000Z',\n",
       "   'edited': '2014-12-20T21:30:21.670000Z',\n",
       "   'url': 'https://swapi.dev/api/vehicles/8/'},\n",
       "  {'name': 'Snowspeeder',\n",
       "   'model': 't-47 airspeeder',\n",
       "   'manufacturer': 'Incom corporation',\n",
       "   'cost_in_credits': 'unknown',\n",
       "   'length': '4.5',\n",
       "   'max_atmosphering_speed': '650',\n",
       "   'crew': '2',\n",
       "   'passengers': '0',\n",
       "   'cargo_capacity': '10',\n",
       "   'consumables': 'none',\n",
       "   'vehicle_class': 'airspeeder',\n",
       "   'pilots': ['https://swapi.dev/api/people/1/',\n",
       "    'https://swapi.dev/api/people/18/'],\n",
       "   'films': ['https://swapi.dev/api/films/2/'],\n",
       "   'created': '2014-12-15T12:22:12Z',\n",
       "   'edited': '2014-12-20T21:30:21.672000Z',\n",
       "   'url': 'https://swapi.dev/api/vehicles/14/'},\n",
       "  {'name': 'TIE bomber',\n",
       "   'model': 'TIE/sa bomber',\n",
       "   'manufacturer': 'Sienar Fleet Systems',\n",
       "   'cost_in_credits': 'unknown',\n",
       "   'length': '7.8',\n",
       "   'max_atmosphering_speed': '850',\n",
       "   'crew': '1',\n",
       "   'passengers': '0',\n",
       "   'cargo_capacity': 'none',\n",
       "   'consumables': '2 days',\n",
       "   'vehicle_class': 'space/planetary bomber',\n",
       "   'pilots': [],\n",
       "   'films': ['https://swapi.dev/api/films/2/',\n",
       "    'https://swapi.dev/api/films/3/'],\n",
       "   'created': '2014-12-15T12:33:15.838000Z',\n",
       "   'edited': '2014-12-20T21:30:21.675000Z',\n",
       "   'url': 'https://swapi.dev/api/vehicles/16/'},\n",
       "  {'name': 'AT-AT',\n",
       "   'model': 'All Terrain Armored Transport',\n",
       "   'manufacturer': 'Kuat Drive Yards, Imperial Department of Military Research',\n",
       "   'cost_in_credits': 'unknown',\n",
       "   'length': '20',\n",
       "   'max_atmosphering_speed': '60',\n",
       "   'crew': '5',\n",
       "   'passengers': '40',\n",
       "   'cargo_capacity': '1000',\n",
       "   'consumables': 'unknown',\n",
       "   'vehicle_class': 'assault walker',\n",
       "   'pilots': [],\n",
       "   'films': ['https://swapi.dev/api/films/2/',\n",
       "    'https://swapi.dev/api/films/3/'],\n",
       "   'created': '2014-12-15T12:38:25.937000Z',\n",
       "   'edited': '2014-12-20T21:30:21.677000Z',\n",
       "   'url': 'https://swapi.dev/api/vehicles/18/'},\n",
       "  {'name': 'AT-ST',\n",
       "   'model': 'All Terrain Scout Transport',\n",
       "   'manufacturer': 'Kuat Drive Yards, Imperial Department of Military Research',\n",
       "   'cost_in_credits': 'unknown',\n",
       "   'length': '2',\n",
       "   'max_atmosphering_speed': '90',\n",
       "   'crew': '2',\n",
       "   'passengers': '0',\n",
       "   'cargo_capacity': '200',\n",
       "   'consumables': 'none',\n",
       "   'vehicle_class': 'walker',\n",
       "   'pilots': ['https://swapi.dev/api/people/13/'],\n",
       "   'films': ['https://swapi.dev/api/films/2/',\n",
       "    'https://swapi.dev/api/films/3/'],\n",
       "   'created': '2014-12-15T12:46:42.384000Z',\n",
       "   'edited': '2014-12-20T21:30:21.679000Z',\n",
       "   'url': 'https://swapi.dev/api/vehicles/19/'},\n",
       "  {'name': 'Storm IV Twin-Pod cloud car',\n",
       "   'model': 'Storm IV Twin-Pod',\n",
       "   'manufacturer': 'Bespin Motors',\n",
       "   'cost_in_credits': '75000',\n",
       "   'length': '7',\n",
       "   'max_atmosphering_speed': '1500',\n",
       "   'crew': '2',\n",
       "   'passengers': '0',\n",
       "   'cargo_capacity': '10',\n",
       "   'consumables': '1 day',\n",
       "   'vehicle_class': 'repulsorcraft',\n",
       "   'pilots': [],\n",
       "   'films': ['https://swapi.dev/api/films/2/'],\n",
       "   'created': '2014-12-15T12:58:50.530000Z',\n",
       "   'edited': '2014-12-20T21:30:21.681000Z',\n",
       "   'url': 'https://swapi.dev/api/vehicles/20/'},\n",
       "  {'name': 'Sail barge',\n",
       "   'model': 'Modified Luxury Sail Barge',\n",
       "   'manufacturer': 'Ubrikkian Industries Custom Vehicle Division',\n",
       "   'cost_in_credits': '285000',\n",
       "   'length': '30',\n",
       "   'max_atmosphering_speed': '100',\n",
       "   'crew': '26',\n",
       "   'passengers': '500',\n",
       "   'cargo_capacity': '2000000',\n",
       "   'consumables': 'Live food tanks',\n",
       "   'vehicle_class': 'sail barge',\n",
       "   'pilots': [],\n",
       "   'films': ['https://swapi.dev/api/films/3/'],\n",
       "   'created': '2014-12-18T10:44:14.217000Z',\n",
       "   'edited': '2014-12-20T21:30:21.684000Z',\n",
       "   'url': 'https://swapi.dev/api/vehicles/24/'}]}"
      ]
     },
     "execution_count": 95,
     "metadata": {},
     "output_type": "execute_result"
    }
   ],
   "source": [
    "vehicles_json = requests.get(\"http://swapi.dev/api/vehicles\").json()\n",
    "vehicles_json"
   ]
  },
  {
   "cell_type": "code",
   "execution_count": 96,
   "metadata": {},
   "outputs": [
    {
     "data": {
      "text/plain": [
       "dict_keys(['count', 'next', 'previous', 'results'])"
      ]
     },
     "execution_count": 96,
     "metadata": {},
     "output_type": "execute_result"
    }
   ],
   "source": [
    "vehicles_json.keys()"
   ]
  },
  {
   "cell_type": "markdown",
   "metadata": {},
   "source": [
    "Looks like the actual data is stored in a key called `results`"
   ]
  },
  {
   "cell_type": "code",
   "execution_count": 97,
   "metadata": {},
   "outputs": [
    {
     "data": {
      "text/plain": [
       "[{'name': 'Sand Crawler',\n",
       "  'model': 'Digger Crawler',\n",
       "  'manufacturer': 'Corellia Mining Corporation',\n",
       "  'cost_in_credits': '150000',\n",
       "  'length': '36.8 ',\n",
       "  'max_atmosphering_speed': '30',\n",
       "  'crew': '46',\n",
       "  'passengers': '30',\n",
       "  'cargo_capacity': '50000',\n",
       "  'consumables': '2 months',\n",
       "  'vehicle_class': 'wheeled',\n",
       "  'pilots': [],\n",
       "  'films': ['https://swapi.dev/api/films/1/',\n",
       "   'https://swapi.dev/api/films/5/'],\n",
       "  'created': '2014-12-10T15:36:25.724000Z',\n",
       "  'edited': '2014-12-20T21:30:21.661000Z',\n",
       "  'url': 'https://swapi.dev/api/vehicles/4/'},\n",
       " {'name': 'T-16 skyhopper',\n",
       "  'model': 'T-16 skyhopper',\n",
       "  'manufacturer': 'Incom Corporation',\n",
       "  'cost_in_credits': '14500',\n",
       "  'length': '10.4 ',\n",
       "  'max_atmosphering_speed': '1200',\n",
       "  'crew': '1',\n",
       "  'passengers': '1',\n",
       "  'cargo_capacity': '50',\n",
       "  'consumables': '0',\n",
       "  'vehicle_class': 'repulsorcraft',\n",
       "  'pilots': [],\n",
       "  'films': ['https://swapi.dev/api/films/1/'],\n",
       "  'created': '2014-12-10T16:01:52.434000Z',\n",
       "  'edited': '2014-12-20T21:30:21.665000Z',\n",
       "  'url': 'https://swapi.dev/api/vehicles/6/'},\n",
       " {'name': 'X-34 landspeeder',\n",
       "  'model': 'X-34 landspeeder',\n",
       "  'manufacturer': 'SoroSuub Corporation',\n",
       "  'cost_in_credits': '10550',\n",
       "  'length': '3.4 ',\n",
       "  'max_atmosphering_speed': '250',\n",
       "  'crew': '1',\n",
       "  'passengers': '1',\n",
       "  'cargo_capacity': '5',\n",
       "  'consumables': 'unknown',\n",
       "  'vehicle_class': 'repulsorcraft',\n",
       "  'pilots': [],\n",
       "  'films': ['https://swapi.dev/api/films/1/'],\n",
       "  'created': '2014-12-10T16:13:52.586000Z',\n",
       "  'edited': '2014-12-20T21:30:21.668000Z',\n",
       "  'url': 'https://swapi.dev/api/vehicles/7/'},\n",
       " {'name': 'TIE/LN starfighter',\n",
       "  'model': 'Twin Ion Engine/Ln Starfighter',\n",
       "  'manufacturer': 'Sienar Fleet Systems',\n",
       "  'cost_in_credits': 'unknown',\n",
       "  'length': '6.4',\n",
       "  'max_atmosphering_speed': '1200',\n",
       "  'crew': '1',\n",
       "  'passengers': '0',\n",
       "  'cargo_capacity': '65',\n",
       "  'consumables': '2 days',\n",
       "  'vehicle_class': 'starfighter',\n",
       "  'pilots': [],\n",
       "  'films': ['https://swapi.dev/api/films/1/',\n",
       "   'https://swapi.dev/api/films/2/',\n",
       "   'https://swapi.dev/api/films/3/'],\n",
       "  'created': '2014-12-10T16:33:52.860000Z',\n",
       "  'edited': '2014-12-20T21:30:21.670000Z',\n",
       "  'url': 'https://swapi.dev/api/vehicles/8/'},\n",
       " {'name': 'Snowspeeder',\n",
       "  'model': 't-47 airspeeder',\n",
       "  'manufacturer': 'Incom corporation',\n",
       "  'cost_in_credits': 'unknown',\n",
       "  'length': '4.5',\n",
       "  'max_atmosphering_speed': '650',\n",
       "  'crew': '2',\n",
       "  'passengers': '0',\n",
       "  'cargo_capacity': '10',\n",
       "  'consumables': 'none',\n",
       "  'vehicle_class': 'airspeeder',\n",
       "  'pilots': ['https://swapi.dev/api/people/1/',\n",
       "   'https://swapi.dev/api/people/18/'],\n",
       "  'films': ['https://swapi.dev/api/films/2/'],\n",
       "  'created': '2014-12-15T12:22:12Z',\n",
       "  'edited': '2014-12-20T21:30:21.672000Z',\n",
       "  'url': 'https://swapi.dev/api/vehicles/14/'},\n",
       " {'name': 'TIE bomber',\n",
       "  'model': 'TIE/sa bomber',\n",
       "  'manufacturer': 'Sienar Fleet Systems',\n",
       "  'cost_in_credits': 'unknown',\n",
       "  'length': '7.8',\n",
       "  'max_atmosphering_speed': '850',\n",
       "  'crew': '1',\n",
       "  'passengers': '0',\n",
       "  'cargo_capacity': 'none',\n",
       "  'consumables': '2 days',\n",
       "  'vehicle_class': 'space/planetary bomber',\n",
       "  'pilots': [],\n",
       "  'films': ['https://swapi.dev/api/films/2/',\n",
       "   'https://swapi.dev/api/films/3/'],\n",
       "  'created': '2014-12-15T12:33:15.838000Z',\n",
       "  'edited': '2014-12-20T21:30:21.675000Z',\n",
       "  'url': 'https://swapi.dev/api/vehicles/16/'},\n",
       " {'name': 'AT-AT',\n",
       "  'model': 'All Terrain Armored Transport',\n",
       "  'manufacturer': 'Kuat Drive Yards, Imperial Department of Military Research',\n",
       "  'cost_in_credits': 'unknown',\n",
       "  'length': '20',\n",
       "  'max_atmosphering_speed': '60',\n",
       "  'crew': '5',\n",
       "  'passengers': '40',\n",
       "  'cargo_capacity': '1000',\n",
       "  'consumables': 'unknown',\n",
       "  'vehicle_class': 'assault walker',\n",
       "  'pilots': [],\n",
       "  'films': ['https://swapi.dev/api/films/2/',\n",
       "   'https://swapi.dev/api/films/3/'],\n",
       "  'created': '2014-12-15T12:38:25.937000Z',\n",
       "  'edited': '2014-12-20T21:30:21.677000Z',\n",
       "  'url': 'https://swapi.dev/api/vehicles/18/'},\n",
       " {'name': 'AT-ST',\n",
       "  'model': 'All Terrain Scout Transport',\n",
       "  'manufacturer': 'Kuat Drive Yards, Imperial Department of Military Research',\n",
       "  'cost_in_credits': 'unknown',\n",
       "  'length': '2',\n",
       "  'max_atmosphering_speed': '90',\n",
       "  'crew': '2',\n",
       "  'passengers': '0',\n",
       "  'cargo_capacity': '200',\n",
       "  'consumables': 'none',\n",
       "  'vehicle_class': 'walker',\n",
       "  'pilots': ['https://swapi.dev/api/people/13/'],\n",
       "  'films': ['https://swapi.dev/api/films/2/',\n",
       "   'https://swapi.dev/api/films/3/'],\n",
       "  'created': '2014-12-15T12:46:42.384000Z',\n",
       "  'edited': '2014-12-20T21:30:21.679000Z',\n",
       "  'url': 'https://swapi.dev/api/vehicles/19/'},\n",
       " {'name': 'Storm IV Twin-Pod cloud car',\n",
       "  'model': 'Storm IV Twin-Pod',\n",
       "  'manufacturer': 'Bespin Motors',\n",
       "  'cost_in_credits': '75000',\n",
       "  'length': '7',\n",
       "  'max_atmosphering_speed': '1500',\n",
       "  'crew': '2',\n",
       "  'passengers': '0',\n",
       "  'cargo_capacity': '10',\n",
       "  'consumables': '1 day',\n",
       "  'vehicle_class': 'repulsorcraft',\n",
       "  'pilots': [],\n",
       "  'films': ['https://swapi.dev/api/films/2/'],\n",
       "  'created': '2014-12-15T12:58:50.530000Z',\n",
       "  'edited': '2014-12-20T21:30:21.681000Z',\n",
       "  'url': 'https://swapi.dev/api/vehicles/20/'},\n",
       " {'name': 'Sail barge',\n",
       "  'model': 'Modified Luxury Sail Barge',\n",
       "  'manufacturer': 'Ubrikkian Industries Custom Vehicle Division',\n",
       "  'cost_in_credits': '285000',\n",
       "  'length': '30',\n",
       "  'max_atmosphering_speed': '100',\n",
       "  'crew': '26',\n",
       "  'passengers': '500',\n",
       "  'cargo_capacity': '2000000',\n",
       "  'consumables': 'Live food tanks',\n",
       "  'vehicle_class': 'sail barge',\n",
       "  'pilots': [],\n",
       "  'films': ['https://swapi.dev/api/films/3/'],\n",
       "  'created': '2014-12-18T10:44:14.217000Z',\n",
       "  'edited': '2014-12-20T21:30:21.684000Z',\n",
       "  'url': 'https://swapi.dev/api/vehicles/24/'}]"
      ]
     },
     "execution_count": 97,
     "metadata": {},
     "output_type": "execute_result"
    }
   ],
   "source": [
    "vehicles_json[\"results\"]"
   ]
  },
  {
   "cell_type": "markdown",
   "metadata": {},
   "source": [
    "Which is a Python list"
   ]
  },
  {
   "cell_type": "code",
   "execution_count": 98,
   "metadata": {},
   "outputs": [
    {
     "data": {
      "text/plain": [
       "list"
      ]
     },
     "execution_count": 98,
     "metadata": {},
     "output_type": "execute_result"
    }
   ],
   "source": [
    "type(vehicles_json[\"results\"])"
   ]
  },
  {
   "cell_type": "markdown",
   "metadata": {},
   "source": [
    "Working with JSON and dictionaries is great because it's very standardised, but it's not a very pretty data format to work with. \n",
    "\n",
    "Ideally we want a way of working with this data in Python using `pandas`.\n",
    "\n",
    "Let's take a look at how easy it is to convert JSON/dictionaries into a ```DataFrame```."
   ]
  },
  {
   "cell_type": "code",
   "execution_count": 99,
   "metadata": {},
   "outputs": [
    {
     "data": {
      "text/html": [
       "<div>\n",
       "<style scoped>\n",
       "    .dataframe tbody tr th:only-of-type {\n",
       "        vertical-align: middle;\n",
       "    }\n",
       "\n",
       "    .dataframe tbody tr th {\n",
       "        vertical-align: top;\n",
       "    }\n",
       "\n",
       "    .dataframe thead th {\n",
       "        text-align: right;\n",
       "    }\n",
       "</style>\n",
       "<table border=\"1\" class=\"dataframe\">\n",
       "  <thead>\n",
       "    <tr style=\"text-align: right;\">\n",
       "      <th></th>\n",
       "      <th>name</th>\n",
       "      <th>model</th>\n",
       "      <th>manufacturer</th>\n",
       "      <th>cost_in_credits</th>\n",
       "      <th>length</th>\n",
       "      <th>max_atmosphering_speed</th>\n",
       "      <th>crew</th>\n",
       "      <th>passengers</th>\n",
       "      <th>cargo_capacity</th>\n",
       "      <th>consumables</th>\n",
       "      <th>vehicle_class</th>\n",
       "      <th>pilots</th>\n",
       "      <th>films</th>\n",
       "      <th>created</th>\n",
       "      <th>edited</th>\n",
       "      <th>url</th>\n",
       "    </tr>\n",
       "  </thead>\n",
       "  <tbody>\n",
       "    <tr>\n",
       "      <th>0</th>\n",
       "      <td>Sand Crawler</td>\n",
       "      <td>Digger Crawler</td>\n",
       "      <td>Corellia Mining Corporation</td>\n",
       "      <td>150000</td>\n",
       "      <td>36.8</td>\n",
       "      <td>30</td>\n",
       "      <td>46</td>\n",
       "      <td>30</td>\n",
       "      <td>50000</td>\n",
       "      <td>2 months</td>\n",
       "      <td>wheeled</td>\n",
       "      <td>[]</td>\n",
       "      <td>[https://swapi.dev/api/films/1/, https://swapi...</td>\n",
       "      <td>2014-12-10T15:36:25.724000Z</td>\n",
       "      <td>2014-12-20T21:30:21.661000Z</td>\n",
       "      <td>https://swapi.dev/api/vehicles/4/</td>\n",
       "    </tr>\n",
       "    <tr>\n",
       "      <th>1</th>\n",
       "      <td>T-16 skyhopper</td>\n",
       "      <td>T-16 skyhopper</td>\n",
       "      <td>Incom Corporation</td>\n",
       "      <td>14500</td>\n",
       "      <td>10.4</td>\n",
       "      <td>1200</td>\n",
       "      <td>1</td>\n",
       "      <td>1</td>\n",
       "      <td>50</td>\n",
       "      <td>0</td>\n",
       "      <td>repulsorcraft</td>\n",
       "      <td>[]</td>\n",
       "      <td>[https://swapi.dev/api/films/1/]</td>\n",
       "      <td>2014-12-10T16:01:52.434000Z</td>\n",
       "      <td>2014-12-20T21:30:21.665000Z</td>\n",
       "      <td>https://swapi.dev/api/vehicles/6/</td>\n",
       "    </tr>\n",
       "    <tr>\n",
       "      <th>2</th>\n",
       "      <td>X-34 landspeeder</td>\n",
       "      <td>X-34 landspeeder</td>\n",
       "      <td>SoroSuub Corporation</td>\n",
       "      <td>10550</td>\n",
       "      <td>3.4</td>\n",
       "      <td>250</td>\n",
       "      <td>1</td>\n",
       "      <td>1</td>\n",
       "      <td>5</td>\n",
       "      <td>unknown</td>\n",
       "      <td>repulsorcraft</td>\n",
       "      <td>[]</td>\n",
       "      <td>[https://swapi.dev/api/films/1/]</td>\n",
       "      <td>2014-12-10T16:13:52.586000Z</td>\n",
       "      <td>2014-12-20T21:30:21.668000Z</td>\n",
       "      <td>https://swapi.dev/api/vehicles/7/</td>\n",
       "    </tr>\n",
       "    <tr>\n",
       "      <th>3</th>\n",
       "      <td>TIE/LN starfighter</td>\n",
       "      <td>Twin Ion Engine/Ln Starfighter</td>\n",
       "      <td>Sienar Fleet Systems</td>\n",
       "      <td>unknown</td>\n",
       "      <td>6.4</td>\n",
       "      <td>1200</td>\n",
       "      <td>1</td>\n",
       "      <td>0</td>\n",
       "      <td>65</td>\n",
       "      <td>2 days</td>\n",
       "      <td>starfighter</td>\n",
       "      <td>[]</td>\n",
       "      <td>[https://swapi.dev/api/films/1/, https://swapi...</td>\n",
       "      <td>2014-12-10T16:33:52.860000Z</td>\n",
       "      <td>2014-12-20T21:30:21.670000Z</td>\n",
       "      <td>https://swapi.dev/api/vehicles/8/</td>\n",
       "    </tr>\n",
       "    <tr>\n",
       "      <th>4</th>\n",
       "      <td>Snowspeeder</td>\n",
       "      <td>t-47 airspeeder</td>\n",
       "      <td>Incom corporation</td>\n",
       "      <td>unknown</td>\n",
       "      <td>4.5</td>\n",
       "      <td>650</td>\n",
       "      <td>2</td>\n",
       "      <td>0</td>\n",
       "      <td>10</td>\n",
       "      <td>none</td>\n",
       "      <td>airspeeder</td>\n",
       "      <td>[https://swapi.dev/api/people/1/, https://swap...</td>\n",
       "      <td>[https://swapi.dev/api/films/2/]</td>\n",
       "      <td>2014-12-15T12:22:12Z</td>\n",
       "      <td>2014-12-20T21:30:21.672000Z</td>\n",
       "      <td>https://swapi.dev/api/vehicles/14/</td>\n",
       "    </tr>\n",
       "  </tbody>\n",
       "</table>\n",
       "</div>"
      ],
      "text/plain": [
       "                 name                           model  \\\n",
       "0        Sand Crawler                  Digger Crawler   \n",
       "1      T-16 skyhopper                  T-16 skyhopper   \n",
       "2    X-34 landspeeder                X-34 landspeeder   \n",
       "3  TIE/LN starfighter  Twin Ion Engine/Ln Starfighter   \n",
       "4         Snowspeeder                 t-47 airspeeder   \n",
       "\n",
       "                  manufacturer cost_in_credits length max_atmosphering_speed  \\\n",
       "0  Corellia Mining Corporation          150000  36.8                      30   \n",
       "1            Incom Corporation           14500  10.4                    1200   \n",
       "2         SoroSuub Corporation           10550   3.4                     250   \n",
       "3         Sienar Fleet Systems         unknown    6.4                   1200   \n",
       "4            Incom corporation         unknown    4.5                    650   \n",
       "\n",
       "  crew passengers cargo_capacity consumables  vehicle_class  \\\n",
       "0   46         30          50000    2 months        wheeled   \n",
       "1    1          1             50           0  repulsorcraft   \n",
       "2    1          1              5     unknown  repulsorcraft   \n",
       "3    1          0             65      2 days    starfighter   \n",
       "4    2          0             10        none     airspeeder   \n",
       "\n",
       "                                              pilots  \\\n",
       "0                                                 []   \n",
       "1                                                 []   \n",
       "2                                                 []   \n",
       "3                                                 []   \n",
       "4  [https://swapi.dev/api/people/1/, https://swap...   \n",
       "\n",
       "                                               films  \\\n",
       "0  [https://swapi.dev/api/films/1/, https://swapi...   \n",
       "1                   [https://swapi.dev/api/films/1/]   \n",
       "2                   [https://swapi.dev/api/films/1/]   \n",
       "3  [https://swapi.dev/api/films/1/, https://swapi...   \n",
       "4                   [https://swapi.dev/api/films/2/]   \n",
       "\n",
       "                       created                       edited  \\\n",
       "0  2014-12-10T15:36:25.724000Z  2014-12-20T21:30:21.661000Z   \n",
       "1  2014-12-10T16:01:52.434000Z  2014-12-20T21:30:21.665000Z   \n",
       "2  2014-12-10T16:13:52.586000Z  2014-12-20T21:30:21.668000Z   \n",
       "3  2014-12-10T16:33:52.860000Z  2014-12-20T21:30:21.670000Z   \n",
       "4         2014-12-15T12:22:12Z  2014-12-20T21:30:21.672000Z   \n",
       "\n",
       "                                  url  \n",
       "0   https://swapi.dev/api/vehicles/4/  \n",
       "1   https://swapi.dev/api/vehicles/6/  \n",
       "2   https://swapi.dev/api/vehicles/7/  \n",
       "3   https://swapi.dev/api/vehicles/8/  \n",
       "4  https://swapi.dev/api/vehicles/14/  "
      ]
     },
     "execution_count": 99,
     "metadata": {},
     "output_type": "execute_result"
    }
   ],
   "source": [
    "import pandas as pd\n",
    "\n",
    "vehicles = pd.DataFrame(vehicles_json[\"results\"])\n",
    "vehicles.head()"
   ]
  },
  {
   "cell_type": "markdown",
   "metadata": {},
   "source": [
    "Because `vehicles_json[\"results\"]` is a list of dictionaries (that correspond to individual entries in a table) we can use the list to initialise a DataFrame, and the right column names will be picked up. We can then analyse this data like any other!\n",
    "\n",
    "Just beware that the only problem is the data will be all strings by default!"
   ]
  },
  {
   "cell_type": "markdown",
   "metadata": {},
   "source": [
    "# <font color='blue'> API parameters\n",
    "    \n",
    "To allow more targeted data access, most APIs have additional *parameters* you can use to filter the results accordingly.\n",
    "    \n",
    "According to the API documentation _\"All resources support a search parameter that filters the set of resources returned.\"_ and the [vehicles API documentation](https://swapi.dev/documentation#vehicles) tells us we can search on the `name` field (i.e. search for a vehicle by name).\n",
    "    \n",
    "In most cases it is as simple as appending the parameters to the end of the url:"
   ]
  },
  {
   "cell_type": "code",
   "execution_count": 107,
   "metadata": {},
   "outputs": [
    {
     "data": {
      "text/plain": [
       "[{'name': 'Sand Crawler',\n",
       "  'model': 'Digger Crawler',\n",
       "  'manufacturer': 'Corellia Mining Corporation',\n",
       "  'cost_in_credits': '150000',\n",
       "  'length': '36.8 ',\n",
       "  'max_atmosphering_speed': '30',\n",
       "  'crew': '46',\n",
       "  'passengers': '30',\n",
       "  'cargo_capacity': '50000',\n",
       "  'consumables': '2 months',\n",
       "  'vehicle_class': 'wheeled',\n",
       "  'pilots': [],\n",
       "  'films': ['https://swapi.dev/api/films/1/',\n",
       "   'https://swapi.dev/api/films/5/'],\n",
       "  'created': '2014-12-10T15:36:25.724000Z',\n",
       "  'edited': '2014-12-20T21:30:21.661000Z',\n",
       "  'url': 'https://swapi.dev/api/vehicles/4/'}]"
      ]
     },
     "execution_count": 107,
     "metadata": {},
     "output_type": "execute_result"
    }
   ],
   "source": [
    "specific_vehicle_url = \"https://swapi.dev/api/vehicles?search=Sand\"\n",
    "requests.get(specific_vehicle_url).json()[\"results\"]"
   ]
  },
  {
   "cell_type": "markdown",
   "metadata": {},
   "source": [
    "The `?` separates the url from the parameters, which are specified in a `key=value` format (separated by an `&` if we use multiple parameters)"
   ]
  },
  {
   "cell_type": "markdown",
   "metadata": {},
   "source": [
    "## <font color='red'> Exercise 2: Star Wars\n",
    "\n",
    "Now let's use our knowledge of APIs to explore some data about the different species within the Star Wars universe.\n",
    "\n",
    "Here is the specific documentation: [Species API](https://swapi.dev/documentation#species)\n",
    "    \n",
    "First identify the correct url for the `species` API and return some results:"
   ]
  },
  {
   "cell_type": "code",
   "execution_count": 109,
   "metadata": {},
   "outputs": [],
   "source": [
    "species_url ='https://swapi.dev/api/species/'\n",
    "species_result = requests.get(species_url)\n",
    "species_result.raise_for_status()"
   ]
  },
  {
   "cell_type": "markdown",
   "metadata": {},
   "source": [
    "Create a variable that contains the JSON only"
   ]
  },
  {
   "cell_type": "code",
   "execution_count": 110,
   "metadata": {},
   "outputs": [
    {
     "data": {
      "text/plain": [
       "{'count': 37,\n",
       " 'next': 'https://swapi.dev/api/species/?page=2',\n",
       " 'previous': None,\n",
       " 'results': [{'name': 'Human',\n",
       "   'classification': 'mammal',\n",
       "   'designation': 'sentient',\n",
       "   'average_height': '180',\n",
       "   'skin_colors': 'caucasian, black, asian, hispanic',\n",
       "   'hair_colors': 'blonde, brown, black, red',\n",
       "   'eye_colors': 'brown, blue, green, hazel, grey, amber',\n",
       "   'average_lifespan': '120',\n",
       "   'homeworld': 'https://swapi.dev/api/planets/9/',\n",
       "   'language': 'Galactic Basic',\n",
       "   'people': ['https://swapi.dev/api/people/66/',\n",
       "    'https://swapi.dev/api/people/67/',\n",
       "    'https://swapi.dev/api/people/68/',\n",
       "    'https://swapi.dev/api/people/74/'],\n",
       "   'films': ['https://swapi.dev/api/films/1/',\n",
       "    'https://swapi.dev/api/films/2/',\n",
       "    'https://swapi.dev/api/films/3/',\n",
       "    'https://swapi.dev/api/films/4/',\n",
       "    'https://swapi.dev/api/films/5/',\n",
       "    'https://swapi.dev/api/films/6/'],\n",
       "   'created': '2014-12-10T13:52:11.567000Z',\n",
       "   'edited': '2014-12-20T21:36:42.136000Z',\n",
       "   'url': 'https://swapi.dev/api/species/1/'},\n",
       "  {'name': 'Droid',\n",
       "   'classification': 'artificial',\n",
       "   'designation': 'sentient',\n",
       "   'average_height': 'n/a',\n",
       "   'skin_colors': 'n/a',\n",
       "   'hair_colors': 'n/a',\n",
       "   'eye_colors': 'n/a',\n",
       "   'average_lifespan': 'indefinite',\n",
       "   'homeworld': None,\n",
       "   'language': 'n/a',\n",
       "   'people': ['https://swapi.dev/api/people/2/',\n",
       "    'https://swapi.dev/api/people/3/',\n",
       "    'https://swapi.dev/api/people/8/',\n",
       "    'https://swapi.dev/api/people/23/'],\n",
       "   'films': ['https://swapi.dev/api/films/1/',\n",
       "    'https://swapi.dev/api/films/2/',\n",
       "    'https://swapi.dev/api/films/3/',\n",
       "    'https://swapi.dev/api/films/4/',\n",
       "    'https://swapi.dev/api/films/5/',\n",
       "    'https://swapi.dev/api/films/6/'],\n",
       "   'created': '2014-12-10T15:16:16.259000Z',\n",
       "   'edited': '2014-12-20T21:36:42.139000Z',\n",
       "   'url': 'https://swapi.dev/api/species/2/'},\n",
       "  {'name': 'Wookie',\n",
       "   'classification': 'mammal',\n",
       "   'designation': 'sentient',\n",
       "   'average_height': '210',\n",
       "   'skin_colors': 'gray',\n",
       "   'hair_colors': 'black, brown',\n",
       "   'eye_colors': 'blue, green, yellow, brown, golden, red',\n",
       "   'average_lifespan': '400',\n",
       "   'homeworld': 'https://swapi.dev/api/planets/14/',\n",
       "   'language': 'Shyriiwook',\n",
       "   'people': ['https://swapi.dev/api/people/13/',\n",
       "    'https://swapi.dev/api/people/80/'],\n",
       "   'films': ['https://swapi.dev/api/films/1/',\n",
       "    'https://swapi.dev/api/films/2/',\n",
       "    'https://swapi.dev/api/films/3/',\n",
       "    'https://swapi.dev/api/films/6/'],\n",
       "   'created': '2014-12-10T16:44:31.486000Z',\n",
       "   'edited': '2014-12-20T21:36:42.142000Z',\n",
       "   'url': 'https://swapi.dev/api/species/3/'},\n",
       "  {'name': 'Rodian',\n",
       "   'classification': 'sentient',\n",
       "   'designation': 'reptilian',\n",
       "   'average_height': '170',\n",
       "   'skin_colors': 'green, blue',\n",
       "   'hair_colors': 'n/a',\n",
       "   'eye_colors': 'black',\n",
       "   'average_lifespan': 'unknown',\n",
       "   'homeworld': 'https://swapi.dev/api/planets/23/',\n",
       "   'language': 'Galatic Basic',\n",
       "   'people': ['https://swapi.dev/api/people/15/'],\n",
       "   'films': ['https://swapi.dev/api/films/1/'],\n",
       "   'created': '2014-12-10T17:05:26.471000Z',\n",
       "   'edited': '2014-12-20T21:36:42.144000Z',\n",
       "   'url': 'https://swapi.dev/api/species/4/'},\n",
       "  {'name': 'Hutt',\n",
       "   'classification': 'gastropod',\n",
       "   'designation': 'sentient',\n",
       "   'average_height': '300',\n",
       "   'skin_colors': 'green, brown, tan',\n",
       "   'hair_colors': 'n/a',\n",
       "   'eye_colors': 'yellow, red',\n",
       "   'average_lifespan': '1000',\n",
       "   'homeworld': 'https://swapi.dev/api/planets/24/',\n",
       "   'language': 'Huttese',\n",
       "   'people': ['https://swapi.dev/api/people/16/'],\n",
       "   'films': ['https://swapi.dev/api/films/1/',\n",
       "    'https://swapi.dev/api/films/3/'],\n",
       "   'created': '2014-12-10T17:12:50.410000Z',\n",
       "   'edited': '2014-12-20T21:36:42.146000Z',\n",
       "   'url': 'https://swapi.dev/api/species/5/'},\n",
       "  {'name': \"Yoda's species\",\n",
       "   'classification': 'mammal',\n",
       "   'designation': 'sentient',\n",
       "   'average_height': '66',\n",
       "   'skin_colors': 'green, yellow',\n",
       "   'hair_colors': 'brown, white',\n",
       "   'eye_colors': 'brown, green, yellow',\n",
       "   'average_lifespan': '900',\n",
       "   'homeworld': 'https://swapi.dev/api/planets/28/',\n",
       "   'language': 'Galactic basic',\n",
       "   'people': ['https://swapi.dev/api/people/20/'],\n",
       "   'films': ['https://swapi.dev/api/films/2/',\n",
       "    'https://swapi.dev/api/films/3/',\n",
       "    'https://swapi.dev/api/films/4/',\n",
       "    'https://swapi.dev/api/films/5/',\n",
       "    'https://swapi.dev/api/films/6/'],\n",
       "   'created': '2014-12-15T12:27:22.877000Z',\n",
       "   'edited': '2014-12-20T21:36:42.148000Z',\n",
       "   'url': 'https://swapi.dev/api/species/6/'},\n",
       "  {'name': 'Trandoshan',\n",
       "   'classification': 'reptile',\n",
       "   'designation': 'sentient',\n",
       "   'average_height': '200',\n",
       "   'skin_colors': 'brown, green',\n",
       "   'hair_colors': 'none',\n",
       "   'eye_colors': 'yellow, orange',\n",
       "   'average_lifespan': 'unknown',\n",
       "   'homeworld': 'https://swapi.dev/api/planets/29/',\n",
       "   'language': 'Dosh',\n",
       "   'people': ['https://swapi.dev/api/people/24/'],\n",
       "   'films': ['https://swapi.dev/api/films/2/'],\n",
       "   'created': '2014-12-15T13:07:47.704000Z',\n",
       "   'edited': '2014-12-20T21:36:42.151000Z',\n",
       "   'url': 'https://swapi.dev/api/species/7/'},\n",
       "  {'name': 'Mon Calamari',\n",
       "   'classification': 'amphibian',\n",
       "   'designation': 'sentient',\n",
       "   'average_height': '160',\n",
       "   'skin_colors': 'red, blue, brown, magenta',\n",
       "   'hair_colors': 'none',\n",
       "   'eye_colors': 'yellow',\n",
       "   'average_lifespan': 'unknown',\n",
       "   'homeworld': 'https://swapi.dev/api/planets/31/',\n",
       "   'language': 'Mon Calamarian',\n",
       "   'people': ['https://swapi.dev/api/people/27/'],\n",
       "   'films': ['https://swapi.dev/api/films/3/'],\n",
       "   'created': '2014-12-18T11:09:52.263000Z',\n",
       "   'edited': '2014-12-20T21:36:42.153000Z',\n",
       "   'url': 'https://swapi.dev/api/species/8/'},\n",
       "  {'name': 'Ewok',\n",
       "   'classification': 'mammal',\n",
       "   'designation': 'sentient',\n",
       "   'average_height': '100',\n",
       "   'skin_colors': 'brown',\n",
       "   'hair_colors': 'white, brown, black',\n",
       "   'eye_colors': 'orange, brown',\n",
       "   'average_lifespan': 'unknown',\n",
       "   'homeworld': 'https://swapi.dev/api/planets/7/',\n",
       "   'language': 'Ewokese',\n",
       "   'people': ['https://swapi.dev/api/people/30/'],\n",
       "   'films': ['https://swapi.dev/api/films/3/'],\n",
       "   'created': '2014-12-18T11:22:00.285000Z',\n",
       "   'edited': '2014-12-20T21:36:42.155000Z',\n",
       "   'url': 'https://swapi.dev/api/species/9/'},\n",
       "  {'name': 'Sullustan',\n",
       "   'classification': 'mammal',\n",
       "   'designation': 'sentient',\n",
       "   'average_height': '180',\n",
       "   'skin_colors': 'pale',\n",
       "   'hair_colors': 'none',\n",
       "   'eye_colors': 'black',\n",
       "   'average_lifespan': 'unknown',\n",
       "   'homeworld': 'https://swapi.dev/api/planets/33/',\n",
       "   'language': 'Sullutese',\n",
       "   'people': ['https://swapi.dev/api/people/31/'],\n",
       "   'films': ['https://swapi.dev/api/films/3/'],\n",
       "   'created': '2014-12-18T11:26:20.103000Z',\n",
       "   'edited': '2014-12-20T21:36:42.157000Z',\n",
       "   'url': 'https://swapi.dev/api/species/10/'}]}"
      ]
     },
     "execution_count": 110,
     "metadata": {},
     "output_type": "execute_result"
    }
   ],
   "source": [
    "species_json = species_result.json()\n",
    "species_json"
   ]
  },
  {
   "cell_type": "markdown",
   "metadata": {},
   "source": [
    "_Optional: put the results in a pandas DataFrame to see it as a table of data_"
   ]
  },
  {
   "cell_type": "code",
   "execution_count": 118,
   "metadata": {},
   "outputs": [
    {
     "data": {
      "text/html": [
       "<div>\n",
       "<style scoped>\n",
       "    .dataframe tbody tr th:only-of-type {\n",
       "        vertical-align: middle;\n",
       "    }\n",
       "\n",
       "    .dataframe tbody tr th {\n",
       "        vertical-align: top;\n",
       "    }\n",
       "\n",
       "    .dataframe thead th {\n",
       "        text-align: right;\n",
       "    }\n",
       "</style>\n",
       "<table border=\"1\" class=\"dataframe\">\n",
       "  <thead>\n",
       "    <tr style=\"text-align: right;\">\n",
       "      <th></th>\n",
       "      <th>name</th>\n",
       "      <th>classification</th>\n",
       "      <th>designation</th>\n",
       "      <th>average_height</th>\n",
       "      <th>skin_colors</th>\n",
       "      <th>hair_colors</th>\n",
       "      <th>eye_colors</th>\n",
       "      <th>average_lifespan</th>\n",
       "      <th>homeworld</th>\n",
       "      <th>language</th>\n",
       "      <th>people</th>\n",
       "      <th>films</th>\n",
       "      <th>created</th>\n",
       "      <th>edited</th>\n",
       "      <th>url</th>\n",
       "    </tr>\n",
       "  </thead>\n",
       "  <tbody>\n",
       "    <tr>\n",
       "      <th>0</th>\n",
       "      <td>Human</td>\n",
       "      <td>mammal</td>\n",
       "      <td>sentient</td>\n",
       "      <td>180</td>\n",
       "      <td>caucasian, black, asian, hispanic</td>\n",
       "      <td>blonde, brown, black, red</td>\n",
       "      <td>brown, blue, green, hazel, grey, amber</td>\n",
       "      <td>120</td>\n",
       "      <td>https://swapi.dev/api/planets/9/</td>\n",
       "      <td>Galactic Basic</td>\n",
       "      <td>[https://swapi.dev/api/people/66/, https://swa...</td>\n",
       "      <td>[https://swapi.dev/api/films/1/, https://swapi...</td>\n",
       "      <td>2014-12-10T13:52:11.567000Z</td>\n",
       "      <td>2014-12-20T21:36:42.136000Z</td>\n",
       "      <td>https://swapi.dev/api/species/1/</td>\n",
       "    </tr>\n",
       "    <tr>\n",
       "      <th>1</th>\n",
       "      <td>Droid</td>\n",
       "      <td>artificial</td>\n",
       "      <td>sentient</td>\n",
       "      <td>n/a</td>\n",
       "      <td>n/a</td>\n",
       "      <td>n/a</td>\n",
       "      <td>n/a</td>\n",
       "      <td>indefinite</td>\n",
       "      <td>None</td>\n",
       "      <td>n/a</td>\n",
       "      <td>[https://swapi.dev/api/people/2/, https://swap...</td>\n",
       "      <td>[https://swapi.dev/api/films/1/, https://swapi...</td>\n",
       "      <td>2014-12-10T15:16:16.259000Z</td>\n",
       "      <td>2014-12-20T21:36:42.139000Z</td>\n",
       "      <td>https://swapi.dev/api/species/2/</td>\n",
       "    </tr>\n",
       "    <tr>\n",
       "      <th>2</th>\n",
       "      <td>Wookie</td>\n",
       "      <td>mammal</td>\n",
       "      <td>sentient</td>\n",
       "      <td>210</td>\n",
       "      <td>gray</td>\n",
       "      <td>black, brown</td>\n",
       "      <td>blue, green, yellow, brown, golden, red</td>\n",
       "      <td>400</td>\n",
       "      <td>https://swapi.dev/api/planets/14/</td>\n",
       "      <td>Shyriiwook</td>\n",
       "      <td>[https://swapi.dev/api/people/13/, https://swa...</td>\n",
       "      <td>[https://swapi.dev/api/films/1/, https://swapi...</td>\n",
       "      <td>2014-12-10T16:44:31.486000Z</td>\n",
       "      <td>2014-12-20T21:36:42.142000Z</td>\n",
       "      <td>https://swapi.dev/api/species/3/</td>\n",
       "    </tr>\n",
       "    <tr>\n",
       "      <th>3</th>\n",
       "      <td>Rodian</td>\n",
       "      <td>sentient</td>\n",
       "      <td>reptilian</td>\n",
       "      <td>170</td>\n",
       "      <td>green, blue</td>\n",
       "      <td>n/a</td>\n",
       "      <td>black</td>\n",
       "      <td>unknown</td>\n",
       "      <td>https://swapi.dev/api/planets/23/</td>\n",
       "      <td>Galatic Basic</td>\n",
       "      <td>[https://swapi.dev/api/people/15/]</td>\n",
       "      <td>[https://swapi.dev/api/films/1/]</td>\n",
       "      <td>2014-12-10T17:05:26.471000Z</td>\n",
       "      <td>2014-12-20T21:36:42.144000Z</td>\n",
       "      <td>https://swapi.dev/api/species/4/</td>\n",
       "    </tr>\n",
       "    <tr>\n",
       "      <th>4</th>\n",
       "      <td>Hutt</td>\n",
       "      <td>gastropod</td>\n",
       "      <td>sentient</td>\n",
       "      <td>300</td>\n",
       "      <td>green, brown, tan</td>\n",
       "      <td>n/a</td>\n",
       "      <td>yellow, red</td>\n",
       "      <td>1000</td>\n",
       "      <td>https://swapi.dev/api/planets/24/</td>\n",
       "      <td>Huttese</td>\n",
       "      <td>[https://swapi.dev/api/people/16/]</td>\n",
       "      <td>[https://swapi.dev/api/films/1/, https://swapi...</td>\n",
       "      <td>2014-12-10T17:12:50.410000Z</td>\n",
       "      <td>2014-12-20T21:36:42.146000Z</td>\n",
       "      <td>https://swapi.dev/api/species/5/</td>\n",
       "    </tr>\n",
       "  </tbody>\n",
       "</table>\n",
       "</div>"
      ],
      "text/plain": [
       "     name classification designation average_height  \\\n",
       "0   Human         mammal    sentient            180   \n",
       "1   Droid     artificial    sentient            n/a   \n",
       "2  Wookie         mammal    sentient            210   \n",
       "3  Rodian       sentient   reptilian            170   \n",
       "4    Hutt      gastropod    sentient            300   \n",
       "\n",
       "                         skin_colors                hair_colors  \\\n",
       "0  caucasian, black, asian, hispanic  blonde, brown, black, red   \n",
       "1                                n/a                        n/a   \n",
       "2                               gray               black, brown   \n",
       "3                        green, blue                        n/a   \n",
       "4                  green, brown, tan                        n/a   \n",
       "\n",
       "                                eye_colors average_lifespan  \\\n",
       "0   brown, blue, green, hazel, grey, amber              120   \n",
       "1                                      n/a       indefinite   \n",
       "2  blue, green, yellow, brown, golden, red              400   \n",
       "3                                    black          unknown   \n",
       "4                              yellow, red             1000   \n",
       "\n",
       "                           homeworld        language  \\\n",
       "0   https://swapi.dev/api/planets/9/  Galactic Basic   \n",
       "1                               None             n/a   \n",
       "2  https://swapi.dev/api/planets/14/      Shyriiwook   \n",
       "3  https://swapi.dev/api/planets/23/   Galatic Basic   \n",
       "4  https://swapi.dev/api/planets/24/         Huttese   \n",
       "\n",
       "                                              people  \\\n",
       "0  [https://swapi.dev/api/people/66/, https://swa...   \n",
       "1  [https://swapi.dev/api/people/2/, https://swap...   \n",
       "2  [https://swapi.dev/api/people/13/, https://swa...   \n",
       "3                 [https://swapi.dev/api/people/15/]   \n",
       "4                 [https://swapi.dev/api/people/16/]   \n",
       "\n",
       "                                               films  \\\n",
       "0  [https://swapi.dev/api/films/1/, https://swapi...   \n",
       "1  [https://swapi.dev/api/films/1/, https://swapi...   \n",
       "2  [https://swapi.dev/api/films/1/, https://swapi...   \n",
       "3                   [https://swapi.dev/api/films/1/]   \n",
       "4  [https://swapi.dev/api/films/1/, https://swapi...   \n",
       "\n",
       "                       created                       edited  \\\n",
       "0  2014-12-10T13:52:11.567000Z  2014-12-20T21:36:42.136000Z   \n",
       "1  2014-12-10T15:16:16.259000Z  2014-12-20T21:36:42.139000Z   \n",
       "2  2014-12-10T16:44:31.486000Z  2014-12-20T21:36:42.142000Z   \n",
       "3  2014-12-10T17:05:26.471000Z  2014-12-20T21:36:42.144000Z   \n",
       "4  2014-12-10T17:12:50.410000Z  2014-12-20T21:36:42.146000Z   \n",
       "\n",
       "                                url  \n",
       "0  https://swapi.dev/api/species/1/  \n",
       "1  https://swapi.dev/api/species/2/  \n",
       "2  https://swapi.dev/api/species/3/  \n",
       "3  https://swapi.dev/api/species/4/  \n",
       "4  https://swapi.dev/api/species/5/  "
      ]
     },
     "execution_count": 118,
     "metadata": {},
     "output_type": "execute_result"
    }
   ],
   "source": [
    "species = pd.DataFrame(species_json[\"results\"])\n",
    "species.head()"
   ]
  },
  {
   "cell_type": "markdown",
   "metadata": {},
   "source": [
    "Use your knowledge of the returned JSON data, and Python dictionaries, to find out how many results you got. How many were you expecting based on the `count` returned in the API?"
   ]
  },
  {
   "cell_type": "code",
   "execution_count": 116,
   "metadata": {},
   "outputs": [
    {
     "name": "stdout",
     "output_type": "stream",
     "text": [
      "(10, 15)\n",
      "name                10\n",
      "classification      10\n",
      "designation         10\n",
      "average_height      10\n",
      "skin_colors         10\n",
      "hair_colors         10\n",
      "eye_colors          10\n",
      "average_lifespan    10\n",
      "homeworld            9\n",
      "language            10\n",
      "people              10\n",
      "films               10\n",
      "created             10\n",
      "edited              10\n",
      "url                 10\n",
      "dtype: int64\n"
     ]
    }
   ],
   "source": [
    "\n",
    "print(species.shape)\n",
    "\n",
    "print(species.count())"
   ]
  },
  {
   "cell_type": "markdown",
   "metadata": {},
   "source": [
    "Looks like the results are **paginated** meaning we can only get 10 results at a time.\n",
    "\n",
    "What is the url (including the parameter) to get the next page of results?"
   ]
  },
  {
   "cell_type": "code",
   "execution_count": 119,
   "metadata": {},
   "outputs": [
    {
     "data": {
      "text/plain": [
       "'https://swapi.dev/api/species/?page=2'"
      ]
     },
     "execution_count": 119,
     "metadata": {},
     "output_type": "execute_result"
    }
   ],
   "source": [
    "species_json['next']"
   ]
  },
  {
   "cell_type": "markdown",
   "metadata": {},
   "source": [
    "Let's collect all the species data now, by combining the paginated data.\n",
    "\n",
    "Write some code (or even a `for` loop if know how!) to get subsequent pages of results.\n",
    "\n",
    "You will need to:\n",
    "\n",
    "- change the relevant parameter each time to get the next page of results\n",
    "- for each page, store the results in a list\n",
    "- keep adding each page's worth of results to a \"master\" list of results (hint: you can use the `extend` method on a list)\n",
    "\n",
    "Verify that you have the correct number of records in your list."
   ]
  },
  {
   "cell_type": "code",
   "execution_count": 121,
   "metadata": {},
   "outputs": [
    {
     "name": "stdout",
     "output_type": "stream",
     "text": [
      "37\n"
     ]
    }
   ],
   "source": [
    "species_all_data = []\n",
    "\n",
    "page_1 = requests.get(\"http://swapi.dev/api/species?page=1\")\n",
    "page_1_data = page_1.json()[\"results\"]\n",
    "# print(\"page_1_data\", page_1_data)\n",
    "species_all_data.extend(page_1_data)\n",
    "\n",
    "page_2 = requests.get(\"http://swapi.dev/api/species?page=2\")\n",
    "page_2_data = page_2.json()[\"results\"]\n",
    "species_all_data.extend(page_2_data)\n",
    "\n",
    "page_3 = requests.get(\"http://swapi.dev/api/species?page=3\")\n",
    "page_3_data = page_3.json()[\"results\"]\n",
    "species_all_data.extend(page_3_data)\n",
    "\n",
    "page_4 = requests.get(\"http://swapi.dev/api/species?page=4\")\n",
    "page_4_data = page_4.json()[\"results\"]\n",
    "species_all_data.extend(page_4_data)\n",
    "\n",
    "print(len(species_all_data))"
   ]
  },
  {
   "cell_type": "code",
   "execution_count": 133,
   "metadata": {},
   "outputs": [
    {
     "name": "stdout",
     "output_type": "stream",
     "text": [
      "37\n"
     ]
    }
   ],
   "source": [
    "species_all_data = []\n",
    "\n",
    "for i in range(1,5):\n",
    "    species_url = f\"http://swapi.dev/api/species?page={i}\"\n",
    "    \n",
    "    species_result =  requests.get(species_url)\n",
    "    species_page_data = species_result.json()['results']\n",
    "    \n",
    "    species_all_data.extend(species_page_data)\n",
    "\n",
    "print(len(species_all_data))\n",
    "    \n",
    "    "
   ]
  },
  {
   "cell_type": "markdown",
   "metadata": {},
   "source": [
    "## <font color='blue'> Authentication</font>\n",
    "    \n",
    "In this exercise we will play around with a new API, published by Transport for London.\n",
    "    \n",
    "Unline the previous examples, this one requires authentication.\n",
    "\n",
    "Go to https://api-portal.tfl.gov.uk/signup and register your details, if you haven't already.\n",
    "\n",
    "Once your email has been verified, sign in and go to https://api-portal.tfl.gov.uk/product#product=2357355709892 to get a free API key that allows 500 requests per minute.\n",
    "\n",
    "Once you've successfully requested it, your API key can be retrieved from your profile: https://api-portal.tfl.gov.uk/profile. You'll need to click on \"show\" to actually show the key on the page.\n",
    "\n",
    "Now you've obtained your key, using it in this particular instance is as easy as appending a new parameter:"
   ]
  },
  {
   "cell_type": "code",
   "execution_count": null,
   "metadata": {},
   "outputs": [],
   "source": [
    "# for example, let's look at live disruption information\n",
    "url = \"https://api.tfl.gov.uk/Line/Mode/tube/Disruption\"\n",
    "\n",
    "# remember to keep this private!\n",
    "API_KEY = \"\"\n",
    "\n",
    "# append the API key\n",
    "tfl = requests.get(f\"{url}?app_key={API_KEY}\")\n",
    "\n",
    "print(tfl.status_code)\n",
    "tfl.json()"
   ]
  },
  {
   "cell_type": "markdown",
   "metadata": {},
   "source": [
    "## <font color='red'> Exercise 3: Transport for London</font>\n",
    "\n",
    "Now it's time to answer some research questions using the API.\n",
    "\n",
    "### 1. Are there currently any lift disruptions? If so, how many?\n",
    "\n",
    "First, read the documentation to find out the url to get data on lift disruptions."
   ]
  },
  {
   "cell_type": "code",
   "execution_count": null,
   "metadata": {},
   "outputs": [],
   "source": []
  },
  {
   "cell_type": "markdown",
   "metadata": {},
   "source": [
    "Using the url and its parameter(s) find out how many accidents happened in the years 2019, 2020, and 2021.\n",
    "\n",
    "Remember to include your API key!\n"
   ]
  },
  {
   "cell_type": "code",
   "execution_count": null,
   "metadata": {},
   "outputs": [],
   "source": []
  },
  {
   "cell_type": "markdown",
   "metadata": {},
   "source": [
    "### 2. How many bike points are there around Hyde Park?\n",
    "\n",
    "Find the API endpoint that lets you search for bike points by location, then use the string \"Hyde Park\" to answer the question.\n",
    "\n",
    "Remember to include your API key!"
   ]
  },
  {
   "cell_type": "code",
   "execution_count": null,
   "metadata": {},
   "outputs": [],
   "source": []
  },
  {
   "cell_type": "markdown",
   "metadata": {},
   "source": [
    "### 3. Find out how many stations there are along the Victoria line.\n",
    "\n",
    "First, identify the correct endpoint on the [Line page](https://api-portal.tfl.gov.uk/api-details#api=Line)\n",
    "\n",
    "Remember to include your API key!"
   ]
  },
  {
   "cell_type": "code",
   "execution_count": null,
   "metadata": {},
   "outputs": [],
   "source": []
  }
 ],
 "metadata": {
  "colab": {
   "name": "intro_to_python.ipynb",
   "provenance": []
  },
  "kernelspec": {
   "display_name": "Python 3",
   "language": "python",
   "name": "python3"
  },
  "language_info": {
   "codemirror_mode": {
    "name": "ipython",
    "version": 3
   },
   "file_extension": ".py",
   "mimetype": "text/x-python",
   "name": "python",
   "nbconvert_exporter": "python",
   "pygments_lexer": "ipython3",
   "version": "3.6.13"
  },
  "varInspector": {
   "cols": {
    "lenName": 16,
    "lenType": 16,
    "lenVar": 40
   },
   "kernels_config": {
    "python": {
     "delete_cmd_postfix": "",
     "delete_cmd_prefix": "del ",
     "library": "var_list.py",
     "varRefreshCmd": "print(var_dic_list())"
    },
    "r": {
     "delete_cmd_postfix": ") ",
     "delete_cmd_prefix": "rm(",
     "library": "var_list.r",
     "varRefreshCmd": "cat(var_dic_list()) "
    }
   },
   "types_to_exclude": [
    "module",
    "function",
    "builtin_function_or_method",
    "instance",
    "_Feature"
   ],
   "window_display": false
  }
 },
 "nbformat": 4,
 "nbformat_minor": 1
}
